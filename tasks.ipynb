{
 "cells": [
  {
   "cell_type": "markdown",
   "id": "ec917671",
   "metadata": {},
   "source": [
    "# Machine Learning and Statistics Tasks\n",
    "\n",
    "***"
   ]
  },
  {
   "cell_type": "markdown",
   "id": "d0698893",
   "metadata": {},
   "source": [
    "Roberto Vergano"
   ]
  },
  {
   "cell_type": "markdown",
   "id": "4aa9cf88",
   "metadata": {},
   "source": [
    "## Task 1. The Newton´s method\n",
    "\n",
    "***"
   ]
  },
  {
   "cell_type": "markdown",
   "id": "0610eb90",
   "metadata": {},
   "source": [
    "Square roots are difficult to calculate. In Python, you typically use the power operator (a double asterisk) or a package such\n",
    "as math. In this task,(1) you should write a function sqrt(x) to approximate the square root of a floating point number x without\n",
    "using the power operator or a package.\n",
    "\n",
    "Rather, you should use the Newton’s method.(2) Start with an 2 Square Roots via Newton’s Method. initial guess for the square root called z0. You then repeatedly improve it using the following formula, until the difference between\n",
    "some previous guess zi and the next zi+1 is less than some threshold, say 0.01."
   ]
  },
  {
   "cell_type": "code",
   "execution_count": 3,
   "id": "cf73f4a6",
   "metadata": {},
   "outputs": [
    {
     "data": {
      "text/latex": [
       "$\\displaystyle z_{i+1} = z_i - \\frac{{z_i*z_i - x}}{{2z_i}}$"
      ],
      "text/plain": [
       "<IPython.core.display.Math object>"
      ]
     },
     "metadata": {},
     "output_type": "display_data"
    }
   ],
   "source": [
    "# For LaTex code:\n",
    "from IPython.display import display, Math\n",
    "latex_code = r\"z_{i+1} = z_i - \\frac{{z_i*z_i - x}}{{2z_i}}\"\n",
    "display(Math(latex_code))"
   ]
  },
  {
   "cell_type": "markdown",
   "id": "16d8ab94",
   "metadata": {},
   "source": [
    "Where: \n",
    "\n",
    "zi = current estimate or iteration in the sequence.  \n",
    "zi+1 = next estimate or iteration in the sequence.  \n",
    "x = constant or parameter.  "
   ]
  },
  {
   "cell_type": "markdown",
   "id": "a3fd6dc2",
   "metadata": {},
   "source": [
    "**How does the formula work?**"
   ]
  },
  {
   "cell_type": "markdown",
   "id": "e52c8979",
   "metadata": {},
   "source": [
    "1. Initial guess,z0\n",
    "2. Iteration. For each iteration (i), the formula computes zi+1 from the current estimate zi.\n",
    "3. Convergence. This iteration repeats until zi+1 is close enough to zi. This means that the process is repeated until the root of the equation is approached."
   ]
  },
  {
   "cell_type": "code",
   "execution_count": 2,
   "id": "c0376219",
   "metadata": {},
   "outputs": [
    {
     "name": "stdout",
     "output_type": "stream",
     "text": [
      "The square root of 25.0 is approximately 5.0\n"
     ]
    }
   ],
   "source": [
    "# Function \"get_positive_float\" avoids the use of negative numbers as an input for the formula.\n",
    "# Using a while loop, the function asks the user for a positive floating number.\n",
    "def get_positive_float():\n",
    "    while True:\n",
    "        try:\n",
    "            x = float(input(\"Enter a positive floating number: \"))\n",
    "            if x > 0:\n",
    "                return x\n",
    "            else:\n",
    "                print(\"That is not a positive floating number. Please try again.\")\n",
    "        except ValueError:\n",
    "            print(\"Invalid input. Please enter a valid floating-point number.\")\n",
    "\n",
    "# Funtion \"sqrt\" takes the input from the user to calculate the square root using the Newton formula.\n",
    "def sqrt(x):\n",
    "    # Initial guess\n",
    "    z = x / 4.0\n",
    "\n",
    "    # Iterative approximation using Newton method. \n",
    "    for i in range(100):\n",
    "        z = z - (((z*z) - x) / (2*z))\n",
    "\n",
    "    return z\n",
    "\n",
    "# Get a positive floating-point number from the user\n",
    "x = get_positive_float()\n",
    "\n",
    "# Calculate and print the square root\n",
    "result = sqrt(x)\n",
    "print(f\"The square root of {x} is approximately {result}\")\n"
   ]
  },
  {
   "cell_type": "markdown",
   "id": "dcf5cf07",
   "metadata": {},
   "source": [
    "References\n",
    "\n",
    "1. A Tour of Go. Aug. 18, 2023. url: https://go.dev/tour/flowcontrol/8 (visited on 08/18/2023).\n",
    "2. Square Roots via Newton’s Method. Feb. 4, 2015. url: https://math.mit.edu/~stevenj/18.335/newtonsqrt. pdf (visited on 08/18/2023).\n"
   ]
  },
  {
   "cell_type": "markdown",
   "id": "b7852b6c",
   "metadata": {},
   "source": [
    "## Task 2. Chi squared test\n",
    "\n",
    "***"
   ]
  },
  {
   "cell_type": "markdown",
   "id": "f3d2dc6a",
   "metadata": {},
   "source": [
    "Consider the below contingency table based on a survey asking respondents whether they prefer coffee or tea and whether they prefer plain or chocolate biscuits. Use scipy.stats to perform a chi-squared test to see whether there is any evidence of an association between drink preference and biscuit preference in this instance."
   ]
  },
  {
   "cell_type": "markdown",
   "id": "de9f7ed1",
   "metadata": {},
   "source": [
    "To create the dataframe:"
   ]
  },
  {
   "cell_type": "code",
   "execution_count": 2,
   "id": "102b7f82",
   "metadata": {},
   "outputs": [
    {
     "data": {
      "text/html": [
       "<style type=\"text/css\">\n",
       "#T_3d894_row0_col0, #T_3d894_row0_col1, #T_3d894_row1_col0, #T_3d894_row1_col1 {\n",
       "  border: 1px solid black;\n",
       "}\n",
       "</style>\n",
       "<table id=\"T_3d894_\">\n",
       "  <thead>\n",
       "    <tr>\n",
       "      <th class=\"blank level0\" >&nbsp;</th>\n",
       "      <th class=\"col_heading level0 col0\" >Chocolate</th>\n",
       "      <th class=\"col_heading level0 col1\" >Plain</th>\n",
       "    </tr>\n",
       "  </thead>\n",
       "  <tbody>\n",
       "    <tr>\n",
       "      <th id=\"T_3d894_level0_row0\" class=\"row_heading level0 row0\" >Coffee</th>\n",
       "      <td id=\"T_3d894_row0_col0\" class=\"data row0 col0\" >43</td>\n",
       "      <td id=\"T_3d894_row0_col1\" class=\"data row0 col1\" >57</td>\n",
       "    </tr>\n",
       "    <tr>\n",
       "      <th id=\"T_3d894_level0_row1\" class=\"row_heading level0 row1\" >Tea</th>\n",
       "      <td id=\"T_3d894_row1_col0\" class=\"data row1 col0\" >56</td>\n",
       "      <td id=\"T_3d894_row1_col1\" class=\"data row1 col1\" >45</td>\n",
       "    </tr>\n",
       "  </tbody>\n",
       "</table>\n"
      ],
      "text/plain": [
       "<pandas.io.formats.style.Styler at 0x1ef1d8567c0>"
      ]
     },
     "execution_count": 2,
     "metadata": {},
     "output_type": "execute_result"
    }
   ],
   "source": [
    "import pandas as pd\n",
    "\n",
    "# Create a DataFrame\n",
    "data = {\n",
    "    'Chocolate': [43, 56],\n",
    "    'Plain': [57, 45]\n",
    "}\n",
    "\n",
    "index = ['Coffee', 'Tea']\n",
    "\n",
    "df = pd.DataFrame(data, index=index)\n",
    "\n",
    "# Define a style function to add borders for the table:\n",
    "def borders(s):\n",
    "    return f'border: 1px solid black;'\n",
    "\n",
    "# Apply the style function to the DataFrame\n",
    "df_border = df.style.applymap(borders)\n",
    "\n",
    "# Display the styled DataFrame\n",
    "df_border"
   ]
  },
  {
   "cell_type": "markdown",
   "id": "4c16cc61",
   "metadata": {},
   "source": [
    "For this table, we have 2 nominal variables:  \n",
    "- biscuits (chocolate/plain)  \n",
    "- drink (biscuits/tea)  "
   ]
  },
  {
   "cell_type": "markdown",
   "id": "b842733b",
   "metadata": {},
   "source": [
    "To calcule the chi-squared test we are going to transform the dataframe in a numpy array and then run the chi-squared test for contingency tables available in spicy.stats website.(1) Finally, we will compare the chi square results with and without the continuity correction."
   ]
  },
  {
   "cell_type": "code",
   "execution_count": 12,
   "id": "1f50bf9a",
   "metadata": {},
   "outputs": [
    {
     "name": "stdout",
     "output_type": "stream",
     "text": [
      "╒═══════════════════════╤═══════════════════════════╤════════════════════════════╕\n",
      "│       Statistic       │  Value (correction=True)  │  Value (correction=False)  │\n",
      "╞═══════════════════════╪═══════════════════════════╪════════════════════════════╡\n",
      "│ Chi-squared Statistic │    2.6359100836554257     │          3.11394           │\n",
      "├───────────────────────┼───────────────────────────┼────────────────────────────┤\n",
      "│        P-value        │    0.10447218120907394    │         0.0776251          │\n",
      "├───────────────────────┼───────────────────────────┼────────────────────────────┤\n",
      "│  Degrees of Freedom   │             1             │             1              │\n",
      "├───────────────────────┼───────────────────────────┼────────────────────────────┤\n",
      "│ Expected Frequencies  │                           │                            │\n",
      "├───────────────────────┼───────────────────────────┼────────────────────────────┤\n",
      "│                       │     49.25373134328358     │          49.2537           │\n",
      "├───────────────────────┼───────────────────────────┼────────────────────────────┤\n",
      "│                       │     50.74626865671642     │          50.7463           │\n",
      "├───────────────────────┼───────────────────────────┼────────────────────────────┤\n",
      "│                       │     49.74626865671642     │          49.7463           │\n",
      "├───────────────────────┼───────────────────────────┼────────────────────────────┤\n",
      "│                       │     51.25373134328358     │          51.2537           │\n",
      "╘═══════════════════════╧═══════════════════════════╧════════════════════════════╛\n"
     ]
    }
   ],
   "source": [
    "import numpy as np\n",
    "from scipy.stats import chi2_contingency\n",
    "from tabulate import tabulate\n",
    "\n",
    "# Create numpy array with the contingency table\n",
    "observed_data = np.array([[43, 57], [56, 45]])\n",
    "\n",
    "# chi-squared test with \"correction=True\"\n",
    "chi2_stat, p_val, dof, expected = chi2_contingency(observed_data, correction=True)\n",
    "\n",
    "# chi-squared test with \"correction=False\"\n",
    "chi2_stat_no_correction, p_val_no_correction, dof_no_correction, expected_no_correction = chi2_contingency(observed_data, correction=False)\n",
    "\n",
    "# To display the results in a table\n",
    "table_data = [\n",
    "    [\"Chi-squared Statistic\", chi2_stat, chi2_stat_no_correction],\n",
    "    [\"P-value\", p_val, p_val_no_correction],\n",
    "    [\"Degrees of Freedom\", dof, dof_no_correction],\n",
    "    [\"Expected Frequencies\", \"\"],\n",
    "    [\"\", expected[0, 0], expected_no_correction[0, 0]],\n",
    "    [\"\", expected[0, 1], expected_no_correction[0, 1]],\n",
    "    [\"\", expected[1, 0], expected_no_correction[1, 0]],\n",
    "    [\"\", expected[1, 1], expected_no_correction[1, 1]],\n",
    "]\n",
    "\n",
    "table = tabulate(table_data, headers=[\"Statistic\", \"Value (correction=True)\", \"Value (correction=False)\"], tablefmt=\"fancy_grid\", colalign=(\"center\", \"center\", \"center\"))\n",
    "\n",
    "print(table)"
   ]
  },
  {
   "cell_type": "markdown",
   "id": "97f81b37",
   "metadata": {},
   "source": [
    "Results:  \n",
    "1. Chi-squared Statistic: the results for both (correction = True/False) are significantly greater than zero. This may suggest no relationship between drink and biscuit preference. \n",
    "2. P-Value: assuming a P-Value =< 0.05 as stadistically significant, the results for both (correction = True/False) suggest no relationship between drink and biscuit preference.  \n",
    "3. Correction (True/False): the continuity correction does not seem to have much effect on the overall result. "
   ]
  },
  {
   "cell_type": "markdown",
   "id": "b5749e03",
   "metadata": {},
   "source": [
    "REFERENCES  \n",
    "1. https://docs.scipy.org/doc/scipy/reference/generated/scipy.stats.chi2_contingency.html  "
   ]
  },
  {
   "cell_type": "markdown",
   "id": "d2f8ecbc",
   "metadata": {},
   "source": [
    "## TASK 3. t-test\n",
    "\n",
    "***"
   ]
  },
  {
   "cell_type": "markdown",
   "id": "f2da52e4",
   "metadata": {},
   "source": [
    "Perform a t-test on the famous penguins data set to investigate whether there is evidence of a significant difference in the body mass of male and female gentoo penguins."
   ]
  },
  {
   "cell_type": "markdown",
   "id": "692a458e",
   "metadata": {},
   "source": [
    "The pinguins dataset was downloaded from https://github.com/mwaskom/seaborn-data/blob/master/penguins.csv"
   ]
  },
  {
   "cell_type": "markdown",
   "id": "1e5ac9df",
   "metadata": {},
   "source": [
    "First, we need to access the dataset using pandas. Then, we need to find the target columns and prepare the sample where we are going to perform the t-test."
   ]
  },
  {
   "cell_type": "code",
   "execution_count": 39,
   "id": "3c0b1db3",
   "metadata": {},
   "outputs": [],
   "source": [
    "# \"read_csv\" from pandas to open and read the dataset.\n",
    "import pandas as pd \n",
    "dt = pd.read_csv(\"datasets/penguins.csv\")"
   ]
  },
  {
   "cell_type": "code",
   "execution_count": 40,
   "id": "db7388e3",
   "metadata": {},
   "outputs": [
    {
     "name": "stdout",
     "output_type": "stream",
     "text": [
      "<class 'pandas.core.frame.DataFrame'>\n",
      "RangeIndex: 344 entries, 0 to 343\n",
      "Data columns (total 7 columns):\n",
      " #   Column             Non-Null Count  Dtype  \n",
      "---  ------             --------------  -----  \n",
      " 0   species            344 non-null    object \n",
      " 1   island             344 non-null    object \n",
      " 2   bill_length_mm     342 non-null    float64\n",
      " 3   bill_depth_mm      342 non-null    float64\n",
      " 4   flipper_length_mm  342 non-null    float64\n",
      " 5   body_mass_g        342 non-null    float64\n",
      " 6   sex                333 non-null    object \n",
      "dtypes: float64(4), object(3)\n",
      "memory usage: 18.9+ KB\n"
     ]
    }
   ],
   "source": [
    "# info () to see a summary of the dataset.\n",
    "dt.info()"
   ]
  },
  {
   "cell_type": "markdown",
   "id": "37ce4df3",
   "metadata": {},
   "source": [
    "Our target columns are 1 (\"species), 5 (\"body_mass_g\") and 6 (\"sex\"). Therefore, we need to extract our target population from the dataset (\"Gentoo penguins\"). Then separate by sex and select the parameter we want to test (\"body_mass\") "
   ]
  },
  {
   "cell_type": "code",
   "execution_count": 53,
   "id": "19ad4e4e",
   "metadata": {},
   "outputs": [
    {
     "data": {
      "text/plain": [
       "count        344\n",
       "unique         3\n",
       "top       Adelie\n",
       "freq         152\n",
       "Name: species, dtype: object"
      ]
     },
     "execution_count": 53,
     "metadata": {},
     "output_type": "execute_result"
    }
   ],
   "source": [
    "# Describe the \"species\" column. \n",
    "dt[\"species\"].describe()"
   ]
  },
  {
   "cell_type": "markdown",
   "id": "780d5e39",
   "metadata": {},
   "source": [
    "The unique value indicate that we have 3 categorical values in the dataset corresponding to 3 different species. "
   ]
  },
  {
   "cell_type": "code",
   "execution_count": 61,
   "id": "bdfa2bf6",
   "metadata": {},
   "outputs": [
    {
     "name": "stdout",
     "output_type": "stream",
     "text": [
      "Number of male samples: 61\n",
      "Number of female sample 58\n"
     ]
    }
   ],
   "source": [
    "# First, we extract in \"df\" variable the Gentoo penguins. \n",
    "df = dt.loc[dt[\"species\"]==\"Gentoo\"]\n",
    "\n",
    "# Separate by sex:\n",
    "\n",
    "male = df.loc[df[\"sex\"] == \"MALE\"]\n",
    "female = df.loc[df[\"sex\"] == \"FEMALE\"]\n",
    "\n",
    "# Count the number of samples in each sex:\n",
    "m_sample = male.shape[0]\n",
    "f_sample = female.shape[0]\n",
    "print(\"Number of male samples:\", m_sample)\n",
    "print(\"Number of female sample\",f_sample)"
   ]
  },
  {
   "cell_type": "markdown",
   "id": "eb403309",
   "metadata": {},
   "source": [
    "We have a difference of 3 samples between both sex due to NULL values. In order to keep both groups with the same number of samples, we are going to randomnly select 58 samples from the male group."
   ]
  },
  {
   "cell_type": "code",
   "execution_count": 69,
   "id": "ce8f642b",
   "metadata": {},
   "outputs": [
    {
     "data": {
      "text/plain": [
       "58"
      ]
     },
     "execution_count": 69,
     "metadata": {},
     "output_type": "execute_result"
    }
   ],
   "source": [
    "# Sample from pandas to select 58 random rows.\n",
    "male_random = male.sample(58)\n",
    "male_random.shape[0]"
   ]
  },
  {
   "cell_type": "markdown",
   "id": "1ee4c224",
   "metadata": {},
   "source": [
    "Finally, we need to get the data only for the body_mass column for each group. "
   ]
  },
  {
   "cell_type": "code",
   "execution_count": 83,
   "id": "6b7bcef9",
   "metadata": {},
   "outputs": [
    {
     "name": "stdout",
     "output_type": "stream",
     "text": [
      "Gentoo male body mass descriptive stadistics:\n",
      "count      58.000000\n",
      "mean     5488.793103\n",
      "std       309.788143\n",
      "min      4750.000000\n",
      "25%      5300.000000\n",
      "50%      5500.000000\n",
      "75%      5700.000000\n",
      "max      6300.000000\n",
      "Name: body_mass_g, dtype: float64\n",
      "\n",
      "Gentoo female body mass descriptive stadistics:\n",
      "count      58.000000\n",
      "mean     4679.741379\n",
      "std       281.578294\n",
      "min      3950.000000\n",
      "25%      4462.500000\n",
      "50%      4700.000000\n",
      "75%      4875.000000\n",
      "max      5200.000000\n",
      "Name: body_mass_g, dtype: float64\n"
     ]
    }
   ],
   "source": [
    "male_mass = male_random[\"body_mass_g\"]\n",
    "female_mass = female[\"body_mass_g\"]\n",
    "print(\"Gentoo male body mass descriptive stadistics:\")\n",
    "print(male_mass.describe())\n",
    "print()\n",
    "print(\"Gentoo female body mass descriptive stadistics:\")\n",
    "print(female_mass.describe())"
   ]
  },
  {
   "cell_type": "markdown",
   "id": "0601a5c8",
   "metadata": {},
   "source": [
    "On average, the body mass from the male gentoo penguin is bigger than the female gentoo penguin. Let´s perfom the t-test to find out whether this difference is statistically significant or not."
   ]
  },
  {
   "cell_type": "markdown",
   "id": "3a1ab30f",
   "metadata": {},
   "source": [
    "**T-test**  \n"
   ]
  },
  {
   "cell_type": "code",
   "execution_count": 86,
   "id": "a93b22db",
   "metadata": {},
   "outputs": [
    {
     "name": "stdout",
     "output_type": "stream",
     "text": [
      "T-statistic: 14.718211530302684\n",
      "P-value: 4.015926522817719e-28\n",
      "The difference is statistically significant.\n"
     ]
    }
   ],
   "source": [
    "from scipy.stats import ttest_ind\n",
    "\n",
    "# t-test:\n",
    "t_statistic, p_value = ttest_ind(male_mass, female_mass)\n",
    "\n",
    "# Display the results\n",
    "print(f\"T-statistic: {t_statistic}\")\n",
    "print(f\"P-value: {p_value}\")\n",
    "\n",
    "# Check for statistical significance (assuming significance level of 0.05)\n",
    "if p_value < 0.05:\n",
    "    print(\"The difference is statistically significant.\")\n",
    "else:\n",
    "    print(\"The difference is not statistically significant.\")"
   ]
  },
  {
   "cell_type": "markdown",
   "id": "c4887825",
   "metadata": {},
   "source": [
    "Results:  \n",
    "1. The T-statistic value measures indicates a big difference between both sample group means.  \n",
    "2. The low p-value indicates that this difference is statistically significant. \n",
    "3. Therefore, there is a statistically significant difference in the body mass between male and female gentoo penguins."
   ]
  },
  {
   "cell_type": "markdown",
   "id": "b67991c8",
   "metadata": {},
   "source": [
    "**References**\n",
    "1. Spicy.stats website (https://docs.scipy.org/doc/scipy/reference/generated/scipy.stats.ttest_ind.html)"
   ]
  },
  {
   "cell_type": "markdown",
   "id": "8e234eb2",
   "metadata": {},
   "source": []
  }
 ],
 "metadata": {
  "kernelspec": {
   "display_name": "Python 3 (ipykernel)",
   "language": "python",
   "name": "python3"
  },
  "language_info": {
   "codemirror_mode": {
    "name": "ipython",
    "version": 3
   },
   "file_extension": ".py",
   "mimetype": "text/x-python",
   "name": "python",
   "nbconvert_exporter": "python",
   "pygments_lexer": "ipython3",
   "version": "3.9.7"
  }
 },
 "nbformat": 4,
 "nbformat_minor": 5
}
