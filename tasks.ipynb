{
 "cells": [
  {
   "cell_type": "markdown",
   "id": "ec917671",
   "metadata": {},
   "source": [
    "# Machine Learning and Statistics Tasks\n",
    "\n",
    "***"
   ]
  },
  {
   "attachments": {},
   "cell_type": "markdown",
   "id": "d0698893",
   "metadata": {},
   "source": [
    "Roberto Vergano"
   ]
  },
  {
   "cell_type": "markdown",
   "id": "15e1cf59",
   "metadata": {},
   "source": [
    "## Python modules"
   ]
  },
  {
   "cell_type": "code",
   "execution_count": 2,
   "id": "f3d68bdd",
   "metadata": {},
   "outputs": [],
   "source": [
    "# For LaTex code:\n",
    "from IPython.display import display, Math"
   ]
  },
  {
   "cell_type": "markdown",
   "id": "4aa9cf88",
   "metadata": {},
   "source": [
    "## Task 1"
   ]
  },
  {
   "cell_type": "markdown",
   "id": "0610eb90",
   "metadata": {},
   "source": [
    "Square roots are difficult to calculate. In Python, you typically use the power operator (a double asterisk) or a package such\n",
    "as math. In this task,(1) you should write a function sqrt(x) to approximate the square root of a floating point number x without\n",
    "using the power operator or a package.\n",
    "\n",
    "Rather, you should use the Newton’s method.(2) Start with an 2 Square Roots via Newton’s Method. initial guess for the square root called z0. You then repeatedly improve it using the following formula, until the difference between\n",
    "some previous guess zi and the next zi+1 is less than some threshold, say 0.01."
   ]
  },
  {
   "cell_type": "code",
   "execution_count": 3,
   "id": "cf73f4a6",
   "metadata": {},
   "outputs": [
    {
     "data": {
      "text/latex": [
       "$\\displaystyle z_{i+1} = z_i - \\frac{{z_i*z_i - x}}{{2z_i}}$"
      ],
      "text/plain": [
       "<IPython.core.display.Math object>"
      ]
     },
     "metadata": {},
     "output_type": "display_data"
    }
   ],
   "source": [
    "latex_code = r\"z_{i+1} = z_i - \\frac{{z_i*z_i - x}}{{2z_i}}\"\n",
    "display(Math(latex_code))"
   ]
  },
  {
   "attachments": {},
   "cell_type": "markdown",
   "id": "16d8ab94",
   "metadata": {},
   "source": [
    "Where: \n",
    "\n",
    "zi = current estimate or iteration in the sequence.  \n",
    "zi+1 = next estimate or iteration in the sequence.  \n",
    "x = constant or parameter.  "
   ]
  },
  {
   "attachments": {},
   "cell_type": "markdown",
   "id": "a3fd6dc2",
   "metadata": {},
   "source": [
    "**How does the formula work?**"
   ]
  },
  {
   "attachments": {},
   "cell_type": "markdown",
   "id": "e52c8979",
   "metadata": {},
   "source": [
    "1. Initial guess,z0\n",
    "2. Iteration. For each iteration (i), the formula computes zi+1 from the current estimate zi.\n",
    "3. Convergence. This iteration repeats until zi+1 is close enough to zi. This means that the process is repeated until the root of the equation is approached."
   ]
  },
  {
   "cell_type": "code",
   "execution_count": 21,
   "id": "c0376219",
   "metadata": {},
   "outputs": [
    {
     "name": "stdout",
     "output_type": "stream",
     "text": [
      "That is not a positive floating number. Please try again.\n",
      "The square root of 10.0 is approximately 3.1622776601683795\n"
     ]
    }
   ],
   "source": [
    "# Function \"get_positive_float\" avoids the use of negative numbers as an input for the formula.\n",
    "# Using a while loop, the function asks the user for a positive floating number.\n",
    "def get_positive_float():\n",
    "    while True:\n",
    "        try:\n",
    "            x = float(input(\"Enter a positive floating number: \"))\n",
    "            if x > 0:\n",
    "                return x\n",
    "            else:\n",
    "                print(\"That is not a positive floating number. Please try again.\")\n",
    "        except ValueError:\n",
    "            print(\"Invalid input. Please enter a valid floating-point number.\")\n",
    "\n",
    "# Funtion \"sqrt\" takes the input from the user to calculate the square root using the Newton formula.\n",
    "def sqrt(x):\n",
    "    # Initial guess\n",
    "    z = x / 4.0\n",
    "\n",
    "    # Iterative approximation using Newton method. \n",
    "    for i in range(100):\n",
    "        z = z - (((z*z) - x) / (2*z))\n",
    "\n",
    "    return z\n",
    "\n",
    "# Get a positive floating-point number from the user\n",
    "x = get_positive_float()\n",
    "\n",
    "# Calculate and print the square root\n",
    "result = sqrt(x)\n",
    "print(f\"The square root of {x} is approximately {result}\")\n"
   ]
  },
  {
   "attachments": {},
   "cell_type": "markdown",
   "id": "dcf5cf07",
   "metadata": {},
   "source": [
    "References\n",
    "\n",
    "1. A Tour of Go. Aug. 18, 2023. url: https://go.dev/tour/flowcontrol/8 (visited on 08/18/2023).\n",
    "2. Square Roots via Newton’s Method. Feb. 4, 2015. url: https://math.mit.edu/~stevenj/18.335/newtonsqrt. pdf (visited on 08/18/2023).\n"
   ]
  }
 ],
 "metadata": {
  "kernelspec": {
   "display_name": "Python 3 (ipykernel)",
   "language": "python",
   "name": "python3"
  },
  "language_info": {
   "codemirror_mode": {
    "name": "ipython",
    "version": 3
   },
   "file_extension": ".py",
   "mimetype": "text/x-python",
   "name": "python",
   "nbconvert_exporter": "python",
   "pygments_lexer": "ipython3",
   "version": "3.11.3"
  }
 },
 "nbformat": 4,
 "nbformat_minor": 5
}
