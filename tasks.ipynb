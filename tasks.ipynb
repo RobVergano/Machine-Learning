{
 "cells": [
  {
   "cell_type": "markdown",
   "id": "ec917671",
   "metadata": {},
   "source": [
    "# **Machine Learning and Statistics Tasks**\n",
    "\n",
    "***"
   ]
  },
  {
   "cell_type": "markdown",
   "id": "d0698893",
   "metadata": {},
   "source": [
    "Author: Roberto Vergano"
   ]
  },
  {
   "cell_type": "markdown",
   "metadata": {},
   "source": [
    "**Python modules required**"
   ]
  },
  {
   "cell_type": "code",
   "execution_count": 56,
   "metadata": {},
   "outputs": [],
   "source": [
    "from IPython.display import display, Math\n",
    "import pandas as pd\n",
    "import numpy as np\n",
    "from scipy.stats import chi2_contingency\n",
    "from tabulate import tabulate\n",
    "import matplotlib.pyplot as plt\n",
    "from scipy.stats import probplot\n",
    "import seaborn as sns\n",
    "from scipy.stats import shapiro\n",
    "from scipy.stats import ttest_ind\n",
    "import sklearn.decomposition as dec\n",
    "import sklearn as sk\n",
    "import sklearn.preprocessing as pre\n",
    "import sklearn.neighbors as ne"
   ]
  },
  {
   "cell_type": "markdown",
   "metadata": {},
   "source": [
    "**Table of contents**\n",
    "\n",
    "Task 1. The Newton´s method.  \n",
    "Task 2. Chi squared test.  \n",
    "Task 3. T-test.  \n",
    "Task 4. The setosa class.  \n",
    "Task 5. Principal component analysis on the Iris dataset.  "
   ]
  },
  {
   "cell_type": "markdown",
   "id": "4aa9cf88",
   "metadata": {},
   "source": [
    "## **Task 1. The Newton´s method**\n",
    "\n",
    "***"
   ]
  },
  {
   "cell_type": "markdown",
   "id": "0610eb90",
   "metadata": {},
   "source": [
    "Square roots are difficult to calculate. In Python, you typically use the power operator (a double asterisk) or a package such\n",
    "as math. In this task,(1) you should write a function sqrt(x) to approximate the square root of a floating point number x without\n",
    "using the power operator or a package.\n",
    "\n",
    "Rather, you should use the Newton’s method.(2) Start with an 2 Square Roots via Newton’s Method. initial guess for the square root called z0. You then repeatedly improve it using the following formula, until the difference between\n",
    "some previous guess zi and the next zi+1 is less than some threshold, say 0.01."
   ]
  },
  {
   "cell_type": "code",
   "execution_count": 57,
   "id": "cf73f4a6",
   "metadata": {},
   "outputs": [
    {
     "data": {
      "text/latex": [
       "$\\displaystyle z_{i+1} = z_i - \\frac{{z_i*z_i - x}}{{2z_i}}$"
      ],
      "text/plain": [
       "<IPython.core.display.Math object>"
      ]
     },
     "metadata": {},
     "output_type": "display_data"
    }
   ],
   "source": [
    "# For LaTex code:\n",
    "latex_code = r\"z_{i+1} = z_i - \\frac{{z_i*z_i - x}}{{2z_i}}\"\n",
    "display(Math(latex_code))"
   ]
  },
  {
   "cell_type": "markdown",
   "id": "16d8ab94",
   "metadata": {},
   "source": [
    "Where: \n",
    "\n",
    "zi = current estimate or iteration in the sequence.  \n",
    "zi+1 = next estimate or iteration in the sequence.  \n",
    "x = constant or parameter.  "
   ]
  },
  {
   "cell_type": "markdown",
   "id": "a3fd6dc2",
   "metadata": {},
   "source": [
    "**How does the formula work?**"
   ]
  },
  {
   "cell_type": "markdown",
   "id": "e52c8979",
   "metadata": {},
   "source": [
    "1. Initial guess,z0\n",
    "2. Iteration. For each iteration (i), the formula computes zi+1 from the current estimate zi.\n",
    "3. Convergence. This iteration repeats until zi+1 is close enough to zi. This means that the process is repeated until the root of the equation is approached."
   ]
  },
  {
   "cell_type": "code",
   "execution_count": 58,
   "id": "c0376219",
   "metadata": {},
   "outputs": [
    {
     "name": "stdout",
     "output_type": "stream",
     "text": [
      "The square root of 25 is approximately 5.0\n"
     ]
    }
   ],
   "source": [
    "# Funtion \"sqrt\" takes the input from the user to calculate the square root using the Newton formula.\n",
    "def sqrt(x):\n",
    "    # Initial guess\n",
    "    z = x / 4.0\n",
    "\n",
    "    # Iterative approximation using Newton method. \n",
    "    for i in range(100):\n",
    "        z = z - (((z*z) - x) / (2*z))\n",
    "\n",
    "    return z\n",
    "\n",
    "# Example 1\n",
    "x = 25\n",
    "result = sqrt(x)\n",
    "print(f\"The square root of {x} is approximately {result}\")\n"
   ]
  },
  {
   "cell_type": "code",
   "execution_count": 59,
   "metadata": {},
   "outputs": [
    {
     "name": "stdout",
     "output_type": "stream",
     "text": [
      "The square root of 27 is approximately 5.196152422706632\n"
     ]
    }
   ],
   "source": [
    "# Example 2\n",
    "x = 27\n",
    "result = sqrt(x)\n",
    "print(f\"The square root of {x} is approximately {result}\")"
   ]
  },
  {
   "cell_type": "code",
   "execution_count": 60,
   "metadata": {},
   "outputs": [
    {
     "name": "stdout",
     "output_type": "stream",
     "text": [
      "The square root of 13 is approximately 3.605551275463989\n"
     ]
    }
   ],
   "source": [
    "# Example 3\n",
    "x = 13\n",
    "result = sqrt(x)\n",
    "print(f\"The square root of {x} is approximately {result}\")"
   ]
  },
  {
   "cell_type": "code",
   "execution_count": 61,
   "metadata": {},
   "outputs": [
    {
     "name": "stdout",
     "output_type": "stream",
     "text": [
      "The square root of 7 is approximately 2.6457513110645907\n"
     ]
    }
   ],
   "source": [
    "# Example 4\n",
    "x = 7\n",
    "result = sqrt(x)\n",
    "print(f\"The square root of {x} is approximately {result}\")"
   ]
  },
  {
   "cell_type": "markdown",
   "id": "dcf5cf07",
   "metadata": {},
   "source": [
    "**REFERENCES**\n",
    "\n",
    "1. A Tour of Go. Aug. 18, 2023. url: https://go.dev/tour/flowcontrol/8 (visited on 08/18/2023).\n",
    "2. Square Roots via Newton’s Method. Feb. 4, 2015. url: https://math.mit.edu/~stevenj/18.335/newtonsqrt. pdf (visited on 08/18/2023).\n"
   ]
  },
  {
   "cell_type": "markdown",
   "id": "b7852b6c",
   "metadata": {},
   "source": [
    "## **Task 2. Chi squared test**\n",
    "\n",
    "***"
   ]
  },
  {
   "cell_type": "markdown",
   "id": "f3d2dc6a",
   "metadata": {},
   "source": [
    "Consider the below contingency table based on a survey asking respondents whether they prefer coffee or tea and whether they prefer plain or chocolate biscuits. Use scipy.stats to perform a chi-squared test to see whether there is any evidence of an association between drink preference and biscuit preference in this instance."
   ]
  },
  {
   "cell_type": "code",
   "execution_count": 62,
   "id": "102b7f82",
   "metadata": {},
   "outputs": [
    {
     "data": {
      "text/html": [
       "<style type=\"text/css\">\n",
       "#T_24814_row0_col0, #T_24814_row0_col1, #T_24814_row1_col0, #T_24814_row1_col1 {\n",
       "  border: 1px solid black;\n",
       "}\n",
       "</style>\n",
       "<table id=\"T_24814_\">\n",
       "  <thead>\n",
       "    <tr>\n",
       "      <th class=\"blank level0\" >&nbsp;</th>\n",
       "      <th class=\"col_heading level0 col0\" >Chocolate</th>\n",
       "      <th class=\"col_heading level0 col1\" >Plain</th>\n",
       "    </tr>\n",
       "  </thead>\n",
       "  <tbody>\n",
       "    <tr>\n",
       "      <th id=\"T_24814_level0_row0\" class=\"row_heading level0 row0\" >Coffee</th>\n",
       "      <td id=\"T_24814_row0_col0\" class=\"data row0 col0\" >43</td>\n",
       "      <td id=\"T_24814_row0_col1\" class=\"data row0 col1\" >57</td>\n",
       "    </tr>\n",
       "    <tr>\n",
       "      <th id=\"T_24814_level0_row1\" class=\"row_heading level0 row1\" >Tea</th>\n",
       "      <td id=\"T_24814_row1_col0\" class=\"data row1 col0\" >56</td>\n",
       "      <td id=\"T_24814_row1_col1\" class=\"data row1 col1\" >45</td>\n",
       "    </tr>\n",
       "  </tbody>\n",
       "</table>\n"
      ],
      "text/plain": [
       "<pandas.io.formats.style.Styler at 0x1e269f15670>"
      ]
     },
     "execution_count": 62,
     "metadata": {},
     "output_type": "execute_result"
    }
   ],
   "source": [
    "# To create a DataFrame\n",
    "data = {\n",
    "    'Chocolate': [43, 56],\n",
    "    'Plain': [57, 45]\n",
    "}\n",
    "\n",
    "index = ['Coffee', 'Tea']\n",
    "\n",
    "df = pd.DataFrame(data, index=index)\n",
    "\n",
    "# function to add borders for the table:\n",
    "def borders(s):\n",
    "    return f'border: 1px solid black;'\n",
    "\n",
    "# Apply the style function to the DataFrame\n",
    "df_border = df.style.applymap(borders)\n",
    "\n",
    "# Display the styled DataFrame\n",
    "df_border"
   ]
  },
  {
   "cell_type": "markdown",
   "id": "4c16cc61",
   "metadata": {},
   "source": [
    "For this table, we have 2 nominal variables:  \n",
    "- biscuits (chocolate/plain)  \n",
    "- drink (biscuits/tea)  "
   ]
  },
  {
   "cell_type": "markdown",
   "id": "b842733b",
   "metadata": {},
   "source": [
    "To calcule the chi-squared test we are going to transform the dataframe in a numpy array and then run the chi-squared test for contingency tables available in spicy.stats website.(1) Finally, we will compare the chi square results with and without the continuity correction."
   ]
  },
  {
   "cell_type": "code",
   "execution_count": 63,
   "id": "1f50bf9a",
   "metadata": {},
   "outputs": [
    {
     "name": "stdout",
     "output_type": "stream",
     "text": [
      "╒═══════════════════════╤═══════════════════════════╤════════════════════════════╕\n",
      "│       Statistic       │  Value (correction=True)  │  Value (correction=False)  │\n",
      "╞═══════════════════════╪═══════════════════════════╪════════════════════════════╡\n",
      "│ Chi-squared Statistic │    2.6359100836554257     │          3.11394           │\n",
      "├───────────────────────┼───────────────────────────┼────────────────────────────┤\n",
      "│        P-value        │    0.10447218120907394    │         0.0776251          │\n",
      "├───────────────────────┼───────────────────────────┼────────────────────────────┤\n",
      "│  Degrees of Freedom   │             1             │             1              │\n",
      "├───────────────────────┼───────────────────────────┼────────────────────────────┤\n",
      "│ Expected Frequencies  │                           │                            │\n",
      "├───────────────────────┼───────────────────────────┼────────────────────────────┤\n",
      "│                       │     49.25373134328358     │          49.2537           │\n",
      "├───────────────────────┼───────────────────────────┼────────────────────────────┤\n",
      "│                       │     50.74626865671642     │          50.7463           │\n",
      "├───────────────────────┼───────────────────────────┼────────────────────────────┤\n",
      "│                       │     49.74626865671642     │          49.7463           │\n",
      "├───────────────────────┼───────────────────────────┼────────────────────────────┤\n",
      "│                       │     51.25373134328358     │          51.2537           │\n",
      "╘═══════════════════════╧═══════════════════════════╧════════════════════════════╛\n"
     ]
    }
   ],
   "source": [
    "# Create numpy array with the contingency table\n",
    "observed_data = np.array([[43, 57], [56, 45]])\n",
    "\n",
    "# chi-squared test with \"correction=True\"\n",
    "chi2_stat, p_val, dof, expected = chi2_contingency(observed_data, correction=True)\n",
    "\n",
    "# chi-squared test with \"correction=False\"\n",
    "chi2_stat_no_correction, p_val_no_correction, dof_no_correction, expected_no_correction = chi2_contingency(observed_data, correction=False)\n",
    "\n",
    "# To display the results in a table\n",
    "table_data = [\n",
    "    [\"Chi-squared Statistic\", chi2_stat, chi2_stat_no_correction],\n",
    "    [\"P-value\", p_val, p_val_no_correction],\n",
    "    [\"Degrees of Freedom\", dof, dof_no_correction],\n",
    "    [\"Expected Frequencies\", \"\"],\n",
    "    [\"\", expected[0, 0], expected_no_correction[0, 0]],\n",
    "    [\"\", expected[0, 1], expected_no_correction[0, 1]],\n",
    "    [\"\", expected[1, 0], expected_no_correction[1, 0]],\n",
    "    [\"\", expected[1, 1], expected_no_correction[1, 1]],\n",
    "]\n",
    "\n",
    "table = tabulate(table_data, headers=[\"Statistic\", \"Value (correction=True)\", \"Value (correction=False)\"], tablefmt=\"fancy_grid\", colalign=(\"center\", \"center\", \"center\"))\n",
    "\n",
    "print(table)"
   ]
  },
  {
   "cell_type": "markdown",
   "id": "97f81b37",
   "metadata": {},
   "source": [
    "**RESULTS**  \n",
    "1. Chi-squared Statistic: the results for both (correction = True/False) are significantly greater than zero. This may suggest no relationship between drink and biscuit preference. \n",
    "2. P-Value: assuming a P-Value =< 0.05 as stadistically significant, the results for both (correction = True/False) suggest no relationship between drink and biscuit preference.  \n",
    "3. Correction (True/False): the continuity correction does not seem to have much effect on the overall result. "
   ]
  },
  {
   "cell_type": "markdown",
   "id": "b5749e03",
   "metadata": {},
   "source": [
    "**REFERENCES**  \n",
    "1. https://docs.scipy.org/doc/scipy/reference/generated/scipy.stats.chi2_contingency.html  "
   ]
  },
  {
   "cell_type": "markdown",
   "id": "d2f8ecbc",
   "metadata": {},
   "source": [
    "## **TASK 3. T-Test**\n",
    "\n",
    "***"
   ]
  },
  {
   "cell_type": "markdown",
   "id": "f2da52e4",
   "metadata": {},
   "source": [
    "Perform a t-test on the famous penguins data set to investigate whether there is evidence of a significant difference in the body mass of male and female gentoo penguins."
   ]
  },
  {
   "cell_type": "markdown",
   "id": "692a458e",
   "metadata": {},
   "source": [
    "The pinguins dataset was downloaded from https://github.com/mwaskom/seaborn-data/blob/master/penguins.csv"
   ]
  },
  {
   "cell_type": "markdown",
   "id": "1e5ac9df",
   "metadata": {},
   "source": [
    "First, we need to access the dataset using pandas. Then, we need to find the target columns and check the distribution before performing the t-test."
   ]
  },
  {
   "cell_type": "markdown",
   "id": "d37933c7",
   "metadata": {},
   "source": [
    "**READ AND DESCRIBE THE DATASET**"
   ]
  },
  {
   "cell_type": "code",
   "execution_count": 64,
   "id": "3c0b1db3",
   "metadata": {},
   "outputs": [
    {
     "name": "stdout",
     "output_type": "stream",
     "text": [
      "<class 'pandas.core.frame.DataFrame'>\n",
      "RangeIndex: 344 entries, 0 to 343\n",
      "Data columns (total 7 columns):\n",
      " #   Column             Non-Null Count  Dtype  \n",
      "---  ------             --------------  -----  \n",
      " 0   species            344 non-null    object \n",
      " 1   island             344 non-null    object \n",
      " 2   bill_length_mm     342 non-null    float64\n",
      " 3   bill_depth_mm      342 non-null    float64\n",
      " 4   flipper_length_mm  342 non-null    float64\n",
      " 5   body_mass_g        342 non-null    float64\n",
      " 6   sex                333 non-null    object \n",
      "dtypes: float64(4), object(3)\n",
      "memory usage: 18.9+ KB\n"
     ]
    }
   ],
   "source": [
    "# \"read_csv\" from pandas to open and read the dataset.\n",
    "dt = pd.read_csv(\"datasets/penguins.csv\")\n",
    "# info () to see a summary of the dataset.\n",
    "dt.info()"
   ]
  },
  {
   "cell_type": "markdown",
   "id": "37ce4df3",
   "metadata": {},
   "source": [
    "Our target columns are 0 (\"species), 5 (\"body_mass_g\") and 6 (\"sex\"). Therefore, we need to extract our target population from the dataset (\"Gentoo penguins\"). Then separate by sex and select the parameter we want to test (\"body_mass\") "
   ]
  },
  {
   "cell_type": "code",
   "execution_count": 65,
   "id": "19ad4e4e",
   "metadata": {},
   "outputs": [
    {
     "data": {
      "text/plain": [
       "count        344\n",
       "unique         3\n",
       "top       Adelie\n",
       "freq         152\n",
       "Name: species, dtype: object"
      ]
     },
     "execution_count": 65,
     "metadata": {},
     "output_type": "execute_result"
    }
   ],
   "source": [
    "# Describe the \"species\" column. \n",
    "dt[\"species\"].describe()"
   ]
  },
  {
   "cell_type": "markdown",
   "id": "befbea9c",
   "metadata": {},
   "source": [
    "**EXTRACT THE DATA FROM THE DATASET**"
   ]
  },
  {
   "cell_type": "markdown",
   "id": "780d5e39",
   "metadata": {},
   "source": [
    "The unique value indicate that we have 3 categorical values in the dataset corresponding to 3 different species. Therefore, we need to extract the Gentoo species from the data."
   ]
  },
  {
   "cell_type": "code",
   "execution_count": 66,
   "id": "bdfa2bf6",
   "metadata": {},
   "outputs": [
    {
     "name": "stdout",
     "output_type": "stream",
     "text": [
      "Number of male samples: 61\n",
      "Number of female sample 58\n"
     ]
    }
   ],
   "source": [
    "# First, we extract in \"df\" variable the Gentoo penguins. \n",
    "df = dt.loc[dt[\"species\"]==\"Gentoo\"]\n",
    "\n",
    "# Separate by sex:\n",
    "male = df.loc[df[\"sex\"] == \"MALE\"]\n",
    "female = df.loc[df[\"sex\"] == \"FEMALE\"]\n",
    "\n",
    "# Count the number of samples in each sex:\n",
    "m_sample = male.shape[0]\n",
    "f_sample = female.shape[0]\n",
    "print(\"Number of male samples:\", m_sample)\n",
    "print(\"Number of female sample\",f_sample)"
   ]
  },
  {
   "cell_type": "markdown",
   "id": "eb403309",
   "metadata": {},
   "source": [
    "We have a difference of 3 samples between both sex due to NULL values. In order to keep both groups with the same number of samples, we are going to randomnly select 58 samples from the male group."
   ]
  },
  {
   "cell_type": "code",
   "execution_count": 67,
   "id": "ce8f642b",
   "metadata": {},
   "outputs": [
    {
     "data": {
      "text/plain": [
       "58"
      ]
     },
     "execution_count": 67,
     "metadata": {},
     "output_type": "execute_result"
    }
   ],
   "source": [
    "# Sample from pandas to select 58 random rows.\n",
    "male_random = male.sample(58)\n",
    "male_random.shape[0]"
   ]
  },
  {
   "cell_type": "markdown",
   "id": "748d6896",
   "metadata": {},
   "source": [
    "**DESCRIPTIVE STADISTICS**"
   ]
  },
  {
   "cell_type": "markdown",
   "id": "1ee4c224",
   "metadata": {},
   "source": [
    "Finally, we need to get the data only for the body_mass column for each group. "
   ]
  },
  {
   "cell_type": "code",
   "execution_count": 68,
   "id": "6b7bcef9",
   "metadata": {},
   "outputs": [
    {
     "name": "stdout",
     "output_type": "stream",
     "text": [
      "Gentoo male body mass descriptive stadistics:\n",
      "count      58.000000\n",
      "mean     5478.017241\n",
      "std       319.198475\n",
      "min      4750.000000\n",
      "25%      5262.500000\n",
      "50%      5500.000000\n",
      "75%      5700.000000\n",
      "max      6300.000000\n",
      "Name: body_mass_g, dtype: float64\n",
      "\n",
      "Gentoo female body mass descriptive stadistics:\n",
      "count      58.000000\n",
      "mean     4679.741379\n",
      "std       281.578294\n",
      "min      3950.000000\n",
      "25%      4462.500000\n",
      "50%      4700.000000\n",
      "75%      4875.000000\n",
      "max      5200.000000\n",
      "Name: body_mass_g, dtype: float64\n"
     ]
    }
   ],
   "source": [
    "male_mass = male_random[\"body_mass_g\"]\n",
    "female_mass = female[\"body_mass_g\"]\n",
    "print(\"Gentoo male body mass descriptive stadistics:\")\n",
    "print(male_mass.describe())\n",
    "print()\n",
    "print(\"Gentoo female body mass descriptive stadistics:\")\n",
    "print(female_mass.describe())"
   ]
  },
  {
   "cell_type": "markdown",
   "id": "bfc91b2d",
   "metadata": {},
   "source": [
    "From the descriptive analysis, we can see that, on average, the body mass of the male Gentoo is higher than the female Gentoo. Using an histogram we can see how the body mass values for each sex are distributed."
   ]
  },
  {
   "cell_type": "markdown",
   "id": "d7fce594",
   "metadata": {},
   "source": [
    "**GENTOO BODY MASS/SEX HISTOGRAM**"
   ]
  },
  {
   "cell_type": "code",
   "execution_count": 69,
   "id": "d8db5527",
   "metadata": {},
   "outputs": [
    {
     "data": {
      "image/png": "[encoded data removed]",
      "text/plain": [
       "<Figure size 864x576 with 2 Axes>"
      ]
     },
     "metadata": {
      "needs_background": "light"
     },
     "output_type": "display_data"
    }
   ],
   "source": [
    "# Create the dataframe:\n",
    "data = pd.DataFrame({\n",
    "    \"male mass\": male_mass,\n",
    "    \"female mass\": female_mass\n",
    "})\n",
    "\n",
    "# Create histograms\n",
    "plt.figure(figsize=(12, 8))\n",
    "\n",
    "# Histogram for male_mass\n",
    "plt.subplot(2, 1, 1)\n",
    "plt.hist(data[\"male mass\"], bins=10, color=\"blue\", alpha=0.3)\n",
    "mean_male = data[\"male mass\"].mean()  \n",
    "plt.axvline(mean_male, color=\"red\", linestyle=\"dashed\", linewidth=2, label=f\"Mean Male Mass: {mean_male:.2f}\")  \n",
    "plt.title(\"Male Mass Histogram\")\n",
    "plt.xlabel(\"Mass\")\n",
    "plt.ylabel(\"Frequency\")\n",
    "plt.xlim(3500, 7000)\n",
    "\n",
    "# Histogram for female_mass\n",
    "plt.subplot(2, 1, 2)\n",
    "plt.hist(data[\"female mass\"], bins=10, color=\"green\", alpha=0.3)\n",
    "mean_female = data[\"female mass\"].mean() \n",
    "plt.axvline(mean_female, color=\"red\", linestyle=\"dashed\", linewidth=2, label=f\"Mean Female Mass: {mean_female:.2f}\") \n",
    "plt.title(\"Female Mass Histogram\")\n",
    "plt.xlabel(\"Mass\")\n",
    "plt.ylabel(\"Frequency\")\n",
    "plt.xlim(3500, 7000)\n",
    "\n",
    "# Adjust layout\n",
    "plt.tight_layout()\n",
    "\n",
    "# Show the plots\n",
    "plt.show()\n"
   ]
  },
  {
   "cell_type": "markdown",
   "id": "d03e6dc9",
   "metadata": {},
   "source": [
    "The histogram shows: \n",
    "- Differences between the male and female body mass. Overall, the male body mass seems to be higher than the female body mass in the Gentoo species. \n",
    "- Data seems to be normally distributed for both, male and female body mass. \n",
    "\n",
    "In order to perform the T-test, we need to confirm whether the data comes from a normally distribution or not. Since the t-test assumes that the sample mean approaches a normal distribution. To confirm it, we are going to do a probability plot and the shapiro-wilk test."
   ]
  },
  {
   "cell_type": "markdown",
   "id": "6914d7bf",
   "metadata": {},
   "source": [
    "**PROBABILITY PLOT**"
   ]
  },
  {
   "cell_type": "markdown",
   "id": "6e0abc6c",
   "metadata": {},
   "source": [
    "The probability plot is a graphical technique which allows to assess whether a data set follows a distribution such as the normal distribution.(1)"
   ]
  },
  {
   "cell_type": "markdown",
   "id": "f741e099",
   "metadata": {},
   "source": [
    "We are going to use the \"scipy.stats.probplot\" from spicy stats to generate the probability plot of both (male and female body mass) againts the quantiles of a normal distribution.(2) If the data is normally distributed, the points will be close to the diagonal line.(3)"
   ]
  },
  {
   "cell_type": "code",
   "execution_count": 70,
   "id": "1b5fc4f7",
   "metadata": {},
   "outputs": [
    {
     "data": {
      "image/png": "[encoded data removed]",
      "text/plain": [
       "<Figure size 864x432 with 2 Axes>"
      ]
     },
     "metadata": {
      "needs_background": "light"
     },
     "output_type": "display_data"
    }
   ],
   "source": [
    "# Create a figure with two subplots\n",
    "fig, axes = plt.subplots(nrows=1, ncols=2, figsize=(12, 6))\n",
    "\n",
    "# Probability plot for male_mass\n",
    "probplot(male_mass, plot=axes[0])\n",
    "axes[0].set_title(\"Male Mass - Probability Plot\")\n",
    "\n",
    "# Probability plot for female_mass\n",
    "probplot(female_mass, plot=axes[1])\n",
    "axes[1].set_title(\"Female Mass - Probability Plot\")\n",
    "\n",
    "# Adjust layout\n",
    "plt.tight_layout()\n",
    "\n",
    "# Show the plots\n",
    "plt.show()"
   ]
  },
  {
   "cell_type": "markdown",
   "id": "5e19920b",
   "metadata": {},
   "source": [
    "The male and female body mass seem to closely follow a straight line, suggesting that the data for both variables are approximately normally distributed. "
   ]
  },
  {
   "cell_type": "markdown",
   "id": "8ac847ac",
   "metadata": {},
   "source": [
    "**SHAPIRO-WILK TEST**"
   ]
  },
  {
   "cell_type": "markdown",
   "id": "8ca2872f",
   "metadata": {},
   "source": [
    "The Shapiro-Wilk test tests the null hypothesis that the data was drawn from a normal distribution.(4)\n",
    "\n",
    "We are going to use the \"scipy.stats.shapiro\" from spicicy.stats.(4)\n",
    "\n",
    "If the p-value is small, there is a low probability that the data comes from a normal distribution, providing evidence against the null hypothesis.(4)"
   ]
  },
  {
   "cell_type": "code",
   "execution_count": 71,
   "id": "ae24d8c5",
   "metadata": {},
   "outputs": [
    {
     "name": "stdout",
     "output_type": "stream",
     "text": [
      "╒═════════════╤══════════════════╤═══════════╕\n",
      "│ Variable    │   Test Statistic │   p-value │\n",
      "╞═════════════╪══════════════════╪═══════════╡\n",
      "│ Male Mass   │         0.992349 │  0.974155 │\n",
      "├─────────────┼──────────────────┼───────────┤\n",
      "│ Female Mass │         0.981331 │  0.510652 │\n",
      "╘═════════════╧══════════════════╧═══════════╛\n"
     ]
    }
   ],
   "source": [
    "# Shapiro-Wilk test\n",
    "stat, p_value = shapiro(male_mass)\n",
    "statf, p_valuef = shapiro(female_mass)\n",
    "\n",
    "# Create a table\n",
    "table_data = {\n",
    "    \"Variable\": [\"Male Mass\", \"Female Mass\"],\n",
    "    \"Test Statistic\": [stat, statf],\n",
    "    \"p-value\": [p_value, p_valuef],\n",
    "}\n",
    "\n",
    "# Display the table\n",
    "shapiro_table = tabulate(table_data, headers=\"keys\", tablefmt=\"fancy_grid\")\n",
    "print(shapiro_table)"
   ]
  },
  {
   "cell_type": "markdown",
   "id": "fe90850e",
   "metadata": {},
   "source": [
    "Male and Female body mass have a high p-value, showing evidence against the null hypothesis. "
   ]
  },
  {
   "cell_type": "markdown",
   "id": "e0d234e3",
   "metadata": {},
   "source": [
    "The results from the probability plot and the Shapiro-Wilk test indicate that male and female body mass approaches a normal distribution. "
   ]
  },
  {
   "cell_type": "markdown",
   "id": "0601a5c8",
   "metadata": {},
   "source": [
    "We can now perform the t-test to find out whether the difference seen between male and female body mass in Gentoo species is statistically significant or not."
   ]
  },
  {
   "cell_type": "markdown",
   "id": "3a1ab30f",
   "metadata": {},
   "source": [
    "**T-TEST**  \n"
   ]
  },
  {
   "cell_type": "markdown",
   "id": "aa1dd752",
   "metadata": {},
   "source": [
    "Using \"scipy.stats.ttest_ind\" from spicy.stats, we can calculate the t-test for the means of two independent samples.(4)\n",
    "\n",
    "For the null hypothesis, we can assume that the 2 independent samples have identical average values.(4)"
   ]
  },
  {
   "cell_type": "code",
   "execution_count": 72,
   "id": "a93b22db",
   "metadata": {},
   "outputs": [
    {
     "name": "stdout",
     "output_type": "stream",
     "text": [
      "T-statistic: 14.282987483719584\n",
      "P-value: 3.7308217352133355e-27\n"
     ]
    }
   ],
   "source": [
    "# t-test:\n",
    "t_statistic, p_value = ttest_ind(male_mass, female_mass)\n",
    "\n",
    "# Display the results\n",
    "print(f\"T-statistic: {t_statistic}\")\n",
    "print(f\"P-value: {p_value}\")"
   ]
  },
  {
   "cell_type": "markdown",
   "id": "4cf6d2b5",
   "metadata": {},
   "source": [
    "**RESULTS**"
   ]
  },
  {
   "cell_type": "markdown",
   "id": "c4887825",
   "metadata": {},
   "source": [
    "1. The T-statistic value measures indicates a big difference between both sample group means.  \n",
    "2. The low p-value indicates that this difference is statistically significant. \n",
    "3. Therefore, there is a statistically significant difference in the body mass between male and female gentoo penguins."
   ]
  },
  {
   "cell_type": "markdown",
   "id": "b67991c8",
   "metadata": {},
   "source": [
    "**References**\n",
    "1. Probability plot: https://www.itl.nist.gov/div898/handbook/eda/section3/probplot.htm  \n",
    "2. Spicy.stats Probability Plot: https://docs.scipy.org/doc/scipy/reference/generated/scipy.stats.probplot.html  \n",
    "3. Laerd Statistics: https://statistics.laerd.com/spss-tutorials/testing-for-normality-using-spss-statistics.php  \n",
    "4. Spicy.stats Shapiro test: https://docs.scipy.org/doc/scipy/reference/generated/scipy.stats.shapiro.html  \n",
    "5. Spicy.stats website (https://docs.scipy.org/doc/scipy/reference/generated/scipy.stats.ttest_ind.html)"
   ]
  },
  {
   "cell_type": "markdown",
   "id": "8e234eb2",
   "metadata": {},
   "source": [
    "## **TASK 4. THE SETOSA CLASS**\n",
    "\n",
    "***"
   ]
  },
  {
   "cell_type": "markdown",
   "id": "ae76074a",
   "metadata": {},
   "source": [
    "Using the famous iris data set suggest whether the setosa class is easily separable from the other two classes. Provide evidence for your answer."
   ]
  },
  {
   "cell_type": "markdown",
   "id": "0908bfd6",
   "metadata": {},
   "source": [
    "Iris Data set downloaded from : UCI Machine Learning Repository.\n",
    "Aug. 17, 2023. url: https://archive.\n",
    "ics.uci.edu/dataset/53/iris\n",
    "(visited on 08/17/2023)."
   ]
  },
  {
   "cell_type": "markdown",
   "id": "eef54b03",
   "metadata": {},
   "source": [
    "The aim from this task is to separate each attribute for the setosa class. Then compare it against the attributes from versicolor and virginica class. And finally, to determine whether the difference between the setosa class is statistically significant."
   ]
  },
  {
   "cell_type": "markdown",
   "id": "c9258439",
   "metadata": {},
   "source": [
    "**READ AND DESCRIBE THE DATA SET**"
   ]
  },
  {
   "cell_type": "code",
   "execution_count": 73,
   "id": "d5e29b63",
   "metadata": {},
   "outputs": [
    {
     "name": "stdout",
     "output_type": "stream",
     "text": [
      "<class 'pandas.core.frame.DataFrame'>\n",
      "RangeIndex: 150 entries, 0 to 149\n",
      "Data columns (total 5 columns):\n",
      " #   Column        Non-Null Count  Dtype  \n",
      "---  ------        --------------  -----  \n",
      " 0   sepal_length  150 non-null    float64\n",
      " 1   sepal_width   150 non-null    float64\n",
      " 2   petal_length  150 non-null    float64\n",
      " 3   petal_width   150 non-null    float64\n",
      " 4   class         150 non-null    object \n",
      "dtypes: float64(4), object(1)\n",
      "memory usage: 6.0+ KB\n"
     ]
    }
   ],
   "source": [
    "# Read the csv file\n",
    "iris_ds = pd.read_csv(\"datasets/iris.csv\")\n",
    "# Create dataframe with pandas:\n",
    "idf = pd.DataFrame(iris_ds)\n",
    "# Summary of dataframe:\n",
    "iris_ds.info()"
   ]
  },
  {
   "cell_type": "markdown",
   "id": "e90e62c7",
   "metadata": {},
   "source": [
    "**DISTRIBUTION OF EACH ATTRIBUTE PER CLASS**"
   ]
  },
  {
   "cell_type": "markdown",
   "id": "8eaff037",
   "metadata": {},
   "source": [
    "Using \"seaborn.pairplot\" from seaborn we can visualize the data distribution for each attribute per class (kernel density estimate) and the relationship between attributes per class (scatter plot).(1)"
   ]
  },
  {
   "cell_type": "code",
   "execution_count": 74,
   "id": "72a721ff",
   "metadata": {},
   "outputs": [
    {
     "data": {
      "text/plain": [
       "<seaborn.axisgrid.PairGrid at 0x1e26a3a1460>"
      ]
     },
     "execution_count": 74,
     "metadata": {},
     "output_type": "execute_result"
    },
    {
     "data": {
      "image/png": "[encoded data removed]",
      "text/plain": [
       "<Figure size 804.75x720 with 20 Axes>"
      ]
     },
     "metadata": {
      "needs_background": "light"
     },
     "output_type": "display_data"
    }
   ],
   "source": [
    "sns.pairplot(idf, hue =\"class\")"
   ]
  },
  {
   "cell_type": "markdown",
   "id": "15b06283",
   "metadata": {},
   "source": [
    "From the kernel density estimate, we can assess that:\n",
    "- Petal length and petal width are smaller in Setosa class than Versicolor and Virginica class. \n",
    "- Sepal width is slightly bigger in Setosa class. \n",
    "- Sepal length is smaller in the Setosa class. \n",
    "- All attributes in each class seem to approximate a normal distribution. \n",
    "\n",
    "From the scatter plots, we can assess that:\n",
    "- There are relationships between the different Setosa class attributes. These relationships seem to be independent from the Versicolor and Virginica class.\n",
    "\n",
    "Therefore, these results indicate that there could be clear differences between the Setosa class and the other 2 classes. To verify that these differences statistically significant, we are going to perform a T-Test of each attribute from the Setosa class against the other 2 classes.\n",
    "\n",
    "The T-test assumes that the data is normally distributed. To confirm it, we are going to do the shapiro-wilk test."
   ]
  },
  {
   "cell_type": "markdown",
   "id": "319a8dbc",
   "metadata": {},
   "source": [
    "**SHAPIRO-WILK TEST**"
   ]
  },
  {
   "cell_type": "markdown",
   "id": "c0dca8d0",
   "metadata": {},
   "source": [
    "The Shapiro-Wilk test tests the null hypothesis that the data was drawn from a normal distribution.(2)\n",
    "\n",
    "We are going to use the \"scipy.stats.shapiro\" from spicicy.stats.(2)\n",
    "\n",
    "If the p-value is small (significance level < 0.05), there is a low probability that the data comes from a normal distribution, providing evidence against the null hypothesis.(2)"
   ]
  },
  {
   "cell_type": "code",
   "execution_count": 75,
   "id": "10d6c38b",
   "metadata": {},
   "outputs": [
    {
     "name": "stdout",
     "output_type": "stream",
     "text": [
      "╒═════════════════════════╤═════════════╤═════════════╕\n",
      "│ Variable                │   Statistic │     P-value │\n",
      "╞═════════════════════════╪═════════════╪═════════════╡\n",
      "│ Petal Length Setosa     │    0.954946 │ 0.0546492   │\n",
      "├─────────────────────────┼─────────────┼─────────────┤\n",
      "│ Petal Length Versicolor │    0.966005 │ 0.158483    │\n",
      "├─────────────────────────┼─────────────┼─────────────┤\n",
      "│ Petal Length Virginica  │    0.962186 │ 0.109774    │\n",
      "├─────────────────────────┼─────────────┼─────────────┤\n",
      "│ Petal Width Setosa      │    0.813817 │ 1.85258e-06 │\n",
      "├─────────────────────────┼─────────────┼─────────────┤\n",
      "│ Petal Width Versicolor  │    0.947627 │ 0.0272782   │\n",
      "├─────────────────────────┼─────────────┼─────────────┤\n",
      "│ Petal Width Virginica   │    0.959772 │ 0.0869574   │\n",
      "├─────────────────────────┼─────────────┼─────────────┤\n",
      "│ Sepal Length Setosa     │    0.977699 │ 0.459528    │\n",
      "├─────────────────────────┼─────────────┼─────────────┤\n",
      "│ Sepal Length Versicolor │    0.977836 │ 0.464733    │\n",
      "├─────────────────────────┼─────────────┼─────────────┤\n",
      "│ Sepal Length Virginica  │    0.97118  │ 0.258325    │\n",
      "├─────────────────────────┼─────────────┼─────────────┤\n",
      "│ Sepal Width Setosa      │    0.968692 │ 0.204656    │\n",
      "├─────────────────────────┼─────────────┼─────────────┤\n",
      "│ Sepal Width Versicolor  │    0.974133 │ 0.337989    │\n",
      "├─────────────────────────┼─────────────┼─────────────┤\n",
      "│ Sepal Width Virginica   │    0.967391 │ 0.180904    │\n",
      "╘═════════════════════════╧═════════════╧═════════════╛\n"
     ]
    }
   ],
   "source": [
    "# Petal length variables per class:\n",
    "petal_length_setosa = idf.loc[idf[\"class\"] == \"setosa\", \"petal_length\"]\n",
    "petal_length_versicolor = idf.loc[idf[\"class\"] == \"versicolor\", \"petal_length\"]\n",
    "petal_length_virginica = idf.loc[idf[\"class\"] == \"virginica\", \"petal_length\"]\n",
    "\n",
    "# Petal width variables per class: \n",
    "petal_width_setosa = idf.loc[idf[\"class\"] == \"setosa\", \"petal_width\"]\n",
    "petal_width_versicolor = idf.loc[idf[\"class\"] == \"versicolor\", \"petal_width\"]\n",
    "petal_width_virginica = idf.loc[idf[\"class\"] == \"virginica\", \"petal_width\"]\n",
    "\n",
    "# Sepal length variables per class:\n",
    "sepal_length_setosa = idf.loc[idf[\"class\"] == \"setosa\", \"sepal_length\"]\n",
    "sepal_length_versicolor = idf.loc[idf[\"class\"] == \"versicolor\", \"sepal_length\"]\n",
    "sepal_length_virginica = idf.loc[idf[\"class\"] == \"virginica\", \"sepal_length\"]\n",
    "\n",
    "# Sepal width variables per class:\n",
    "sepal_width_setosa = idf.loc[idf[\"class\"] == \"setosa\", \"sepal_width\"]\n",
    "sepal_width_versicolor = idf.loc[idf[\"class\"] == \"versicolor\", \"sepal_width\"]\n",
    "sepal_width_virginica = idf.loc[idf[\"class\"] == \"virginica\", \"sepal_width\"]\n",
    "\n",
    "# Function to perform the Shapiro-Wilk test and return the results as a dataframe:\n",
    "def shapiro_test(data, label):\n",
    "    stat, p_value = shapiro(data)\n",
    "    return pd.DataFrame({\n",
    "        \"Variable\": [label],\n",
    "        \"Statistic\": [stat],\n",
    "        \"P-value\": [p_value]\n",
    "    })\n",
    "\n",
    "# Concatenate the results into a single dataframe:\n",
    "results = pd.concat([\n",
    "    shapiro_test(petal_length_setosa, \"Petal Length Setosa\"),\n",
    "    shapiro_test(petal_length_versicolor, \"Petal Length Versicolor\"),\n",
    "    shapiro_test(petal_length_virginica, \"Petal Length Virginica\"),\n",
    "    \n",
    "    shapiro_test(petal_width_setosa, \"Petal Width Setosa\"),\n",
    "    shapiro_test(petal_width_versicolor, \"Petal Width Versicolor\"),\n",
    "    shapiro_test(petal_width_virginica, \"Petal Width Virginica\"),\n",
    "    \n",
    "    shapiro_test(sepal_length_setosa, \"Sepal Length Setosa\"),\n",
    "    shapiro_test(sepal_length_versicolor, \"Sepal Length Versicolor\"),\n",
    "    shapiro_test(sepal_length_virginica, \"Sepal Length Virginica\"),\n",
    "    \n",
    "    shapiro_test(sepal_width_setosa, \"Sepal Width Setosa\"),\n",
    "    shapiro_test(sepal_width_versicolor, \"Sepal Width Versicolor\"),\n",
    "    shapiro_test(sepal_width_virginica, \"Sepal Width Virginica\"),\n",
    "], ignore_index=True)\n",
    "\n",
    "# Display results in a table:\n",
    "table = tabulate(results, headers=\"keys\", tablefmt=\"fancy_grid\", showindex=False)\n",
    "print(table)"
   ]
  },
  {
   "cell_type": "markdown",
   "id": "42599497",
   "metadata": {},
   "source": [
    "Assuming a significance level lower than 0.05 to reject the null hypothesis and conclude that the data is not normally distributed. These results indicate that:\n",
    "- The majority of attributes seem to approximate to a normal distribution. \n",
    "- Petal Width Setosa and Petal Width Versicolor may not be normally distributed. To clarify it, we are going to perform a probability plot."
   ]
  },
  {
   "cell_type": "markdown",
   "id": "e7557bce",
   "metadata": {},
   "source": [
    "**Petal width setosa and petal width versicolor - Probability plot**"
   ]
  },
  {
   "cell_type": "markdown",
   "id": "f61826f8",
   "metadata": {},
   "source": [
    "The probability plot is a graphical technique which allows to assess whether a data set follows a distribution such as the normal distribution.(3) \n",
    "\n",
    "We are going to use the \"scipy.stats.probplot\" from spicy stats to generate the probability plot to compare the Petal Width Setosa and Petal Width Versicolor distribution against the quantiles of a normal distribution.(4) "
   ]
  },
  {
   "cell_type": "code",
   "execution_count": 76,
   "id": "e58be72c",
   "metadata": {},
   "outputs": [
    {
     "data": {
      "image/png": "[encoded data removed]",
      "text/plain": [
       "<Figure size 720x432 with 2 Axes>"
      ]
     },
     "metadata": {
      "needs_background": "light"
     },
     "output_type": "display_data"
    }
   ],
   "source": [
    "# Probplot for petal_width_setosa and petal_width_versicolor\n",
    "\n",
    "# Probability plots for each variable:\n",
    "plt.figure(figsize=(10, 6))\n",
    "\n",
    "# Probability plot for Petal Width Setosa\n",
    "plt.subplot(2, 1, 1)\n",
    "probplot(petal_width_setosa, plot=plt)\n",
    "plt.title('Probability Plot - Petal Width Setosa')\n",
    "\n",
    "# Probability plot for Petal Width Versicolor\n",
    "plt.subplot(2, 1, 2)\n",
    "probplot(petal_width_versicolor, plot=plt)\n",
    "plt.title('Probability Plot - Petal Width Versicolor')\n",
    "\n",
    "plt.tight_layout()\n",
    "plt.show()"
   ]
  },
  {
   "cell_type": "markdown",
   "id": "6c941763",
   "metadata": {},
   "source": [
    "Interpretation: \n",
    "- The data seems to approximate to a normal distribution. \n",
    "- The presence of outliers could explain why the distribution appears more skewed, affecting the assumption of data normally distributed. "
   ]
  },
  {
   "cell_type": "markdown",
   "id": "feee821e",
   "metadata": {},
   "source": [
    "**T-TEST: SEPAL LENGTH**"
   ]
  },
  {
   "cell_type": "markdown",
   "id": "76616d4a",
   "metadata": {},
   "source": [
    "Using \"scipy.stats.ttest_ind\" from spicy.stats, we can calculate the t-test for the means of two independent samples.(5)\n",
    "\n",
    "For the null hypothesis, we can assume that the 2 independent samples have identical average values.(5)"
   ]
  },
  {
   "cell_type": "code",
   "execution_count": 77,
   "id": "a4cb2edf",
   "metadata": {},
   "outputs": [],
   "source": [
    "# t-test sepal length\n",
    "\n",
    "classes = [\"setosa\", \"virginica\", \"versicolor\"]\n",
    "\n",
    "# Function sepal_length: it separates the sepal length attibute per class and returns a dictionary.\n",
    "def sepal_length (): \n",
    "    sepal_lengths_by_class = {}\n",
    "\n",
    "    for class_name in classes:\n",
    "        class_df = idf[idf[\"class\"] == class_name]\n",
    "        sepal_lengths_by_class[class_name] = class_df[\"sepal_length\"].tolist()\n",
    "\n",
    "    return sepal_lengths_by_class\n",
    "\n",
    "# Call the sepal_length function and store the result in a new variable:\n",
    "sepal_lengths_by_class = sepal_length()\n",
    "\n",
    "# Function t_test_sepal_length: it performs a t-test and returns a dictionary.\n",
    "def t_test_sepal_length(class1, class2):\n",
    "    \n",
    "    t_statistic, p_value = ttest_ind(class1, class2)\n",
    "    \n",
    "    result = {\n",
    "        \"T-statistic\": t_statistic,\n",
    "        \"P-value\": p_value\n",
    "        \n",
    "    }\n",
    "\n",
    "    return result\n",
    "\n",
    "# List to store the results of t-tests\n",
    "t_test_setosa_vs_virginica = []\n",
    "t_test_setosa_vs_versicolor = []\n",
    "\n",
    "# Call the function for Setosa vs Virginica and append the result to the list\n",
    "t_test_result = t_test_sepal_length(sepal_lengths_by_class[\"setosa\"], sepal_lengths_by_class[\"virginica\"])\n",
    "t_test_setosa_vs_virginica.append(t_test_result)\n",
    "\n",
    "# Call the function for Setosa vs Versicolor and append the result to the list\n",
    "t_test_result = t_test_sepal_length(sepal_lengths_by_class[\"setosa\"], sepal_lengths_by_class[\"versicolor\"])\n",
    "t_test_setosa_vs_versicolor.append(t_test_result)"
   ]
  },
  {
   "cell_type": "markdown",
   "id": "15fca075",
   "metadata": {},
   "source": [
    "We will follow the same process from above for all the attributes. Finally, we will include all the results in a table."
   ]
  },
  {
   "cell_type": "markdown",
   "id": "67ba5a60",
   "metadata": {},
   "source": [
    "**T-TEST: PETAL LENGTH**"
   ]
  },
  {
   "cell_type": "code",
   "execution_count": 78,
   "id": "4c676021",
   "metadata": {},
   "outputs": [],
   "source": [
    "def petal_length (): \n",
    "    petal_lengths_by_class = {}\n",
    "\n",
    "    for class_name in classes:\n",
    "        class_df = idf[idf[\"class\"] == class_name]\n",
    "        petal_lengths_by_class[class_name] = class_df[\"petal_length\"].tolist()\n",
    "\n",
    "    return petal_lengths_by_class\n",
    "\n",
    "petal_lengths_by_class = petal_length()\n",
    "\n",
    "def t_test_petal_length(class1, class2):\n",
    "    \n",
    "    t_statistic, p_value = ttest_ind(class1, class2)\n",
    "    \n",
    "    result = {\n",
    "        \"T-statistic\": t_statistic,\n",
    "        \"P-value\": p_value\n",
    "    }\n",
    "\n",
    "    return result\n",
    "\n",
    "t_test_setosa_vs_virginica_pl = []\n",
    "t_test_setosa_vs_versicolor_pl= []\n",
    "\n",
    "t_test_result = t_test_petal_length(petal_lengths_by_class[\"setosa\"], petal_lengths_by_class[\"virginica\"])\n",
    "t_test_setosa_vs_virginica_pl.append(t_test_result)\n",
    "\n",
    "t_test_result = t_test_petal_length(petal_lengths_by_class[\"setosa\"], petal_lengths_by_class[\"versicolor\"])\n",
    "t_test_setosa_vs_versicolor_pl.append(t_test_result)"
   ]
  },
  {
   "cell_type": "markdown",
   "id": "a472837a",
   "metadata": {},
   "source": [
    "**T-TEST: SEPAL WIDTH**"
   ]
  },
  {
   "cell_type": "code",
   "execution_count": 79,
   "id": "9dff6392",
   "metadata": {},
   "outputs": [],
   "source": [
    "def sepal_width (): \n",
    "    sepal_widths_by_class = {}\n",
    "\n",
    "    for class_name in classes:\n",
    "        class_df = idf[idf[\"class\"] == class_name]\n",
    "        sepal_widths_by_class[class_name] = class_df[\"sepal_width\"].tolist()\n",
    "\n",
    "    return sepal_widths_by_class\n",
    "\n",
    "sepal_widths_by_class = sepal_width()\n",
    "\n",
    "def t_test_sepal_width(class1, class2):\n",
    "    \n",
    "    t_statistic, p_value = ttest_ind(class1, class2)\n",
    "    \n",
    "    result = {\n",
    "        \"T-statistic\": t_statistic,\n",
    "        \"P-value\": p_value,\n",
    "        \n",
    "    }\n",
    "\n",
    "    return result\n",
    "\n",
    "t_test_setosa_vs_virginica_sw = []\n",
    "t_test_setosa_vs_versicolor_sw= []\n",
    "\n",
    "t_test_result = t_test_sepal_width(sepal_widths_by_class[\"setosa\"], sepal_widths_by_class[\"virginica\"])\n",
    "t_test_setosa_vs_virginica_sw.append(t_test_result)\n",
    "\n",
    "t_test_result = t_test_sepal_width(sepal_widths_by_class[\"setosa\"], sepal_widths_by_class[\"versicolor\"])\n",
    "t_test_setosa_vs_versicolor_sw.append(t_test_result)"
   ]
  },
  {
   "cell_type": "markdown",
   "id": "4336de5d",
   "metadata": {},
   "source": [
    "**T-TEST: PETAL WIDTH**"
   ]
  },
  {
   "cell_type": "code",
   "execution_count": 80,
   "id": "25777e18",
   "metadata": {},
   "outputs": [],
   "source": [
    "def petal_width (): \n",
    "    petal_widths_by_class = {}\n",
    "\n",
    "    for class_name in classes:\n",
    "        class_df = idf[idf[\"class\"] == class_name]\n",
    "        petal_widths_by_class[class_name] = class_df[\"petal_width\"].tolist()\n",
    "\n",
    "    return petal_widths_by_class\n",
    "\n",
    "petal_widths_by_class = petal_width()\n",
    "\n",
    "def t_test_petal_width(class1, class2):\n",
    "    \n",
    "    t_statistic, p_value = ttest_ind(class1, class2)\n",
    "    \n",
    "    result = {\n",
    "        \"T-statistic\": t_statistic,\n",
    "        \"P-value\": p_value,\n",
    "        \n",
    "    }\n",
    "\n",
    "    return result\n",
    "\n",
    "t_test_setosa_vs_virginica_pw = []\n",
    "t_test_setosa_vs_versicolor_pw= []\n",
    "\n",
    "t_test_result = t_test_petal_width(petal_widths_by_class[\"setosa\"], petal_widths_by_class[\"virginica\"])\n",
    "t_test_setosa_vs_virginica_pw.append(t_test_result)\n",
    "\n",
    "t_test_result = t_test_petal_width(petal_widths_by_class[\"setosa\"], petal_widths_by_class[\"versicolor\"])\n",
    "t_test_setosa_vs_versicolor_pw.append(t_test_result)"
   ]
  },
  {
   "cell_type": "markdown",
   "id": "77dbe174",
   "metadata": {},
   "source": [
    "**T-TEST: RESULTS**"
   ]
  },
  {
   "cell_type": "markdown",
   "id": "ec3f804f",
   "metadata": {},
   "source": [
    "Finally, we are going to take the results of each t-test to fit them in a table."
   ]
  },
  {
   "cell_type": "code",
   "execution_count": 81,
   "id": "77cb0197",
   "metadata": {},
   "outputs": [
    {
     "name": "stdout",
     "output_type": "stream",
     "text": [
      "╒══════════════╤══════════════════════╤═══════════════╤═════════════╕\n",
      "│ Feature      │ Comparison           │   T-statistic │     P-value │\n",
      "╞══════════════╪══════════════════════╪═══════════════╪═════════════╡\n",
      "│ Sepal Length │ Setosa vs Virginica  │     -15.3862  │ 6.89255e-28 │\n",
      "├──────────────┼──────────────────────┼───────────────┼─────────────┤\n",
      "│ Sepal Length │ Setosa vs Versicolor │     -10.521   │ 8.98524e-18 │\n",
      "├──────────────┼──────────────────────┼───────────────┼─────────────┤\n",
      "│ Petal Length │ Setosa vs Virginica  │     -49.9657  │ 1.56412e-71 │\n",
      "├──────────────┼──────────────────────┼───────────────┼─────────────┤\n",
      "│ Petal Length │ Setosa vs Versicolor │     -39.4687  │ 5.71746e-62 │\n",
      "├──────────────┼──────────────────────┼───────────────┼─────────────┤\n",
      "│ Sepal Width  │ Setosa vs Virginica  │       6.28938 │ 8.91663e-09 │\n",
      "├──────────────┼──────────────────────┼───────────────┼─────────────┤\n",
      "│ Sepal Width  │ Setosa vs Versicolor │       9.28277 │ 4.36224e-15 │\n",
      "├──────────────┼──────────────────────┼───────────────┼─────────────┤\n",
      "│ Petal Width  │ Setosa vs Virginica  │     -42.7382  │ 3.58272e-65 │\n",
      "├──────────────┼──────────────────────┼───────────────┼─────────────┤\n",
      "│ Petal Width  │ Setosa vs Versicolor │     -34.0124  │ 4.58908e-56 │\n",
      "╘══════════════╧══════════════════════╧═══════════════╧═════════════╛\n"
     ]
    }
   ],
   "source": [
    "# Results for sepal length\n",
    "sepal_length_results = [\n",
    "    {'T-statistic': t_test_setosa_vs_virginica[0][\"T-statistic\"], 'P-value': t_test_setosa_vs_virginica[0][\"P-value\"]},\n",
    "    {'T-statistic': t_test_setosa_vs_versicolor[0][\"T-statistic\"], 'P-value': t_test_setosa_vs_versicolor[0][\"P-value\"]}\n",
    "]\n",
    "\n",
    "# Results for petal length\n",
    "petal_length_results = [\n",
    "    {'T-statistic': t_test_setosa_vs_virginica_pl[0][\"T-statistic\"], 'P-value': t_test_setosa_vs_virginica_pl[0][\"P-value\"]},\n",
    "    {'T-statistic': t_test_setosa_vs_versicolor_pl[0][\"T-statistic\"], 'P-value': t_test_setosa_vs_versicolor_pl[0][\"P-value\"]}\n",
    "]\n",
    "\n",
    "# Results for sepal width\n",
    "sepal_width_results = [\n",
    "    {'T-statistic': t_test_setosa_vs_virginica_sw[0][\"T-statistic\"], 'P-value': t_test_setosa_vs_virginica_sw[0][\"P-value\"]},\n",
    "    {'T-statistic': t_test_setosa_vs_versicolor_sw[0][\"T-statistic\"], 'P-value': t_test_setosa_vs_versicolor_sw[0][\"P-value\"]}\n",
    "]\n",
    "\n",
    "# Results for petal width\n",
    "petal_width_results = [\n",
    "    {'T-statistic': t_test_setosa_vs_virginica_pw[0][\"T-statistic\"], 'P-value': t_test_setosa_vs_virginica_pw[0][\"P-value\"]},\n",
    "    {'T-statistic': t_test_setosa_vs_versicolor_pw[0][\"T-statistic\"], 'P-value': t_test_setosa_vs_versicolor_pw[0][\"P-value\"]}\n",
    "]\n",
    "\n",
    "# DataFrame\n",
    "df = pd.DataFrame({\n",
    "    'Feature': ['Sepal Length', 'Sepal Length', 'Petal Length', 'Petal Length', 'Sepal Width', 'Sepal Width', 'Petal Width', 'Petal Width'],\n",
    "    'Comparison': ['Setosa vs Virginica', 'Setosa vs Versicolor'] * 4,\n",
    "    'T-statistic': [result['T-statistic'] for result in sepal_length_results + petal_length_results + sepal_width_results + petal_width_results],\n",
    "    'P-value': [result['P-value'] for result in sepal_length_results + petal_length_results + sepal_width_results + petal_width_results]\n",
    "})\n",
    "\n",
    "# Display the dataframe in a table using tabulate\n",
    "table = tabulate(df, headers='keys', tablefmt='fancy_grid', showindex=False)\n",
    "\n",
    "print(table)"
   ]
  },
  {
   "cell_type": "markdown",
   "id": "ef9df1e2",
   "metadata": {},
   "source": [
    "**Results interpretation**\n",
    "- The null hypothesis is that the means for the attributes from different classes are equals.\n",
    "- The low p-values indicate that the probability of the means for the attribute in both classes being equal is highly unlikely. \n",
    "- The attribute difference between the Setosa class and the other two classes (versicolor and virginica) are statistically significant. Therefore, the setosa class may be separated from the other two classes. "
   ]
  },
  {
   "cell_type": "markdown",
   "id": "953e0448",
   "metadata": {},
   "source": [
    "**References**"
   ]
  },
  {
   "cell_type": "markdown",
   "id": "f2f2e7a3",
   "metadata": {},
   "source": [
    "1. Seaborn pairplot: https://seaborn.pydata.org/generated/seaborn.pairplot.html  \n",
    "2. Shapiro-Wilk test: https://docs.scipy.org/doc/scipy/reference/generated/scipy.stats.shapiro.html  \n",
    "3. Probability plot: https://www.itl.nist.gov/div898/handbook/eda/section3/probplot.htm  \n",
    "4. Spicy.stats Probability Plot: https://docs.scipy.org/doc/scipy/reference/generated/scipy.stats.probplot.html  \n",
    "5. Spicy.stats t-test: https://docs.scipy.org/doc/scipy/reference/generated/scipy.stats.ttest_ind.html  \n"
   ]
  },
  {
   "cell_type": "markdown",
   "metadata": {},
   "source": [
    "## **TASK 5. PRINCIPAL COMPONENT ANALYSIS ON THE IRIS DATA SET**\n",
    "\n",
    "***"
   ]
  },
  {
   "cell_type": "markdown",
   "metadata": {},
   "source": [
    "Perform Principal Component Analysis on the iris data set, reducing the number of dimensions to two. Explain the purpose of the analysis and your results."
   ]
  },
  {
   "cell_type": "markdown",
   "metadata": {},
   "source": [
    "**What is the purpose of a principal component analysis?**\n",
    "\n",
    "The principal component analysis (PCA) is a dimensionality reduction technique used to simplify complex datasets. It aims to reduce the number of features or variables while preserving essential information. By finding new uncorrelated variables called principal components, PCA helps achieve this reduction.(1)\n",
    "\n",
    "PCA identifies the axes along which data varies the most, ranking them by importance. It captures maximum variance in the first principal component, followed by variations in subsequent components. This reduction in dimensionality is beneficial for data visualization, as it makes it easier to understand and interpret high-dimensional data.(1)\n",
    "\n",
    "PCA is used for feature selection, emphasizing the most significant variables in a dataset. It can be applied in data compression, reducing dataset size while maintaining crucial patterns. Since PCA is an unsupervised learning algorithm, making it useful for exploring relationships among variables without prior knowledge of target variables.(1)\n",
    "\n",
    "Overall, PCA simplifies data analysis, enhances data visualization, and aids in various machine learning and data-driven tasks by reducing complexity while preserving critical information.(1)"
   ]
  },
  {
   "cell_type": "markdown",
   "metadata": {},
   "source": [
    "**How to apply the PCA to the Iris Dataset?**\n",
    "\n",
    "The Iris dataset has four features (sepal length, sepal width, petal length, and petal width). PCA can reduce these dimensions while preserving most of the dataset's variance, making it easier to visualize and analyze.  By analyzing the importance of each principal component, PCA can help identify which original features (sepal length, sepal width, petal length, or petal width) contribute most to the variance in the data. This can guide feature selection for further analysis. "
   ]
  },
  {
   "cell_type": "markdown",
   "metadata": {},
   "source": [
    "**Standardize - Why is it necessary?**"
   ]
  },
  {
   "cell_type": "markdown",
   "metadata": {},
   "source": [
    "Each class of the iris dataset has 4 attributes. Each attribute may have different impact on how the PCA performs."
   ]
  },
  {
   "cell_type": "code",
   "execution_count": 82,
   "metadata": {},
   "outputs": [
    {
     "data": {
      "text/html": [
       "<div>\n",
       "<style scoped>\n",
       "    .dataframe tbody tr th:only-of-type {\n",
       "        vertical-align: middle;\n",
       "    }\n",
       "\n",
       "    .dataframe tbody tr th {\n",
       "        vertical-align: top;\n",
       "    }\n",
       "\n",
       "    .dataframe thead th {\n",
       "        text-align: right;\n",
       "    }\n",
       "</style>\n",
       "<table border=\"1\" class=\"dataframe\">\n",
       "  <thead>\n",
       "    <tr style=\"text-align: right;\">\n",
       "      <th></th>\n",
       "      <th>sepal_length</th>\n",
       "      <th>sepal_width</th>\n",
       "      <th>petal_length</th>\n",
       "      <th>petal_width</th>\n",
       "      <th>class</th>\n",
       "    </tr>\n",
       "  </thead>\n",
       "  <tbody>\n",
       "    <tr>\n",
       "      <th>0</th>\n",
       "      <td>5.1</td>\n",
       "      <td>3.5</td>\n",
       "      <td>1.4</td>\n",
       "      <td>0.2</td>\n",
       "      <td>setosa</td>\n",
       "    </tr>\n",
       "    <tr>\n",
       "      <th>1</th>\n",
       "      <td>4.9</td>\n",
       "      <td>3.0</td>\n",
       "      <td>1.4</td>\n",
       "      <td>0.2</td>\n",
       "      <td>setosa</td>\n",
       "    </tr>\n",
       "    <tr>\n",
       "      <th>2</th>\n",
       "      <td>4.7</td>\n",
       "      <td>3.2</td>\n",
       "      <td>1.3</td>\n",
       "      <td>0.2</td>\n",
       "      <td>setosa</td>\n",
       "    </tr>\n",
       "    <tr>\n",
       "      <th>3</th>\n",
       "      <td>4.6</td>\n",
       "      <td>3.1</td>\n",
       "      <td>1.5</td>\n",
       "      <td>0.2</td>\n",
       "      <td>setosa</td>\n",
       "    </tr>\n",
       "    <tr>\n",
       "      <th>4</th>\n",
       "      <td>5.0</td>\n",
       "      <td>3.6</td>\n",
       "      <td>1.4</td>\n",
       "      <td>0.2</td>\n",
       "      <td>setosa</td>\n",
       "    </tr>\n",
       "  </tbody>\n",
       "</table>\n",
       "</div>"
      ],
      "text/plain": [
       "   sepal_length  sepal_width  petal_length  petal_width   class\n",
       "0           5.1          3.5           1.4          0.2  setosa\n",
       "1           4.9          3.0           1.4          0.2  setosa\n",
       "2           4.7          3.2           1.3          0.2  setosa\n",
       "3           4.6          3.1           1.5          0.2  setosa\n",
       "4           5.0          3.6           1.4          0.2  setosa"
      ]
     },
     "execution_count": 82,
     "metadata": {},
     "output_type": "execute_result"
    }
   ],
   "source": [
    "idf.head()"
   ]
  },
  {
   "cell_type": "markdown",
   "metadata": {},
   "source": [
    "In PCA, standardization is crucial because it ensures that all features contribute equally by scaling them to have a mean of 0 and a standard deviation of 1. This prevents features with larger scales from dominating the principal components and guarantees an accurate representation of the data based on variances.(2) This is crucial in marchine learning in order to get an accurate prediction of our data. "
   ]
  },
  {
   "cell_type": "code",
   "execution_count": 83,
   "metadata": {},
   "outputs": [
    {
     "data": {
      "text/html": [
       "<div>\n",
       "<style scoped>\n",
       "    .dataframe tbody tr th:only-of-type {\n",
       "        vertical-align: middle;\n",
       "    }\n",
       "\n",
       "    .dataframe tbody tr th {\n",
       "        vertical-align: top;\n",
       "    }\n",
       "\n",
       "    .dataframe thead th {\n",
       "        text-align: right;\n",
       "    }\n",
       "</style>\n",
       "<table border=\"1\" class=\"dataframe\">\n",
       "  <thead>\n",
       "    <tr style=\"text-align: right;\">\n",
       "      <th></th>\n",
       "      <th>sepal_length</th>\n",
       "      <th>sepal_width</th>\n",
       "      <th>petal_length</th>\n",
       "      <th>petal_width</th>\n",
       "    </tr>\n",
       "  </thead>\n",
       "  <tbody>\n",
       "    <tr>\n",
       "      <th>0</th>\n",
       "      <td>5.1</td>\n",
       "      <td>3.5</td>\n",
       "      <td>1.4</td>\n",
       "      <td>0.2</td>\n",
       "    </tr>\n",
       "    <tr>\n",
       "      <th>1</th>\n",
       "      <td>4.9</td>\n",
       "      <td>3.0</td>\n",
       "      <td>1.4</td>\n",
       "      <td>0.2</td>\n",
       "    </tr>\n",
       "    <tr>\n",
       "      <th>2</th>\n",
       "      <td>4.7</td>\n",
       "      <td>3.2</td>\n",
       "      <td>1.3</td>\n",
       "      <td>0.2</td>\n",
       "    </tr>\n",
       "    <tr>\n",
       "      <th>3</th>\n",
       "      <td>4.6</td>\n",
       "      <td>3.1</td>\n",
       "      <td>1.5</td>\n",
       "      <td>0.2</td>\n",
       "    </tr>\n",
       "    <tr>\n",
       "      <th>4</th>\n",
       "      <td>5.0</td>\n",
       "      <td>3.6</td>\n",
       "      <td>1.4</td>\n",
       "      <td>0.2</td>\n",
       "    </tr>\n",
       "  </tbody>\n",
       "</table>\n",
       "</div>"
      ],
      "text/plain": [
       "   sepal_length  sepal_width  petal_length  petal_width\n",
       "0           5.1          3.5           1.4          0.2\n",
       "1           4.9          3.0           1.4          0.2\n",
       "2           4.7          3.2           1.3          0.2\n",
       "3           4.6          3.1           1.5          0.2\n",
       "4           5.0          3.6           1.4          0.2"
      ]
     },
     "execution_count": 83,
     "metadata": {},
     "output_type": "execute_result"
    }
   ],
   "source": [
    "# Remove the \"class\" column\n",
    "x = idf.drop('class', axis=1)\n",
    "x.head()"
   ]
  },
  {
   "cell_type": "markdown",
   "metadata": {},
   "source": [
    "**Example of PCA without Standarization**"
   ]
  },
  {
   "cell_type": "markdown",
   "metadata": {},
   "source": [
    "For this task, we will use the PCA package from sklearn.(3)"
   ]
  },
  {
   "cell_type": "code",
   "execution_count": 84,
   "metadata": {},
   "outputs": [
    {
     "data": {
      "text/html": [
       "<style>#sk-container-id-3 {color: black;background-color: white;}#sk-container-id-3 pre{padding: 0;}#sk-container-id-3 div.sk-toggleable {background-color: white;}#sk-container-id-3 label.sk-toggleable__label {cursor: pointer;display: block;width: 100%;margin-bottom: 0;padding: 0.3em;box-sizing: border-box;text-align: center;}#sk-container-id-3 label.sk-toggleable__label-arrow:before {content: \"▸\";float: left;margin-right: 0.25em;color: #696969;}#sk-container-id-3 label.sk-toggleable__label-arrow:hover:before {color: black;}#sk-container-id-3 div.sk-estimator:hover label.sk-toggleable__label-arrow:before {color: black;}#sk-container-id-3 div.sk-toggleable__content {max-height: 0;max-width: 0;overflow: hidden;text-align: left;background-color: #f0f8ff;}#sk-container-id-3 div.sk-toggleable__content pre {margin: 0.2em;color: black;border-radius: 0.25em;background-color: #f0f8ff;}#sk-container-id-3 input.sk-toggleable__control:checked~div.sk-toggleable__content {max-height: 200px;max-width: 100%;overflow: auto;}#sk-container-id-3 input.sk-toggleable__control:checked~label.sk-toggleable__label-arrow:before {content: \"▾\";}#sk-container-id-3 div.sk-estimator input.sk-toggleable__control:checked~label.sk-toggleable__label {background-color: #d4ebff;}#sk-container-id-3 div.sk-label input.sk-toggleable__control:checked~label.sk-toggleable__label {background-color: #d4ebff;}#sk-container-id-3 input.sk-hidden--visually {border: 0;clip: rect(1px 1px 1px 1px);clip: rect(1px, 1px, 1px, 1px);height: 1px;margin: -1px;overflow: hidden;padding: 0;position: absolute;width: 1px;}#sk-container-id-3 div.sk-estimator {font-family: monospace;background-color: #f0f8ff;border: 1px dotted black;border-radius: 0.25em;box-sizing: border-box;margin-bottom: 0.5em;}#sk-container-id-3 div.sk-estimator:hover {background-color: #d4ebff;}#sk-container-id-3 div.sk-parallel-item::after {content: \"\";width: 100%;border-bottom: 1px solid gray;flex-grow: 1;}#sk-container-id-3 div.sk-label:hover label.sk-toggleable__label {background-color: #d4ebff;}#sk-container-id-3 div.sk-serial::before {content: \"\";position: absolute;border-left: 1px solid gray;box-sizing: border-box;top: 0;bottom: 0;left: 50%;z-index: 0;}#sk-container-id-3 div.sk-serial {display: flex;flex-direction: column;align-items: center;background-color: white;padding-right: 0.2em;padding-left: 0.2em;position: relative;}#sk-container-id-3 div.sk-item {position: relative;z-index: 1;}#sk-container-id-3 div.sk-parallel {display: flex;align-items: stretch;justify-content: center;background-color: white;position: relative;}#sk-container-id-3 div.sk-item::before, #sk-container-id-3 div.sk-parallel-item::before {content: \"\";position: absolute;border-left: 1px solid gray;box-sizing: border-box;top: 0;bottom: 0;left: 50%;z-index: -1;}#sk-container-id-3 div.sk-parallel-item {display: flex;flex-direction: column;z-index: 1;position: relative;background-color: white;}#sk-container-id-3 div.sk-parallel-item:first-child::after {align-self: flex-end;width: 50%;}#sk-container-id-3 div.sk-parallel-item:last-child::after {align-self: flex-start;width: 50%;}#sk-container-id-3 div.sk-parallel-item:only-child::after {width: 0;}#sk-container-id-3 div.sk-dashed-wrapped {border: 1px dashed gray;margin: 0 0.4em 0.5em 0.4em;box-sizing: border-box;padding-bottom: 0.4em;background-color: white;}#sk-container-id-3 div.sk-label label {font-family: monospace;font-weight: bold;display: inline-block;line-height: 1.2em;}#sk-container-id-3 div.sk-label-container {text-align: center;}#sk-container-id-3 div.sk-container {/* jupyter's `normalize.less` sets `[hidden] { display: none; }` but bootstrap.min.css set `[hidden] { display: none !important; }` so we also need the `!important` here to be able to override the default hidden behavior on the sphinx rendered scikit-learn.org. See: https://github.com/scikit-learn/scikit-learn/issues/21755 */display: inline-block !important;position: relative;}#sk-container-id-3 div.sk-text-repr-fallback {display: none;}</style><div id=\"sk-container-id-3\" class=\"sk-top-container\"><div class=\"sk-text-repr-fallback\"><pre>PCA(n_components=2)</pre><b>In a Jupyter environment, please rerun this cell to show the HTML representation or trust the notebook. <br />On GitHub, the HTML representation is unable to render, please try loading this page with nbviewer.org.</b></div><div class=\"sk-container\" hidden><div class=\"sk-item\"><div class=\"sk-estimator sk-toggleable\"><input class=\"sk-toggleable__control sk-hidden--visually\" id=\"sk-estimator-id-3\" type=\"checkbox\" checked><label for=\"sk-estimator-id-3\" class=\"sk-toggleable__label sk-toggleable__label-arrow\">PCA</label><div class=\"sk-toggleable__content\"><pre>PCA(n_components=2)</pre></div></div></div></div></div>"
      ],
      "text/plain": [
       "PCA(n_components=2)"
      ]
     },
     "execution_count": 84,
     "metadata": {},
     "output_type": "execute_result"
    }
   ],
   "source": [
    "# Create a new PCA\n",
    "pca = dec.PCA(n_components=2) # number of components required in the output\n",
    "\n",
    "# Fit the data to the pca\n",
    "pca.fit(x)"
   ]
  },
  {
   "cell_type": "code",
   "execution_count": 85,
   "metadata": {},
   "outputs": [
    {
     "data": {
      "text/plain": [
       "array([0.92461621, 0.05301557])"
      ]
     },
     "execution_count": 85,
     "metadata": {},
     "output_type": "execute_result"
    }
   ],
   "source": [
    "# show variablity\n",
    "pca.explained_variance_ratio_"
   ]
  },
  {
   "cell_type": "markdown",
   "metadata": {},
   "source": [
    "The result of this array([0.92461621, 0.05301557]) explains variance ratios of the principal components in a PCA analysis. Each value in this array represents the proportion of the total variance in the original data that is explained by each respective principal component.\n",
    "\n",
    "In this case:\n",
    "\n",
    "- The first value, 0.92461621, indicates that the first principal component explains approximately 92.46% of the total variance in the dataset. This is a substantial amount of variance and suggests that the first principal component captures most of the information in the data.\n",
    "\n",
    "- The second value, 0.05301557, represents that the second principal component explains approximately 5.30% of the total variance. While this is a smaller proportion compared to the first component, it still contributes some information, but significantly less than the first component."
   ]
  },
  {
   "cell_type": "markdown",
   "metadata": {},
   "source": [
    "The transform() function in PCA converts data into a lower-dimensional representation using principal components. It reduces dimensionality while preserving key information, making it useful for data analysis and machine learning tasks.(4)"
   ]
  },
  {
   "cell_type": "code",
   "execution_count": 86,
   "metadata": {},
   "outputs": [
    {
     "data": {
      "text/plain": [
       "array([[-2.68420713,  0.32660731],\n",
       "       [-2.71539062, -0.16955685],\n",
       "       [-2.88981954, -0.13734561],\n",
       "       [-2.7464372 , -0.31112432],\n",
       "       [-2.72859298,  0.33392456],\n",
       "       [-2.27989736,  0.74778271],\n",
       "       [-2.82089068, -0.08210451],\n",
       "       [-2.62648199,  0.17040535],\n",
       "       [-2.88795857, -0.57079803],\n",
       "       [-2.67384469, -0.1066917 ],\n",
       "       [-2.50652679,  0.65193501],\n",
       "       [-2.61314272,  0.02152063],\n",
       "       [-2.78743398, -0.22774019],\n",
       "       [-3.22520045, -0.50327991],\n",
       "       [-2.64354322,  1.1861949 ],\n",
       "       [-2.38386932,  1.34475434],\n",
       "       [-2.6225262 ,  0.81808967],\n",
       "       [-2.64832273,  0.31913667],\n",
       "       [-2.19907796,  0.87924409],\n",
       "       [-2.58734619,  0.52047364],\n",
       "       [-2.3105317 ,  0.39786782],\n",
       "       [-2.54323491,  0.44003175],\n",
       "       [-3.21585769,  0.14161557],\n",
       "       [-2.30312854,  0.10552268],\n",
       "       [-2.35617109, -0.03120959],\n",
       "       [-2.50791723, -0.13905634],\n",
       "       [-2.469056  ,  0.13788731],\n",
       "       [-2.56239095,  0.37468456],\n",
       "       [-2.63982127,  0.31929007],\n",
       "       [-2.63284791, -0.19007583],\n",
       "       [-2.58846205, -0.19739308],\n",
       "       [-2.41007734,  0.41808001],\n",
       "       [-2.64763667,  0.81998263],\n",
       "       [-2.59715948,  1.10002193],\n",
       "       [-2.67384469, -0.1066917 ],\n",
       "       [-2.86699985,  0.0771931 ],\n",
       "       [-2.62522846,  0.60680001],\n",
       "       [-2.67384469, -0.1066917 ],\n",
       "       [-2.98184266, -0.48025005],\n",
       "       [-2.59032303,  0.23605934],\n",
       "       [-2.77013891,  0.27105942],\n",
       "       [-2.85221108, -0.93286537],\n",
       "       [-2.99829644, -0.33430757],\n",
       "       [-2.4055141 ,  0.19591726],\n",
       "       [-2.20883295,  0.44269603],\n",
       "       [-2.71566519, -0.24268148],\n",
       "       [-2.53757337,  0.51036755],\n",
       "       [-2.8403213 , -0.22057634],\n",
       "       [-2.54268576,  0.58628103],\n",
       "       [-2.70391231,  0.11501085],\n",
       "       [ 1.28479459,  0.68543919],\n",
       "       [ 0.93241075,  0.31919809],\n",
       "       [ 1.46406132,  0.50418983],\n",
       "       [ 0.18096721, -0.82560394],\n",
       "       [ 1.08713449,  0.07539039],\n",
       "       [ 0.64043675, -0.41732348],\n",
       "       [ 1.09522371,  0.28389121],\n",
       "       [-0.75146714, -1.00110751],\n",
       "       [ 1.04329778,  0.22895691],\n",
       "       [-0.01019007, -0.72057487],\n",
       "       [-0.5110862 , -1.26249195],\n",
       "       [ 0.51109806, -0.10228411],\n",
       "       [ 0.26233576, -0.5478933 ],\n",
       "       [ 0.98404455, -0.12436042],\n",
       "       [-0.174864  , -0.25181557],\n",
       "       [ 0.92757294,  0.46823621],\n",
       "       [ 0.65959279, -0.35197629],\n",
       "       [ 0.23454059, -0.33192183],\n",
       "       [ 0.94236171, -0.54182226],\n",
       "       [ 0.0432464 , -0.58148945],\n",
       "       [ 1.11624072, -0.08421401],\n",
       "       [ 0.35678657, -0.06682383],\n",
       "       [ 1.29646885, -0.32756152],\n",
       "       [ 0.92050265, -0.18239036],\n",
       "       [ 0.71400821,  0.15037915],\n",
       "       [ 0.89964086,  0.32961098],\n",
       "       [ 1.33104142,  0.24466952],\n",
       "       [ 1.55739627,  0.26739258],\n",
       "       [ 0.81245555, -0.16233157],\n",
       "       [-0.30733476, -0.36508661],\n",
       "       [-0.07034289, -0.70253793],\n",
       "       [-0.19188449, -0.67749054],\n",
       "       [ 0.13499495, -0.31170964],\n",
       "       [ 1.37873698, -0.42120514],\n",
       "       [ 0.58727485, -0.48328427],\n",
       "       [ 0.8072055 ,  0.19505396],\n",
       "       [ 1.22042897,  0.40803534],\n",
       "       [ 0.81286779, -0.370679  ],\n",
       "       [ 0.24519516, -0.26672804],\n",
       "       [ 0.16451343, -0.67966147],\n",
       "       [ 0.46303099, -0.66952655],\n",
       "       [ 0.89016045, -0.03381244],\n",
       "       [ 0.22887905, -0.40225762],\n",
       "       [-0.70708128, -1.00842476],\n",
       "       [ 0.35553304, -0.50321849],\n",
       "       [ 0.33112695, -0.21118014],\n",
       "       [ 0.37523823, -0.29162202],\n",
       "       [ 0.64169028,  0.01907118],\n",
       "       [-0.90846333, -0.75156873],\n",
       "       [ 0.29780791, -0.34701652],\n",
       "       [ 2.53172698, -0.01184224],\n",
       "       [ 1.41407223, -0.57492506],\n",
       "       [ 2.61648461,  0.34193529],\n",
       "       [ 1.97081495, -0.18112569],\n",
       "       [ 2.34975798, -0.04188255],\n",
       "       [ 3.39687992,  0.54716805],\n",
       "       [ 0.51938325, -1.19135169],\n",
       "       [ 2.9320051 ,  0.35237701],\n",
       "       [ 2.31967279, -0.24554817],\n",
       "       [ 2.91813423,  0.78038063],\n",
       "       [ 1.66193495,  0.2420384 ],\n",
       "       [ 1.80234045, -0.21615461],\n",
       "       [ 2.16537886,  0.21528028],\n",
       "       [ 1.34459422, -0.77641543],\n",
       "       [ 1.5852673 , -0.53930705],\n",
       "       [ 1.90474358,  0.11881899],\n",
       "       [ 1.94924878,  0.04073026],\n",
       "       [ 3.48876538,  1.17154454],\n",
       "       [ 3.79468686,  0.25326557],\n",
       "       [ 1.29832982, -0.76101394],\n",
       "       [ 2.42816726,  0.37678197],\n",
       "       [ 1.19809737, -0.60557896],\n",
       "       [ 3.49926548,  0.45677347],\n",
       "       [ 1.38766825, -0.20403099],\n",
       "       [ 2.27585365,  0.33338653],\n",
       "       [ 2.61419383,  0.55836695],\n",
       "       [ 1.25762518, -0.179137  ],\n",
       "       [ 1.29066965, -0.11642525],\n",
       "       [ 2.12285398, -0.21085488],\n",
       "       [ 2.3875644 ,  0.46251925],\n",
       "       [ 2.84096093,  0.37274259],\n",
       "       [ 3.2323429 ,  1.37052404],\n",
       "       [ 2.15873837, -0.21832553],\n",
       "       [ 1.4431026 , -0.14380129],\n",
       "       [ 1.77964011, -0.50146479],\n",
       "       [ 3.07652162,  0.68576444],\n",
       "       [ 2.14498686,  0.13890661],\n",
       "       [ 1.90486293,  0.04804751],\n",
       "       [ 1.16885347, -0.1645025 ],\n",
       "       [ 2.10765373,  0.37148225],\n",
       "       [ 2.31430339,  0.18260885],\n",
       "       [ 1.92245088,  0.40927118],\n",
       "       [ 1.41407223, -0.57492506],\n",
       "       [ 2.56332271,  0.2759745 ],\n",
       "       [ 2.41939122,  0.30350394],\n",
       "       [ 1.94401705,  0.18741522],\n",
       "       [ 1.52566363, -0.37502085],\n",
       "       [ 1.76404594,  0.07851919],\n",
       "       [ 1.90162908,  0.11587675],\n",
       "       [ 1.38966613, -0.28288671]])"
      ]
     },
     "execution_count": 86,
     "metadata": {},
     "output_type": "execute_result"
    }
   ],
   "source": [
    "# Transform x\n",
    "x_pca = pca.transform(x)\n",
    "x_pca"
   ]
  },
  {
   "cell_type": "markdown",
   "metadata": {},
   "source": [
    "Across the dataset, we can observe a big difference on the variances between components."
   ]
  },
  {
   "cell_type": "code",
   "execution_count": 87,
   "metadata": {},
   "outputs": [
    {
     "data": {
      "text/plain": [
       "<seaborn.axisgrid.PairGrid at 0x1e26a52eb20>"
      ]
     },
     "execution_count": 87,
     "metadata": {},
     "output_type": "execute_result"
    },
    {
     "data": {
      "image/png": "[encoded data removed]",
      "text/plain": [
       "<Figure size 360x360 with 6 Axes>"
      ]
     },
     "metadata": {
      "needs_background": "light"
     },
     "output_type": "display_data"
    }
   ],
   "source": [
    "# Array visualization\n",
    "x_pca_pd = pd.DataFrame(x_pca)\n",
    "sns.pairplot(x_pca_pd)"
   ]
  },
  {
   "cell_type": "markdown",
   "metadata": {},
   "source": [
    "From the scatter plot, we can observe that there is a clear difference between components. How does apply to the classes on the iris dataset? "
   ]
  },
  {
   "cell_type": "code",
   "execution_count": 88,
   "metadata": {},
   "outputs": [
    {
     "data": {
      "text/html": [
       "<div>\n",
       "<style scoped>\n",
       "    .dataframe tbody tr th:only-of-type {\n",
       "        vertical-align: middle;\n",
       "    }\n",
       "\n",
       "    .dataframe tbody tr th {\n",
       "        vertical-align: top;\n",
       "    }\n",
       "\n",
       "    .dataframe thead th {\n",
       "        text-align: right;\n",
       "    }\n",
       "</style>\n",
       "<table border=\"1\" class=\"dataframe\">\n",
       "  <thead>\n",
       "    <tr style=\"text-align: right;\">\n",
       "      <th></th>\n",
       "      <th>class</th>\n",
       "    </tr>\n",
       "  </thead>\n",
       "  <tbody>\n",
       "    <tr>\n",
       "      <th>0</th>\n",
       "      <td>setosa</td>\n",
       "    </tr>\n",
       "    <tr>\n",
       "      <th>1</th>\n",
       "      <td>setosa</td>\n",
       "    </tr>\n",
       "    <tr>\n",
       "      <th>2</th>\n",
       "      <td>setosa</td>\n",
       "    </tr>\n",
       "    <tr>\n",
       "      <th>3</th>\n",
       "      <td>setosa</td>\n",
       "    </tr>\n",
       "    <tr>\n",
       "      <th>4</th>\n",
       "      <td>setosa</td>\n",
       "    </tr>\n",
       "  </tbody>\n",
       "</table>\n",
       "</div>"
      ],
      "text/plain": [
       "    class\n",
       "0  setosa\n",
       "1  setosa\n",
       "2  setosa\n",
       "3  setosa\n",
       "4  setosa"
      ]
     },
     "execution_count": 88,
     "metadata": {},
     "output_type": "execute_result"
    }
   ],
   "source": [
    "# Create a new dataframe with the classes column\n",
    "idf_pca = pd.DataFrame(idf[[\"class\"]])\n",
    "idf_pca.head()"
   ]
  },
  {
   "cell_type": "code",
   "execution_count": 89,
   "metadata": {},
   "outputs": [
    {
     "data": {
      "text/html": [
       "<div>\n",
       "<style scoped>\n",
       "    .dataframe tbody tr th:only-of-type {\n",
       "        vertical-align: middle;\n",
       "    }\n",
       "\n",
       "    .dataframe tbody tr th {\n",
       "        vertical-align: top;\n",
       "    }\n",
       "\n",
       "    .dataframe thead th {\n",
       "        text-align: right;\n",
       "    }\n",
       "</style>\n",
       "<table border=\"1\" class=\"dataframe\">\n",
       "  <thead>\n",
       "    <tr style=\"text-align: right;\">\n",
       "      <th></th>\n",
       "      <th>class</th>\n",
       "      <th>pca0</th>\n",
       "      <th>pca1</th>\n",
       "    </tr>\n",
       "  </thead>\n",
       "  <tbody>\n",
       "    <tr>\n",
       "      <th>0</th>\n",
       "      <td>setosa</td>\n",
       "      <td>-2.684207</td>\n",
       "      <td>0.326607</td>\n",
       "    </tr>\n",
       "    <tr>\n",
       "      <th>1</th>\n",
       "      <td>setosa</td>\n",
       "      <td>-2.715391</td>\n",
       "      <td>-0.169557</td>\n",
       "    </tr>\n",
       "    <tr>\n",
       "      <th>2</th>\n",
       "      <td>setosa</td>\n",
       "      <td>-2.889820</td>\n",
       "      <td>-0.137346</td>\n",
       "    </tr>\n",
       "    <tr>\n",
       "      <th>3</th>\n",
       "      <td>setosa</td>\n",
       "      <td>-2.746437</td>\n",
       "      <td>-0.311124</td>\n",
       "    </tr>\n",
       "    <tr>\n",
       "      <th>4</th>\n",
       "      <td>setosa</td>\n",
       "      <td>-2.728593</td>\n",
       "      <td>0.333925</td>\n",
       "    </tr>\n",
       "  </tbody>\n",
       "</table>\n",
       "</div>"
      ],
      "text/plain": [
       "    class      pca0      pca1\n",
       "0  setosa -2.684207  0.326607\n",
       "1  setosa -2.715391 -0.169557\n",
       "2  setosa -2.889820 -0.137346\n",
       "3  setosa -2.746437 -0.311124\n",
       "4  setosa -2.728593  0.333925"
      ]
     },
     "execution_count": 89,
     "metadata": {},
     "output_type": "execute_result"
    }
   ],
   "source": [
    "# Add the results for each component done by the PCA\n",
    "idf_pca['pca0'] = x_pca[:,0]\n",
    "idf_pca['pca1'] = x_pca[:,1]\n",
    "idf_pca.head()"
   ]
  },
  {
   "cell_type": "code",
   "execution_count": 90,
   "metadata": {},
   "outputs": [
    {
     "data": {
      "text/plain": [
       "<seaborn.axisgrid.PairGrid at 0x1e26ac23a90>"
      ]
     },
     "execution_count": 90,
     "metadata": {},
     "output_type": "execute_result"
    },
    {
     "data": {
      "image/png": "[encoded data removed]",
      "text/plain": [
       "<Figure size 444.75x360 with 6 Axes>"
      ]
     },
     "metadata": {
      "needs_background": "light"
     },
     "output_type": "display_data"
    }
   ],
   "source": [
    "# Visualization\n",
    "sns.pairplot(idf_pca,hue='class')"
   ]
  },
  {
   "cell_type": "markdown",
   "metadata": {},
   "source": [
    "Without standarization, we can observe that:\n",
    "- For the setosa class, both components are easy to differentiate. \n",
    "- For the versicolor and virginica class, both components overlap. Making the classes more difficult to differentiate which, in order to apply a machine learning algorithm, it may be a problem."
   ]
  },
  {
   "cell_type": "markdown",
   "metadata": {},
   "source": [
    "Will the standarization help to prevent this issue? "
   ]
  },
  {
   "cell_type": "markdown",
   "metadata": {},
   "source": [
    "**After standarization**"
   ]
  },
  {
   "cell_type": "markdown",
   "metadata": {},
   "source": [
    "We will use the standarize feature provided by Sklearn.(5)"
   ]
  },
  {
   "cell_type": "code",
   "execution_count": 91,
   "metadata": {},
   "outputs": [
    {
     "data": {
      "text/html": [
       "<style>#sk-container-id-4 {color: black;background-color: white;}#sk-container-id-4 pre{padding: 0;}#sk-container-id-4 div.sk-toggleable {background-color: white;}#sk-container-id-4 label.sk-toggleable__label {cursor: pointer;display: block;width: 100%;margin-bottom: 0;padding: 0.3em;box-sizing: border-box;text-align: center;}#sk-container-id-4 label.sk-toggleable__label-arrow:before {content: \"▸\";float: left;margin-right: 0.25em;color: #696969;}#sk-container-id-4 label.sk-toggleable__label-arrow:hover:before {color: black;}#sk-container-id-4 div.sk-estimator:hover label.sk-toggleable__label-arrow:before {color: black;}#sk-container-id-4 div.sk-toggleable__content {max-height: 0;max-width: 0;overflow: hidden;text-align: left;background-color: #f0f8ff;}#sk-container-id-4 div.sk-toggleable__content pre {margin: 0.2em;color: black;border-radius: 0.25em;background-color: #f0f8ff;}#sk-container-id-4 input.sk-toggleable__control:checked~div.sk-toggleable__content {max-height: 200px;max-width: 100%;overflow: auto;}#sk-container-id-4 input.sk-toggleable__control:checked~label.sk-toggleable__label-arrow:before {content: \"▾\";}#sk-container-id-4 div.sk-estimator input.sk-toggleable__control:checked~label.sk-toggleable__label {background-color: #d4ebff;}#sk-container-id-4 div.sk-label input.sk-toggleable__control:checked~label.sk-toggleable__label {background-color: #d4ebff;}#sk-container-id-4 input.sk-hidden--visually {border: 0;clip: rect(1px 1px 1px 1px);clip: rect(1px, 1px, 1px, 1px);height: 1px;margin: -1px;overflow: hidden;padding: 0;position: absolute;width: 1px;}#sk-container-id-4 div.sk-estimator {font-family: monospace;background-color: #f0f8ff;border: 1px dotted black;border-radius: 0.25em;box-sizing: border-box;margin-bottom: 0.5em;}#sk-container-id-4 div.sk-estimator:hover {background-color: #d4ebff;}#sk-container-id-4 div.sk-parallel-item::after {content: \"\";width: 100%;border-bottom: 1px solid gray;flex-grow: 1;}#sk-container-id-4 div.sk-label:hover label.sk-toggleable__label {background-color: #d4ebff;}#sk-container-id-4 div.sk-serial::before {content: \"\";position: absolute;border-left: 1px solid gray;box-sizing: border-box;top: 0;bottom: 0;left: 50%;z-index: 0;}#sk-container-id-4 div.sk-serial {display: flex;flex-direction: column;align-items: center;background-color: white;padding-right: 0.2em;padding-left: 0.2em;position: relative;}#sk-container-id-4 div.sk-item {position: relative;z-index: 1;}#sk-container-id-4 div.sk-parallel {display: flex;align-items: stretch;justify-content: center;background-color: white;position: relative;}#sk-container-id-4 div.sk-item::before, #sk-container-id-4 div.sk-parallel-item::before {content: \"\";position: absolute;border-left: 1px solid gray;box-sizing: border-box;top: 0;bottom: 0;left: 50%;z-index: -1;}#sk-container-id-4 div.sk-parallel-item {display: flex;flex-direction: column;z-index: 1;position: relative;background-color: white;}#sk-container-id-4 div.sk-parallel-item:first-child::after {align-self: flex-end;width: 50%;}#sk-container-id-4 div.sk-parallel-item:last-child::after {align-self: flex-start;width: 50%;}#sk-container-id-4 div.sk-parallel-item:only-child::after {width: 0;}#sk-container-id-4 div.sk-dashed-wrapped {border: 1px dashed gray;margin: 0 0.4em 0.5em 0.4em;box-sizing: border-box;padding-bottom: 0.4em;background-color: white;}#sk-container-id-4 div.sk-label label {font-family: monospace;font-weight: bold;display: inline-block;line-height: 1.2em;}#sk-container-id-4 div.sk-label-container {text-align: center;}#sk-container-id-4 div.sk-container {/* jupyter's `normalize.less` sets `[hidden] { display: none; }` but bootstrap.min.css set `[hidden] { display: none !important; }` so we also need the `!important` here to be able to override the default hidden behavior on the sphinx rendered scikit-learn.org. See: https://github.com/scikit-learn/scikit-learn/issues/21755 */display: inline-block !important;position: relative;}#sk-container-id-4 div.sk-text-repr-fallback {display: none;}</style><div id=\"sk-container-id-4\" class=\"sk-top-container\"><div class=\"sk-text-repr-fallback\"><pre>StandardScaler()</pre><b>In a Jupyter environment, please rerun this cell to show the HTML representation or trust the notebook. <br />On GitHub, the HTML representation is unable to render, please try loading this page with nbviewer.org.</b></div><div class=\"sk-container\" hidden><div class=\"sk-item\"><div class=\"sk-estimator sk-toggleable\"><input class=\"sk-toggleable__control sk-hidden--visually\" id=\"sk-estimator-id-4\" type=\"checkbox\" checked><label for=\"sk-estimator-id-4\" class=\"sk-toggleable__label sk-toggleable__label-arrow\">StandardScaler</label><div class=\"sk-toggleable__content\"><pre>StandardScaler()</pre></div></div></div></div></div>"
      ],
      "text/plain": [
       "StandardScaler()"
      ]
     },
     "execution_count": 91,
     "metadata": {},
     "output_type": "execute_result"
    }
   ],
   "source": [
    "# Create a standard scaler.\n",
    "scaler = pre.StandardScaler()\n",
    "\n",
    "# Fit the data to the scaler.\n",
    "scaler.fit(x)"
   ]
  },
  {
   "cell_type": "code",
   "execution_count": 92,
   "metadata": {},
   "outputs": [
    {
     "data": {
      "text/plain": [
       "(array([5.84333333, 3.054     , 3.75866667, 1.19866667]),\n",
       " array([0.68112222, 0.18675067, 3.09242489, 0.57853156]))"
      ]
     },
     "execution_count": 92,
     "metadata": {},
     "output_type": "execute_result"
    }
   ],
   "source": [
    "# Show the means and variances.\n",
    "scaler.mean_, scaler.var_"
   ]
  },
  {
   "cell_type": "markdown",
   "metadata": {},
   "source": [
    "After standardization, the means of all features are centered around zero, and the variances are equalized to approximately 1. "
   ]
  },
  {
   "cell_type": "code",
   "execution_count": 93,
   "metadata": {},
   "outputs": [
    {
     "data": {
      "text/html": [
       "<div>\n",
       "<style scoped>\n",
       "    .dataframe tbody tr th:only-of-type {\n",
       "        vertical-align: middle;\n",
       "    }\n",
       "\n",
       "    .dataframe tbody tr th {\n",
       "        vertical-align: top;\n",
       "    }\n",
       "\n",
       "    .dataframe thead th {\n",
       "        text-align: right;\n",
       "    }\n",
       "</style>\n",
       "<table border=\"1\" class=\"dataframe\">\n",
       "  <thead>\n",
       "    <tr style=\"text-align: right;\">\n",
       "      <th></th>\n",
       "      <th>sepal_length</th>\n",
       "      <th>sepal_width</th>\n",
       "      <th>petal_length</th>\n",
       "      <th>petal_width</th>\n",
       "    </tr>\n",
       "  </thead>\n",
       "  <tbody>\n",
       "    <tr>\n",
       "      <th>count</th>\n",
       "      <td>150.000000</td>\n",
       "      <td>150.000000</td>\n",
       "      <td>150.000000</td>\n",
       "      <td>150.000000</td>\n",
       "    </tr>\n",
       "    <tr>\n",
       "      <th>mean</th>\n",
       "      <td>5.843333</td>\n",
       "      <td>3.054000</td>\n",
       "      <td>3.758667</td>\n",
       "      <td>1.198667</td>\n",
       "    </tr>\n",
       "    <tr>\n",
       "      <th>std</th>\n",
       "      <td>0.828066</td>\n",
       "      <td>0.433594</td>\n",
       "      <td>1.764420</td>\n",
       "      <td>0.763161</td>\n",
       "    </tr>\n",
       "    <tr>\n",
       "      <th>min</th>\n",
       "      <td>4.300000</td>\n",
       "      <td>2.000000</td>\n",
       "      <td>1.000000</td>\n",
       "      <td>0.100000</td>\n",
       "    </tr>\n",
       "    <tr>\n",
       "      <th>25%</th>\n",
       "      <td>5.100000</td>\n",
       "      <td>2.800000</td>\n",
       "      <td>1.600000</td>\n",
       "      <td>0.300000</td>\n",
       "    </tr>\n",
       "    <tr>\n",
       "      <th>50%</th>\n",
       "      <td>5.800000</td>\n",
       "      <td>3.000000</td>\n",
       "      <td>4.350000</td>\n",
       "      <td>1.300000</td>\n",
       "    </tr>\n",
       "    <tr>\n",
       "      <th>75%</th>\n",
       "      <td>6.400000</td>\n",
       "      <td>3.300000</td>\n",
       "      <td>5.100000</td>\n",
       "      <td>1.800000</td>\n",
       "    </tr>\n",
       "    <tr>\n",
       "      <th>max</th>\n",
       "      <td>7.900000</td>\n",
       "      <td>4.400000</td>\n",
       "      <td>6.900000</td>\n",
       "      <td>2.500000</td>\n",
       "    </tr>\n",
       "  </tbody>\n",
       "</table>\n",
       "</div>"
      ],
      "text/plain": [
       "       sepal_length  sepal_width  petal_length  petal_width\n",
       "count    150.000000   150.000000    150.000000   150.000000\n",
       "mean       5.843333     3.054000      3.758667     1.198667\n",
       "std        0.828066     0.433594      1.764420     0.763161\n",
       "min        4.300000     2.000000      1.000000     0.100000\n",
       "25%        5.100000     2.800000      1.600000     0.300000\n",
       "50%        5.800000     3.000000      4.350000     1.300000\n",
       "75%        6.400000     3.300000      5.100000     1.800000\n",
       "max        7.900000     4.400000      6.900000     2.500000"
      ]
     },
     "execution_count": 93,
     "metadata": {},
     "output_type": "execute_result"
    }
   ],
   "source": [
    "x.describe()"
   ]
  },
  {
   "cell_type": "markdown",
   "metadata": {},
   "source": [
    "Now, we follow the same steps as before to transform the dataframe."
   ]
  },
  {
   "cell_type": "code",
   "execution_count": 94,
   "metadata": {},
   "outputs": [
    {
     "data": {
      "text/html": [
       "<div>\n",
       "<style scoped>\n",
       "    .dataframe tbody tr th:only-of-type {\n",
       "        vertical-align: middle;\n",
       "    }\n",
       "\n",
       "    .dataframe tbody tr th {\n",
       "        vertical-align: top;\n",
       "    }\n",
       "\n",
       "    .dataframe thead th {\n",
       "        text-align: right;\n",
       "    }\n",
       "</style>\n",
       "<table border=\"1\" class=\"dataframe\">\n",
       "  <thead>\n",
       "    <tr style=\"text-align: right;\">\n",
       "      <th></th>\n",
       "      <th>sepal_length</th>\n",
       "      <th>sepal_width</th>\n",
       "      <th>petal_length</th>\n",
       "      <th>petal_width</th>\n",
       "    </tr>\n",
       "  </thead>\n",
       "  <tbody>\n",
       "    <tr>\n",
       "      <th>0</th>\n",
       "      <td>-0.900681</td>\n",
       "      <td>1.032057</td>\n",
       "      <td>-1.341272</td>\n",
       "      <td>-1.312977</td>\n",
       "    </tr>\n",
       "    <tr>\n",
       "      <th>1</th>\n",
       "      <td>-1.143017</td>\n",
       "      <td>-0.124958</td>\n",
       "      <td>-1.341272</td>\n",
       "      <td>-1.312977</td>\n",
       "    </tr>\n",
       "    <tr>\n",
       "      <th>2</th>\n",
       "      <td>-1.385353</td>\n",
       "      <td>0.337848</td>\n",
       "      <td>-1.398138</td>\n",
       "      <td>-1.312977</td>\n",
       "    </tr>\n",
       "    <tr>\n",
       "      <th>3</th>\n",
       "      <td>-1.506521</td>\n",
       "      <td>0.106445</td>\n",
       "      <td>-1.284407</td>\n",
       "      <td>-1.312977</td>\n",
       "    </tr>\n",
       "    <tr>\n",
       "      <th>4</th>\n",
       "      <td>-1.021849</td>\n",
       "      <td>1.263460</td>\n",
       "      <td>-1.341272</td>\n",
       "      <td>-1.312977</td>\n",
       "    </tr>\n",
       "  </tbody>\n",
       "</table>\n",
       "</div>"
      ],
      "text/plain": [
       "   sepal_length  sepal_width  petal_length  petal_width\n",
       "0     -0.900681     1.032057     -1.341272    -1.312977\n",
       "1     -1.143017    -0.124958     -1.341272    -1.312977\n",
       "2     -1.385353     0.337848     -1.398138    -1.312977\n",
       "3     -1.506521     0.106445     -1.284407    -1.312977\n",
       "4     -1.021849     1.263460     -1.341272    -1.312977"
      ]
     },
     "execution_count": 94,
     "metadata": {},
     "output_type": "execute_result"
    }
   ],
   "source": [
    "# Transform new x array.\n",
    "X_transformed = scaler.transform(x)\n",
    "\n",
    "# Re-create data frame.\n",
    "df_X_trans = pd.DataFrame(X_transformed, columns=x.columns)\n",
    "\n",
    "# Show.\n",
    "df_X_trans.head()"
   ]
  },
  {
   "cell_type": "code",
   "execution_count": 95,
   "metadata": {},
   "outputs": [
    {
     "data": {
      "text/html": [
       "<div>\n",
       "<style scoped>\n",
       "    .dataframe tbody tr th:only-of-type {\n",
       "        vertical-align: middle;\n",
       "    }\n",
       "\n",
       "    .dataframe tbody tr th {\n",
       "        vertical-align: top;\n",
       "    }\n",
       "\n",
       "    .dataframe thead th {\n",
       "        text-align: right;\n",
       "    }\n",
       "</style>\n",
       "<table border=\"1\" class=\"dataframe\">\n",
       "  <thead>\n",
       "    <tr style=\"text-align: right;\">\n",
       "      <th></th>\n",
       "      <th>class</th>\n",
       "      <th>pca0</th>\n",
       "      <th>pca1</th>\n",
       "    </tr>\n",
       "  </thead>\n",
       "  <tbody>\n",
       "    <tr>\n",
       "      <th>0</th>\n",
       "      <td>setosa</td>\n",
       "      <td>-2.264542</td>\n",
       "      <td>0.505704</td>\n",
       "    </tr>\n",
       "    <tr>\n",
       "      <th>1</th>\n",
       "      <td>setosa</td>\n",
       "      <td>-2.086426</td>\n",
       "      <td>-0.655405</td>\n",
       "    </tr>\n",
       "    <tr>\n",
       "      <th>2</th>\n",
       "      <td>setosa</td>\n",
       "      <td>-2.367950</td>\n",
       "      <td>-0.318477</td>\n",
       "    </tr>\n",
       "    <tr>\n",
       "      <th>3</th>\n",
       "      <td>setosa</td>\n",
       "      <td>-2.304197</td>\n",
       "      <td>-0.575368</td>\n",
       "    </tr>\n",
       "    <tr>\n",
       "      <th>4</th>\n",
       "      <td>setosa</td>\n",
       "      <td>-2.388777</td>\n",
       "      <td>0.674767</td>\n",
       "    </tr>\n",
       "  </tbody>\n",
       "</table>\n",
       "</div>"
      ],
      "text/plain": [
       "    class      pca0      pca1\n",
       "0  setosa -2.264542  0.505704\n",
       "1  setosa -2.086426 -0.655405\n",
       "2  setosa -2.367950 -0.318477\n",
       "3  setosa -2.304197 -0.575368\n",
       "4  setosa -2.388777  0.674767"
      ]
     },
     "execution_count": 95,
     "metadata": {},
     "output_type": "execute_result"
    }
   ],
   "source": [
    "# Fit the data to the PCA\n",
    "pca.fit(df_X_trans)\n",
    "\n",
    "X_trans_pca = pca.transform(df_X_trans)\n",
    "\n",
    "df_trans_pca = pd.DataFrame(idf[[\"class\"]])\n",
    "\n",
    "df_trans_pca['pca0'] = X_trans_pca[:,0]\n",
    "df_trans_pca['pca1'] = X_trans_pca[:,1]\n",
    "\n",
    "# show principal component analysys after standardization\n",
    "df_trans_pca.head()"
   ]
  },
  {
   "cell_type": "code",
   "execution_count": 96,
   "metadata": {},
   "outputs": [
    {
     "data": {
      "text/plain": [
       "array([0.72770452, 0.23030523])"
      ]
     },
     "execution_count": 96,
     "metadata": {},
     "output_type": "execute_result"
    }
   ],
   "source": [
    "# Look at the variablity\n",
    "pca.explained_variance_ratio_"
   ]
  },
  {
   "cell_type": "markdown",
   "metadata": {},
   "source": [
    "With Standardization:\n",
    "\n",
    "- The first principal component explains approximately 72.77% of the total variance in the standardized data.\n",
    "- The second principal component explains approximately 23.03% of the total variance.\n",
    "\n",
    "Comparison:\n",
    "\n",
    "- In the case without standardization, the first principal component explains a significantly higher proportion of the variance compared to the second component.\n",
    "- With standardization, the explained variance by the first component is reduced, and the importance of the second component is enhanced.\n",
    "\n",
    "Standardization has the effect of reducing the impact of individual features' scales on the PCA results, making the contribution of each component more balanced."
   ]
  },
  {
   "cell_type": "code",
   "execution_count": 97,
   "metadata": {},
   "outputs": [
    {
     "data": {
      "text/plain": [
       "<seaborn.axisgrid.PairGrid at 0x1e26c08b130>"
      ]
     },
     "execution_count": 97,
     "metadata": {},
     "output_type": "execute_result"
    },
    {
     "data": {
      "image/png": "[encoded data removed]",
      "text/plain": [
       "<Figure size 444.75x360 with 6 Axes>"
      ]
     },
     "metadata": {
      "needs_background": "light"
     },
     "output_type": "display_data"
    }
   ],
   "source": [
    "# Visualization\n",
    "sns.pairplot(df_trans_pca, hue='class')"
   ]
  },
  {
   "cell_type": "markdown",
   "metadata": {},
   "source": [
    "After standardization, \n",
    "- we are still able to clearly separate the setosa class according to the 2 components, and  \n",
    "- there is still an overlap between versicolor and virginica indicating that 2 of the features have common dimensions in a certain range for both classes."
   ]
  },
  {
   "cell_type": "markdown",
   "metadata": {},
   "source": [
    "**Will a machine learning algorithm like k-nearest neighbors (KNN) be able to see the difference?**"
   ]
  },
  {
   "cell_type": "markdown",
   "metadata": {},
   "source": [
    "For this task, we will implement the KNN neighbors classifier from sklearn.(6)"
   ]
  },
  {
   "cell_type": "code",
   "execution_count": 98,
   "metadata": {},
   "outputs": [
    {
     "data": {
      "text/plain": [
       "array([0.96666667, 1.        , 0.93333333, 0.96666667, 1.        ])"
      ]
     },
     "execution_count": 98,
     "metadata": {},
     "output_type": "execute_result"
    }
   ],
   "source": [
    "# before scaling\n",
    "\n",
    "clf = sk.neighbors.KNeighborsClassifier()\n",
    "\n",
    "# x data\n",
    "x = x\n",
    "\n",
    "# y data\n",
    "y = idf[\"class\"].to_numpy()\n",
    "\n",
    "# train test split\n",
    "sk.model_selection.cross_val_score(clf, x, y)\n"
   ]
  },
  {
   "cell_type": "code",
   "execution_count": 99,
   "metadata": {},
   "outputs": [
    {
     "data": {
      "text/plain": [
       "array([0.96666667, 0.96666667, 0.93333333, 0.93333333, 1.        ])"
      ]
     },
     "execution_count": 99,
     "metadata": {},
     "output_type": "execute_result"
    }
   ],
   "source": [
    "# after scaling the data\n",
    "clf = sk.neighbors.KNeighborsClassifier()\n",
    "\n",
    "# x data\n",
    "x = X_transformed\n",
    "\n",
    "# y data\n",
    "y = idf[\"class\"].to_numpy()\n",
    "\n",
    "# train test split\n",
    "sk.model_selection.cross_val_score(clf, x, y)"
   ]
  },
  {
   "cell_type": "markdown",
   "metadata": {},
   "source": [
    "Before Scaling:\n",
    "\n",
    "- Cross-validation scores before scaling range from 0.9333 to 1.0. These scores indicate the accuracy of the KNN classifier when applied to the original, unstandardized data.\n",
    "- The variation in scores may be due to differences in feature scales since KNN is sensitive to the scales of features.\n",
    "- The highest score of 1.0 suggests that the classifier achieved perfect accuracy in at least one fold.\n",
    "\n",
    "After Scaling:\n",
    "\n",
    "- Cross-validation scores after scaling the data remain consistent, ranging from 0.9333 to 1.0.\n",
    "- Standardizing the data (scaling) didn't significantly change the model's performance in terms of cross-validation accuracy.\n",
    "- This suggests that, in this specific case, the KNN classifier may not be strongly affected by the differences in feature scales."
   ]
  },
  {
   "cell_type": "markdown",
   "metadata": {},
   "source": [
    "**Conclusion**\n",
    "\n",
    "In summary, the application of PCA to the Iris dataset serves to simplify the data, aid in visualization, identify crucial features, and potentially improve the performance of data analysis and machine learning tasks. This preprocessing step enhances our understanding of the dataset's structure and relationships.\n",
    "\n",
    "Upon reducing the dataset to two dimensions, we observe distinct differences between two components. However, regarding class separation, the differences are more pronounced in the setosa class, while virginica and versicolor exhibit some overlap, even after scaling. This overlap may pose challenges for machine learning algorithms.\n",
    "\n",
    "Interestingly, the evaluation of a K-nearest neighbors classifier before and after scaling the data reveals similar cross-validation accuracy. This suggests that feature scaling may not significantly impact the classifier's performance in this specific case. It implies that, despite the apparent overlap in class regions, machine learning algorithms may still achieve high predictive accuracy."
   ]
  },
  {
   "cell_type": "markdown",
   "metadata": {},
   "source": [
    "**REFERENCES**\n"
   ]
  },
  {
   "cell_type": "markdown",
   "metadata": {},
   "source": [
    "1. Principal Component Analysis(PCA): https://www.geeksforgeeks.org/principal-component-analysis-pca/  \n",
    "2. https://builtin.com/data-science/step-step-explanation-principal-component-analysis  \n",
    "3. PCA sklearn. https://scikit-learn.org/stable/modules/generated/sklearn.decomposition.PCA.html\n",
    "4. Transform method. https://scikit-learn.org/stable/modules/generated/sklearn.decomposition.PCA.html#sklearn.decomposition.PCA.transform  \n",
    "5. StandardScaler method. https://scikit-learn.org/stable/modules/generated/sklearn.preprocessing.StandardScaler.html  \n",
    "6. KNN classifier. https://scikit-learn.org/stable/modules/generated/sklearn.neighbors.KNeighborsClassifier.html  "
   ]
  }
 ],
 "metadata": {
  "kernelspec": {
   "display_name": "Python 3 (ipykernel)",
   "language": "python",
   "name": "python3"
  },
  "language_info": {
   "codemirror_mode": {
    "name": "ipython",
    "version": 3
   },
   "file_extension": ".py",
   "mimetype": "text/x-python",
   "name": "python",
   "nbconvert_exporter": "python",
   "pygments_lexer": "ipython3",
   "version": "3.9.7"
  }
 },
 "nbformat": 4,
 "nbformat_minor": 5
}
