{
 "cells": [
  {
   "cell_type": "markdown",
   "id": "ec917671",
   "metadata": {},
   "source": [
    "# **Machine Learning and Statistics Tasks**\n",
    "\n",
    "***"
   ]
  },
  {
   "cell_type": "markdown",
   "id": "d0698893",
   "metadata": {},
   "source": [
    "Author: Roberto Vergano"
   ]
  },
  {
   "cell_type": "markdown",
   "metadata": {},
   "source": [
    "**Python modules required**"
   ]
  },
  {
   "cell_type": "code",
   "execution_count": 169,
   "metadata": {},
   "outputs": [],
   "source": [
    "from IPython.display import display, Math\n",
    "import pandas as pd\n",
    "import numpy as np\n",
    "from scipy.stats import chi2_contingency\n",
    "from tabulate import tabulate\n",
    "import matplotlib.pyplot as plt\n",
    "from scipy.stats import probplot\n",
    "import seaborn as sns\n",
    "from scipy.stats import shapiro\n",
    "from scipy.stats import ttest_ind\n",
    "import sklearn.decomposition as dec\n",
    "import sklearn as sk\n",
    "import sklearn.preprocessing as pre\n",
    "import sklearn.neighbors as ne"
   ]
  },
  {
   "cell_type": "markdown",
   "metadata": {},
   "source": [
    "**Table of contents**\n",
    "\n",
    "Task 1. The Newton´s method.  \n",
    "Task 2. Chi squared test.  \n",
    "Task 3. T-test.  \n",
    "Task 4. The setosa class.  \n",
    "Task 5. Principal component analysis on the Iris dataset.  "
   ]
  },
  {
   "cell_type": "markdown",
   "id": "4aa9cf88",
   "metadata": {},
   "source": [
    "## **Task 1. The Newton´s method**\n",
    "\n",
    "***"
   ]
  },
  {
   "cell_type": "markdown",
   "id": "0610eb90",
   "metadata": {},
   "source": [
    "Square roots are difficult to calculate. In Python, you typically use the power operator (a double asterisk) or a package such\n",
    "as math. In this task,(1) you should write a function sqrt(x) to approximate the square root of a floating point number x without\n",
    "using the power operator or a package.\n",
    "\n",
    "Rather, you should use the Newton’s method.(2) Start with an 2 Square Roots via Newton’s Method. initial guess for the square root called z0. You then repeatedly improve it using the following formula, until the difference between\n",
    "some previous guess zi and the next zi+1 is less than some threshold, say 0.01."
   ]
  },
  {
   "cell_type": "code",
   "execution_count": 164,
   "id": "cf73f4a6",
   "metadata": {},
   "outputs": [
    {
     "data": {
      "text/latex": [
       "$\\displaystyle z_{i+1} = z_i - \\frac{{z_i*z_i - x}}{{2z_i}}$"
      ],
      "text/plain": [
       "<IPython.core.display.Math object>"
      ]
     },
     "metadata": {},
     "output_type": "display_data"
    }
   ],
   "source": [
    "# For LaTex code:\n",
    "from IPython.display import display, Math\n",
    "latex_code = r\"z_{i+1} = z_i - \\frac{{z_i*z_i - x}}{{2z_i}}\"\n",
    "display(Math(latex_code))"
   ]
  },
  {
   "cell_type": "markdown",
   "id": "16d8ab94",
   "metadata": {},
   "source": [
    "Where: \n",
    "\n",
    "zi = current estimate or iteration in the sequence.  \n",
    "zi+1 = next estimate or iteration in the sequence.  \n",
    "x = constant or parameter.  "
   ]
  },
  {
   "cell_type": "markdown",
   "id": "a3fd6dc2",
   "metadata": {},
   "source": [
    "**How does the formula work?**"
   ]
  },
  {
   "cell_type": "markdown",
   "id": "e52c8979",
   "metadata": {},
   "source": [
    "1. Initial guess,z0\n",
    "2. Iteration. For each iteration (i), the formula computes zi+1 from the current estimate zi.\n",
    "3. Convergence. This iteration repeats until zi+1 is close enough to zi. This means that the process is repeated until the root of the equation is approached."
   ]
  },
  {
   "cell_type": "code",
   "execution_count": 118,
   "id": "c0376219",
   "metadata": {},
   "outputs": [
    {
     "name": "stdout",
     "output_type": "stream",
     "text": [
      "The square root of 25 is approximately 5.0\n"
     ]
    }
   ],
   "source": [
    "# Funtion \"sqrt\" takes the input from the user to calculate the square root using the Newton formula.\n",
    "def sqrt(x):\n",
    "    # Initial guess\n",
    "    z = x / 4.0\n",
    "\n",
    "    # Iterative approximation using Newton method. \n",
    "    for i in range(100):\n",
    "        z = z - (((z*z) - x) / (2*z))\n",
    "\n",
    "    return z\n",
    "\n",
    "# Example 1\n",
    "x = 25\n",
    "result = sqrt(x)\n",
    "print(f\"The square root of {x} is approximately {result}\")\n"
   ]
  },
  {
   "cell_type": "code",
   "execution_count": 119,
   "metadata": {},
   "outputs": [
    {
     "name": "stdout",
     "output_type": "stream",
     "text": [
      "The square root of 27 is approximately 5.196152422706632\n"
     ]
    }
   ],
   "source": [
    "# Example 2\n",
    "x = 27\n",
    "result = sqrt(x)\n",
    "print(f\"The square root of {x} is approximately {result}\")"
   ]
  },
  {
   "cell_type": "code",
   "execution_count": 120,
   "metadata": {},
   "outputs": [
    {
     "name": "stdout",
     "output_type": "stream",
     "text": [
      "The square root of 13 is approximately 3.605551275463989\n"
     ]
    }
   ],
   "source": [
    "# Example 3\n",
    "x = 13\n",
    "result = sqrt(x)\n",
    "print(f\"The square root of {x} is approximately {result}\")"
   ]
  },
  {
   "cell_type": "code",
   "execution_count": 121,
   "metadata": {},
   "outputs": [
    {
     "name": "stdout",
     "output_type": "stream",
     "text": [
      "The square root of 7 is approximately 2.6457513110645907\n"
     ]
    }
   ],
   "source": [
    "# Example 4\n",
    "x = 7\n",
    "result = sqrt(x)\n",
    "print(f\"The square root of {x} is approximately {result}\")"
   ]
  },
  {
   "cell_type": "markdown",
   "id": "dcf5cf07",
   "metadata": {},
   "source": [
    "**REFERENCES**\n",
    "\n",
    "1. A Tour of Go. Aug. 18, 2023. url: https://go.dev/tour/flowcontrol/8 (visited on 08/18/2023).\n",
    "2. Square Roots via Newton’s Method. Feb. 4, 2015. url: https://math.mit.edu/~stevenj/18.335/newtonsqrt. pdf (visited on 08/18/2023).\n"
   ]
  },
  {
   "cell_type": "markdown",
   "id": "b7852b6c",
   "metadata": {},
   "source": [
    "## **Task 2. Chi squared test**\n",
    "\n",
    "***"
   ]
  },
  {
   "cell_type": "markdown",
   "id": "f3d2dc6a",
   "metadata": {},
   "source": [
    "Consider the below contingency table based on a survey asking respondents whether they prefer coffee or tea and whether they prefer plain or chocolate biscuits. Use scipy.stats to perform a chi-squared test to see whether there is any evidence of an association between drink preference and biscuit preference in this instance."
   ]
  },
  {
   "cell_type": "markdown",
   "id": "de9f7ed1",
   "metadata": {},
   "source": [
    "To create the dataframe:"
   ]
  },
  {
   "cell_type": "code",
   "execution_count": 122,
   "id": "102b7f82",
   "metadata": {},
   "outputs": [
    {
     "data": {
      "text/html": [
       "<style type=\"text/css\">\n",
       "#T_82f91_row0_col0, #T_82f91_row0_col1, #T_82f91_row1_col0, #T_82f91_row1_col1 {\n",
       "  border: 1px solid black;\n",
       "}\n",
       "</style>\n",
       "<table id=\"T_82f91_\">\n",
       "  <thead>\n",
       "    <tr>\n",
       "      <th class=\"blank level0\" >&nbsp;</th>\n",
       "      <th class=\"col_heading level0 col0\" >Chocolate</th>\n",
       "      <th class=\"col_heading level0 col1\" >Plain</th>\n",
       "    </tr>\n",
       "  </thead>\n",
       "  <tbody>\n",
       "    <tr>\n",
       "      <th id=\"T_82f91_level0_row0\" class=\"row_heading level0 row0\" >Coffee</th>\n",
       "      <td id=\"T_82f91_row0_col0\" class=\"data row0 col0\" >43</td>\n",
       "      <td id=\"T_82f91_row0_col1\" class=\"data row0 col1\" >57</td>\n",
       "    </tr>\n",
       "    <tr>\n",
       "      <th id=\"T_82f91_level0_row1\" class=\"row_heading level0 row1\" >Tea</th>\n",
       "      <td id=\"T_82f91_row1_col0\" class=\"data row1 col0\" >56</td>\n",
       "      <td id=\"T_82f91_row1_col1\" class=\"data row1 col1\" >45</td>\n",
       "    </tr>\n",
       "  </tbody>\n",
       "</table>\n"
      ],
      "text/plain": [
       "<pandas.io.formats.style.Styler at 0x217b3bf8370>"
      ]
     },
     "execution_count": 122,
     "metadata": {},
     "output_type": "execute_result"
    }
   ],
   "source": [
    "import pandas as pd\n",
    "\n",
    "# Create a DataFrame\n",
    "data = {\n",
    "    'Chocolate': [43, 56],\n",
    "    'Plain': [57, 45]\n",
    "}\n",
    "\n",
    "index = ['Coffee', 'Tea']\n",
    "\n",
    "df = pd.DataFrame(data, index=index)\n",
    "\n",
    "# function to add borders for the table:\n",
    "def borders(s):\n",
    "    return f'border: 1px solid black;'\n",
    "\n",
    "# Apply the style function to the DataFrame\n",
    "df_border = df.style.applymap(borders)\n",
    "\n",
    "# Display the styled DataFrame\n",
    "df_border"
   ]
  },
  {
   "cell_type": "markdown",
   "id": "4c16cc61",
   "metadata": {},
   "source": [
    "For this table, we have 2 nominal variables:  \n",
    "- biscuits (chocolate/plain)  \n",
    "- drink (biscuits/tea)  "
   ]
  },
  {
   "cell_type": "markdown",
   "id": "b842733b",
   "metadata": {},
   "source": [
    "To calcule the chi-squared test we are going to transform the dataframe in a numpy array and then run the chi-squared test for contingency tables available in spicy.stats website.(1) Finally, we will compare the chi square results with and without the continuity correction."
   ]
  },
  {
   "cell_type": "code",
   "execution_count": 123,
   "id": "1f50bf9a",
   "metadata": {},
   "outputs": [
    {
     "name": "stdout",
     "output_type": "stream",
     "text": [
      "╒═══════════════════════╤═══════════════════════════╤════════════════════════════╕\n",
      "│       Statistic       │  Value (correction=True)  │  Value (correction=False)  │\n",
      "╞═══════════════════════╪═══════════════════════════╪════════════════════════════╡\n",
      "│ Chi-squared Statistic │    2.6359100836554257     │          3.11394           │\n",
      "├───────────────────────┼───────────────────────────┼────────────────────────────┤\n",
      "│        P-value        │    0.10447218120907394    │         0.0776251          │\n",
      "├───────────────────────┼───────────────────────────┼────────────────────────────┤\n",
      "│  Degrees of Freedom   │             1             │             1              │\n",
      "├───────────────────────┼───────────────────────────┼────────────────────────────┤\n",
      "│ Expected Frequencies  │                           │                            │\n",
      "├───────────────────────┼───────────────────────────┼────────────────────────────┤\n",
      "│                       │     49.25373134328358     │          49.2537           │\n",
      "├───────────────────────┼───────────────────────────┼────────────────────────────┤\n",
      "│                       │     50.74626865671642     │          50.7463           │\n",
      "├───────────────────────┼───────────────────────────┼────────────────────────────┤\n",
      "│                       │     49.74626865671642     │          49.7463           │\n",
      "├───────────────────────┼───────────────────────────┼────────────────────────────┤\n",
      "│                       │     51.25373134328358     │          51.2537           │\n",
      "╘═══════════════════════╧═══════════════════════════╧════════════════════════════╛\n"
     ]
    }
   ],
   "source": [
    "import numpy as np\n",
    "from scipy.stats import chi2_contingency\n",
    "from tabulate import tabulate\n",
    "\n",
    "# Create numpy array with the contingency table\n",
    "observed_data = np.array([[43, 57], [56, 45]])\n",
    "\n",
    "# chi-squared test with \"correction=True\"\n",
    "chi2_stat, p_val, dof, expected = chi2_contingency(observed_data, correction=True)\n",
    "\n",
    "# chi-squared test with \"correction=False\"\n",
    "chi2_stat_no_correction, p_val_no_correction, dof_no_correction, expected_no_correction = chi2_contingency(observed_data, correction=False)\n",
    "\n",
    "# To display the results in a table\n",
    "table_data = [\n",
    "    [\"Chi-squared Statistic\", chi2_stat, chi2_stat_no_correction],\n",
    "    [\"P-value\", p_val, p_val_no_correction],\n",
    "    [\"Degrees of Freedom\", dof, dof_no_correction],\n",
    "    [\"Expected Frequencies\", \"\"],\n",
    "    [\"\", expected[0, 0], expected_no_correction[0, 0]],\n",
    "    [\"\", expected[0, 1], expected_no_correction[0, 1]],\n",
    "    [\"\", expected[1, 0], expected_no_correction[1, 0]],\n",
    "    [\"\", expected[1, 1], expected_no_correction[1, 1]],\n",
    "]\n",
    "\n",
    "table = tabulate(table_data, headers=[\"Statistic\", \"Value (correction=True)\", \"Value (correction=False)\"], tablefmt=\"fancy_grid\", colalign=(\"center\", \"center\", \"center\"))\n",
    "\n",
    "print(table)"
   ]
  },
  {
   "cell_type": "markdown",
   "id": "97f81b37",
   "metadata": {},
   "source": [
    "**RESULTS**  \n",
    "1. Chi-squared Statistic: the results for both (correction = True/False) are significantly greater than zero. This may suggest no relationship between drink and biscuit preference. \n",
    "2. P-Value: assuming a P-Value =< 0.05 as stadistically significant, the results for both (correction = True/False) suggest no relationship between drink and biscuit preference.  \n",
    "3. Correction (True/False): the continuity correction does not seem to have much effect on the overall result. "
   ]
  },
  {
   "cell_type": "markdown",
   "id": "b5749e03",
   "metadata": {},
   "source": [
    "**REFERENCES**  \n",
    "1. https://docs.scipy.org/doc/scipy/reference/generated/scipy.stats.chi2_contingency.html  "
   ]
  },
  {
   "cell_type": "markdown",
   "id": "d2f8ecbc",
   "metadata": {},
   "source": [
    "## **TASK 3. T-Test**\n",
    "\n",
    "***"
   ]
  },
  {
   "cell_type": "markdown",
   "id": "f2da52e4",
   "metadata": {},
   "source": [
    "Perform a t-test on the famous penguins data set to investigate whether there is evidence of a significant difference in the body mass of male and female gentoo penguins."
   ]
  },
  {
   "cell_type": "markdown",
   "id": "692a458e",
   "metadata": {},
   "source": [
    "The pinguins dataset was downloaded from https://github.com/mwaskom/seaborn-data/blob/master/penguins.csv"
   ]
  },
  {
   "cell_type": "markdown",
   "id": "1e5ac9df",
   "metadata": {},
   "source": [
    "First, we need to access the dataset using pandas. Then, we need to find the target columns and check the distribution before performing the t-test."
   ]
  },
  {
   "cell_type": "markdown",
   "id": "d37933c7",
   "metadata": {},
   "source": [
    "**READ AND DESCRIBE THE DATASET**"
   ]
  },
  {
   "cell_type": "code",
   "execution_count": 124,
   "id": "3c0b1db3",
   "metadata": {},
   "outputs": [
    {
     "name": "stdout",
     "output_type": "stream",
     "text": [
      "<class 'pandas.core.frame.DataFrame'>\n",
      "RangeIndex: 344 entries, 0 to 343\n",
      "Data columns (total 7 columns):\n",
      " #   Column             Non-Null Count  Dtype  \n",
      "---  ------             --------------  -----  \n",
      " 0   species            344 non-null    object \n",
      " 1   island             344 non-null    object \n",
      " 2   bill_length_mm     342 non-null    float64\n",
      " 3   bill_depth_mm      342 non-null    float64\n",
      " 4   flipper_length_mm  342 non-null    float64\n",
      " 5   body_mass_g        342 non-null    float64\n",
      " 6   sex                333 non-null    object \n",
      "dtypes: float64(4), object(3)\n",
      "memory usage: 18.9+ KB\n"
     ]
    }
   ],
   "source": [
    "# \"read_csv\" from pandas to open and read the dataset.\n",
    "import pandas as pd \n",
    "dt = pd.read_csv(\"datasets/penguins.csv\")\n",
    "# info () to see a summary of the dataset.\n",
    "dt.info()"
   ]
  },
  {
   "cell_type": "markdown",
   "id": "37ce4df3",
   "metadata": {},
   "source": [
    "Our target columns are 0 (\"species), 5 (\"body_mass_g\") and 6 (\"sex\"). Therefore, we need to extract our target population from the dataset (\"Gentoo penguins\"). Then separate by sex and select the parameter we want to test (\"body_mass\") "
   ]
  },
  {
   "cell_type": "code",
   "execution_count": 125,
   "id": "19ad4e4e",
   "metadata": {},
   "outputs": [
    {
     "data": {
      "text/plain": [
       "count        344\n",
       "unique         3\n",
       "top       Adelie\n",
       "freq         152\n",
       "Name: species, dtype: object"
      ]
     },
     "execution_count": 125,
     "metadata": {},
     "output_type": "execute_result"
    }
   ],
   "source": [
    "# Describe the \"species\" column. \n",
    "dt[\"species\"].describe()"
   ]
  },
  {
   "cell_type": "markdown",
   "id": "befbea9c",
   "metadata": {},
   "source": [
    "**EXTRACT THE DATA FROM THE DATASET**"
   ]
  },
  {
   "cell_type": "markdown",
   "id": "780d5e39",
   "metadata": {},
   "source": [
    "The unique value indicate that we have 3 categorical values in the dataset corresponding to 3 different species. Therefore, we need to extract the Gentoo species from the data."
   ]
  },
  {
   "cell_type": "code",
   "execution_count": 126,
   "id": "bdfa2bf6",
   "metadata": {},
   "outputs": [
    {
     "name": "stdout",
     "output_type": "stream",
     "text": [
      "Number of male samples: 61\n",
      "Number of female sample 58\n"
     ]
    }
   ],
   "source": [
    "# First, we extract in \"df\" variable the Gentoo penguins. \n",
    "df = dt.loc[dt[\"species\"]==\"Gentoo\"]\n",
    "\n",
    "# Separate by sex:\n",
    "male = df.loc[df[\"sex\"] == \"MALE\"]\n",
    "female = df.loc[df[\"sex\"] == \"FEMALE\"]\n",
    "\n",
    "# Count the number of samples in each sex:\n",
    "m_sample = male.shape[0]\n",
    "f_sample = female.shape[0]\n",
    "print(\"Number of male samples:\", m_sample)\n",
    "print(\"Number of female sample\",f_sample)"
   ]
  },
  {
   "cell_type": "markdown",
   "id": "eb403309",
   "metadata": {},
   "source": [
    "We have a difference of 3 samples between both sex due to NULL values. In order to keep both groups with the same number of samples, we are going to randomnly select 58 samples from the male group."
   ]
  },
  {
   "cell_type": "code",
   "execution_count": 127,
   "id": "ce8f642b",
   "metadata": {},
   "outputs": [
    {
     "data": {
      "text/plain": [
       "58"
      ]
     },
     "execution_count": 127,
     "metadata": {},
     "output_type": "execute_result"
    }
   ],
   "source": [
    "# Sample from pandas to select 58 random rows.\n",
    "male_random = male.sample(58)\n",
    "male_random.shape[0]"
   ]
  },
  {
   "cell_type": "markdown",
   "id": "748d6896",
   "metadata": {},
   "source": [
    "**DESCRIPTIVE STADISTICS**"
   ]
  },
  {
   "cell_type": "markdown",
   "id": "1ee4c224",
   "metadata": {},
   "source": [
    "Finally, we need to get the data only for the body_mass column for each group. "
   ]
  },
  {
   "cell_type": "code",
   "execution_count": 128,
   "id": "6b7bcef9",
   "metadata": {},
   "outputs": [
    {
     "name": "stdout",
     "output_type": "stream",
     "text": [
      "Gentoo male body mass descriptive stadistics:\n",
      "count      58.000000\n",
      "mean     5484.051724\n",
      "std       318.394350\n",
      "min      4750.000000\n",
      "25%      5300.000000\n",
      "50%      5500.000000\n",
      "75%      5700.000000\n",
      "max      6300.000000\n",
      "Name: body_mass_g, dtype: float64\n",
      "\n",
      "Gentoo female body mass descriptive stadistics:\n",
      "count      58.000000\n",
      "mean     4679.741379\n",
      "std       281.578294\n",
      "min      3950.000000\n",
      "25%      4462.500000\n",
      "50%      4700.000000\n",
      "75%      4875.000000\n",
      "max      5200.000000\n",
      "Name: body_mass_g, dtype: float64\n"
     ]
    }
   ],
   "source": [
    "male_mass = male_random[\"body_mass_g\"]\n",
    "female_mass = female[\"body_mass_g\"]\n",
    "print(\"Gentoo male body mass descriptive stadistics:\")\n",
    "print(male_mass.describe())\n",
    "print()\n",
    "print(\"Gentoo female body mass descriptive stadistics:\")\n",
    "print(female_mass.describe())"
   ]
  },
  {
   "cell_type": "markdown",
   "id": "bfc91b2d",
   "metadata": {},
   "source": [
    "From the descriptive analysis, we can see that, on average, the body mass of the male Gentoo is higher than the female Gentoo. Using an histogram we can see how the body mass values for each sex are distributed."
   ]
  },
  {
   "cell_type": "markdown",
   "id": "d7fce594",
   "metadata": {},
   "source": [
    "**GENTOO BODY MASS/SEX HISTOGRAM**"
   ]
  },
  {
   "cell_type": "code",
   "execution_count": 129,
   "id": "d8db5527",
   "metadata": {},
   "outputs": [
    {
     "data": {
      "image/png": "[encoded data removed]",
      "text/plain": [
       "<Figure size 864x576 with 2 Axes>"
      ]
     },
     "metadata": {
      "needs_background": "light"
     },
     "output_type": "display_data"
    }
   ],
   "source": [
    "import pandas as pd\n",
    "import matplotlib.pyplot as plt\n",
    "\n",
    "# Create the dataframe:\n",
    "data = pd.DataFrame({\n",
    "    \"male mass\": male_mass,\n",
    "    \"female mass\": female_mass\n",
    "})\n",
    "\n",
    "# Create histograms\n",
    "plt.figure(figsize=(12, 8))\n",
    "\n",
    "# Histogram for male_mass\n",
    "plt.subplot(2, 1, 1)\n",
    "plt.hist(data[\"male mass\"], bins=10, color=\"blue\", alpha=0.3)\n",
    "mean_male = data[\"male mass\"].mean()  \n",
    "plt.axvline(mean_male, color=\"red\", linestyle=\"dashed\", linewidth=2, label=f\"Mean Male Mass: {mean_male:.2f}\")  \n",
    "plt.title(\"Male Mass Histogram\")\n",
    "plt.xlabel(\"Mass\")\n",
    "plt.ylabel(\"Frequency\")\n",
    "plt.xlim(3500, 7000)\n",
    "\n",
    "# Histogram for female_mass\n",
    "plt.subplot(2, 1, 2)\n",
    "plt.hist(data[\"female mass\"], bins=10, color=\"green\", alpha=0.3)\n",
    "mean_female = data[\"female mass\"].mean() \n",
    "plt.axvline(mean_female, color=\"red\", linestyle=\"dashed\", linewidth=2, label=f\"Mean Female Mass: {mean_female:.2f}\") \n",
    "plt.title(\"Female Mass Histogram\")\n",
    "plt.xlabel(\"Mass\")\n",
    "plt.ylabel(\"Frequency\")\n",
    "plt.xlim(3500, 7000)\n",
    "\n",
    "# Adjust layout\n",
    "plt.tight_layout()\n",
    "\n",
    "# Show the plots\n",
    "plt.show()\n"
   ]
  },
  {
   "cell_type": "markdown",
   "id": "d03e6dc9",
   "metadata": {},
   "source": [
    "The histogram shows: \n",
    "- Differences between the male and female body mass. Overall, the male body mass seems to be higher than the female body mass in the Gentoo species. \n",
    "- Data seems to be normally distributed for both, male and female body mass. \n",
    "\n",
    "In order to perform the T-test, we need to confirm whether the data comes from a normally distribution or not. Since the t-test assumes that the sample mean approaches a normal distribution. To confirm it, we are going to do a probability plot and the shapiro-wilk test."
   ]
  },
  {
   "cell_type": "markdown",
   "id": "6914d7bf",
   "metadata": {},
   "source": [
    "**PROBABILITY PLOT**"
   ]
  },
  {
   "cell_type": "markdown",
   "id": "6e0abc6c",
   "metadata": {},
   "source": [
    "The probability plot is a graphical technique which allows to assess whether a data set follows a distribution such as the normal distribution.(1)"
   ]
  },
  {
   "cell_type": "markdown",
   "id": "f741e099",
   "metadata": {},
   "source": [
    "We are going to use the \"scipy.stats.probplot\" from spicy stats to generate the probability plot of both (male and female body mass) againts the quantiles of a normal distribution.(2) If the data is normally distributed, the points will be close to the diagonal line.(3)"
   ]
  },
  {
   "cell_type": "code",
   "execution_count": 130,
   "id": "1b5fc4f7",
   "metadata": {},
   "outputs": [
    {
     "data": {
      "image/png": "[encoded data removed]",
      "text/plain": [
       "<Figure size 864x432 with 2 Axes>"
      ]
     },
     "metadata": {
      "needs_background": "light"
     },
     "output_type": "display_data"
    }
   ],
   "source": [
    "from scipy.stats import probplot\n",
    "import seaborn as sns\n",
    "\n",
    "# Create a figure with two subplots\n",
    "fig, axes = plt.subplots(nrows=1, ncols=2, figsize=(12, 6))\n",
    "\n",
    "# Probability plot for male_mass\n",
    "probplot(male_mass, plot=axes[0])\n",
    "axes[0].set_title(\"Male Mass - Probability Plot\")\n",
    "\n",
    "# Probability plot for female_mass\n",
    "probplot(female_mass, plot=axes[1])\n",
    "axes[1].set_title(\"Female Mass - Probability Plot\")\n",
    "\n",
    "# Adjust layout\n",
    "plt.tight_layout()\n",
    "\n",
    "# Show the plots\n",
    "plt.show()"
   ]
  },
  {
   "cell_type": "markdown",
   "id": "5e19920b",
   "metadata": {},
   "source": [
    "The male and female body mass seem to closely follow a straight line, suggesting that the data for both variables are approximately normally distributed. "
   ]
  },
  {
   "cell_type": "markdown",
   "id": "8ac847ac",
   "metadata": {},
   "source": [
    "**SHAPIRO-WILK TEST**"
   ]
  },
  {
   "cell_type": "markdown",
   "id": "8ca2872f",
   "metadata": {},
   "source": [
    "The Shapiro-Wilk test tests the null hypothesis that the data was drawn from a normal distribution.(4)\n",
    "\n",
    "We are going to use the \"scipy.stats.shapiro\" from spicicy.stats.(4)\n",
    "\n",
    "If the p-value is small, there is a low probability that the data comes from a normal distribution, providing evidence against the null hypothesis.(4)"
   ]
  },
  {
   "cell_type": "code",
   "execution_count": 131,
   "id": "ae24d8c5",
   "metadata": {},
   "outputs": [
    {
     "name": "stdout",
     "output_type": "stream",
     "text": [
      "╒═════════════╤══════════════════╤═══════════╕\n",
      "│ Variable    │   Test Statistic │   p-value │\n",
      "╞═════════════╪══════════════════╪═══════════╡\n",
      "│ Male Mass   │         0.993002 │  0.98372  │\n",
      "├─────────────┼──────────────────┼───────────┤\n",
      "│ Female Mass │         0.981331 │  0.510652 │\n",
      "╘═════════════╧══════════════════╧═══════════╛\n"
     ]
    }
   ],
   "source": [
    "from scipy.stats import shapiro\n",
    "\n",
    "# Shapiro-Wilk test\n",
    "stat, p_value = shapiro(male_mass)\n",
    "statf, p_valuef = shapiro(female_mass)\n",
    "\n",
    "# Create a table\n",
    "table_data = {\n",
    "    \"Variable\": [\"Male Mass\", \"Female Mass\"],\n",
    "    \"Test Statistic\": [stat, statf],\n",
    "    \"p-value\": [p_value, p_valuef],\n",
    "}\n",
    "\n",
    "# Display the table\n",
    "shapiro_table = tabulate(table_data, headers=\"keys\", tablefmt=\"fancy_grid\")\n",
    "print(shapiro_table)"
   ]
  },
  {
   "cell_type": "markdown",
   "id": "fe90850e",
   "metadata": {},
   "source": [
    "Male and Female body mass have a high p-value, showing evidence against the null hypothesis. "
   ]
  },
  {
   "cell_type": "markdown",
   "id": "e0d234e3",
   "metadata": {},
   "source": [
    "The results from the probability plot and the Shapiro-Wilk test indicate that male and female body mass approaches a normal distribution. "
   ]
  },
  {
   "cell_type": "markdown",
   "id": "0601a5c8",
   "metadata": {},
   "source": [
    "We can now perform the t-test to find out whether the difference seen between male and female body mass in Gentoo species is statistically significant or not."
   ]
  },
  {
   "cell_type": "markdown",
   "id": "3a1ab30f",
   "metadata": {},
   "source": [
    "**T-TEST**  \n"
   ]
  },
  {
   "cell_type": "markdown",
   "id": "aa1dd752",
   "metadata": {},
   "source": [
    "Using \"scipy.stats.ttest_ind\" from spicy.stats, we can calculate the t-test for the means of two independent samples.(4)\n",
    "\n",
    "For the null hypothesis, we can assume that the 2 independent samples have identical average values.(4)"
   ]
  },
  {
   "cell_type": "code",
   "execution_count": 132,
   "id": "a93b22db",
   "metadata": {},
   "outputs": [
    {
     "name": "stdout",
     "output_type": "stream",
     "text": [
      "T-statistic: 14.41136403248291\n",
      "P-value: 1.929079243955757e-27\n"
     ]
    }
   ],
   "source": [
    "from scipy.stats import ttest_ind\n",
    "\n",
    "# t-test:\n",
    "t_statistic, p_value = ttest_ind(male_mass, female_mass)\n",
    "\n",
    "# Display the results\n",
    "print(f\"T-statistic: {t_statistic}\")\n",
    "print(f\"P-value: {p_value}\")"
   ]
  },
  {
   "cell_type": "markdown",
   "id": "4cf6d2b5",
   "metadata": {},
   "source": [
    "**RESULTS**"
   ]
  },
  {
   "cell_type": "markdown",
   "id": "c4887825",
   "metadata": {},
   "source": [
    "1. The T-statistic value measures indicates a big difference between both sample group means.  \n",
    "2. The low p-value indicates that this difference is statistically significant. \n",
    "3. Therefore, there is a statistically significant difference in the body mass between male and female gentoo penguins."
   ]
  },
  {
   "cell_type": "markdown",
   "id": "b67991c8",
   "metadata": {},
   "source": [
    "**References**\n",
    "1. Probability plot: https://www.itl.nist.gov/div898/handbook/eda/section3/probplot.htm  \n",
    "2. Spicy.stats Probability Plot: https://docs.scipy.org/doc/scipy/reference/generated/scipy.stats.probplot.html  \n",
    "3. Laerd Statistics: https://statistics.laerd.com/spss-tutorials/testing-for-normality-using-spss-statistics.php  \n",
    "4. Spicy.stats Shapiro test: https://docs.scipy.org/doc/scipy/reference/generated/scipy.stats.shapiro.html  \n",
    "5. Spicy.stats website (https://docs.scipy.org/doc/scipy/reference/generated/scipy.stats.ttest_ind.html)"
   ]
  },
  {
   "cell_type": "markdown",
   "id": "8e234eb2",
   "metadata": {},
   "source": [
    "## **TASK 4. THE SETOSA CLASS**\n",
    "\n",
    "***"
   ]
  },
  {
   "cell_type": "markdown",
   "id": "ae76074a",
   "metadata": {},
   "source": [
    "Using the famous iris data set suggest whether the setosa class is easily separable from the other two classes. Provide evidence for your answer."
   ]
  },
  {
   "cell_type": "markdown",
   "id": "0908bfd6",
   "metadata": {},
   "source": [
    "Iris Data set downloaded from : UCI Machine Learning Repository.\n",
    "Aug. 17, 2023. url: https://archive.\n",
    "ics.uci.edu/dataset/53/iris\n",
    "(visited on 08/17/2023)."
   ]
  },
  {
   "cell_type": "markdown",
   "id": "eef54b03",
   "metadata": {},
   "source": [
    "The aim from this task is to separate each attribute for the setosa class. Then compare it against the attributes from versicolor and virginica class. And finally, to determine whether the difference between the setosa class is statistically significant."
   ]
  },
  {
   "cell_type": "markdown",
   "id": "c9258439",
   "metadata": {},
   "source": [
    "**READ AND DESCRIBE THE DATA SET**"
   ]
  },
  {
   "cell_type": "code",
   "execution_count": 133,
   "id": "d5e29b63",
   "metadata": {},
   "outputs": [
    {
     "name": "stdout",
     "output_type": "stream",
     "text": [
      "<class 'pandas.core.frame.DataFrame'>\n",
      "RangeIndex: 150 entries, 0 to 149\n",
      "Data columns (total 5 columns):\n",
      " #   Column        Non-Null Count  Dtype  \n",
      "---  ------        --------------  -----  \n",
      " 0   sepal_length  150 non-null    float64\n",
      " 1   sepal_width   150 non-null    float64\n",
      " 2   petal_length  150 non-null    float64\n",
      " 3   petal_width   150 non-null    float64\n",
      " 4   class         150 non-null    object \n",
      "dtypes: float64(4), object(1)\n",
      "memory usage: 6.0+ KB\n"
     ]
    }
   ],
   "source": [
    "import pandas as pd\n",
    "# Read the csv file\n",
    "iris_ds = pd.read_csv(\"datasets/iris.csv\")\n",
    "# Create dataframe with pandas:\n",
    "idf = pd.DataFrame(iris_ds)\n",
    "# Summary of dataframe:\n",
    "iris_ds.info()"
   ]
  },
  {
   "cell_type": "markdown",
   "id": "e90e62c7",
   "metadata": {},
   "source": [
    "**DISTRIBUTION OF EACH ATTRIBUTE PER CLASS**"
   ]
  },
  {
   "cell_type": "markdown",
   "id": "8eaff037",
   "metadata": {},
   "source": [
    "Using \"seaborn.pairplot\" from seaborn we can visualize the data distribution for each attribute per class (kernel density estimate) and the relationship between attributes per class (scatter plot).(1)"
   ]
  },
  {
   "cell_type": "code",
   "execution_count": 134,
   "id": "72a721ff",
   "metadata": {},
   "outputs": [
    {
     "data": {
      "text/plain": [
       "<seaborn.axisgrid.PairGrid at 0x217b7846cd0>"
      ]
     },
     "execution_count": 134,
     "metadata": {},
     "output_type": "execute_result"
    },
    {
     "data": {
      "image/png": "[encoded data removed]",
      "text/plain": [
       "<Figure size 804.75x720 with 20 Axes>"
      ]
     },
     "metadata": {
      "needs_background": "light"
     },
     "output_type": "display_data"
    }
   ],
   "source": [
    "sns.pairplot(idf, hue =\"class\")"
   ]
  },
  {
   "cell_type": "markdown",
   "id": "15b06283",
   "metadata": {},
   "source": [
    "From the kernel density estimate, we can assess that:\n",
    "- Petal length and petal width are smaller in Setosa class than Versicolor and Virginica class. \n",
    "- Sepal width is slightly bigger in Setosa class. \n",
    "- Sepal length is smaller in the Setosa class. \n",
    "- All attributes in each class seem to approximate a normal distribution. \n",
    "\n",
    "From the scatter plots, we can assess that:\n",
    "- There are relationships between the different Setosa class attributes. These relationships seem to be independent from the Versicolor and Virginica class.\n",
    "\n",
    "Therefore, these results indicate that there could be clear differences between the Setosa class and the other 2 classes. To verify that these differences statistically significant, we are going to perform a T-Test of each attribute from the Setosa class against the other 2 classes.\n",
    "\n",
    "The T-test assumes that the data is normally distributed. To confirm it, we are going to do the shapiro-wilk test."
   ]
  },
  {
   "cell_type": "markdown",
   "id": "319a8dbc",
   "metadata": {},
   "source": [
    "**SHAPIRO-WILK TEST**"
   ]
  },
  {
   "cell_type": "markdown",
   "id": "c0dca8d0",
   "metadata": {},
   "source": [
    "The Shapiro-Wilk test tests the null hypothesis that the data was drawn from a normal distribution.(2)\n",
    "\n",
    "We are going to use the \"scipy.stats.shapiro\" from spicicy.stats.(2)\n",
    "\n",
    "If the p-value is small (significance level < 0.05), there is a low probability that the data comes from a normal distribution, providing evidence against the null hypothesis.(2)"
   ]
  },
  {
   "cell_type": "code",
   "execution_count": 135,
   "id": "10d6c38b",
   "metadata": {},
   "outputs": [
    {
     "name": "stdout",
     "output_type": "stream",
     "text": [
      "╒═════════════════════════╤═════════════╤═════════════╕\n",
      "│ Variable                │   Statistic │     P-value │\n",
      "╞═════════════════════════╪═════════════╪═════════════╡\n",
      "│ Petal Length Setosa     │    0.954946 │ 0.0546492   │\n",
      "├─────────────────────────┼─────────────┼─────────────┤\n",
      "│ Petal Length Versicolor │    0.966005 │ 0.158483    │\n",
      "├─────────────────────────┼─────────────┼─────────────┤\n",
      "│ Petal Length Virginica  │    0.962186 │ 0.109774    │\n",
      "├─────────────────────────┼─────────────┼─────────────┤\n",
      "│ Petal Width Setosa      │    0.813817 │ 1.85258e-06 │\n",
      "├─────────────────────────┼─────────────┼─────────────┤\n",
      "│ Petal Width Versicolor  │    0.947627 │ 0.0272782   │\n",
      "├─────────────────────────┼─────────────┼─────────────┤\n",
      "│ Petal Width Virginica   │    0.959772 │ 0.0869574   │\n",
      "├─────────────────────────┼─────────────┼─────────────┤\n",
      "│ Sepal Length Setosa     │    0.977699 │ 0.459528    │\n",
      "├─────────────────────────┼─────────────┼─────────────┤\n",
      "│ Sepal Length Versicolor │    0.977836 │ 0.464733    │\n",
      "├─────────────────────────┼─────────────┼─────────────┤\n",
      "│ Sepal Length Virginica  │    0.97118  │ 0.258325    │\n",
      "├─────────────────────────┼─────────────┼─────────────┤\n",
      "│ Sepal Width Setosa      │    0.968692 │ 0.204656    │\n",
      "├─────────────────────────┼─────────────┼─────────────┤\n",
      "│ Sepal Width Versicolor  │    0.974133 │ 0.337989    │\n",
      "├─────────────────────────┼─────────────┼─────────────┤\n",
      "│ Sepal Width Virginica   │    0.967391 │ 0.180904    │\n",
      "╘═════════════════════════╧═════════════╧═════════════╛\n"
     ]
    }
   ],
   "source": [
    "from scipy.stats import shapiro\n",
    "\n",
    "# Petal length variables per class:\n",
    "petal_length_setosa = idf.loc[idf[\"class\"] == \"setosa\", \"petal_length\"]\n",
    "petal_length_versicolor = idf.loc[idf[\"class\"] == \"versicolor\", \"petal_length\"]\n",
    "petal_length_virginica = idf.loc[idf[\"class\"] == \"virginica\", \"petal_length\"]\n",
    "\n",
    "# Petal width variables per class: \n",
    "petal_width_setosa = idf.loc[idf[\"class\"] == \"setosa\", \"petal_width\"]\n",
    "petal_width_versicolor = idf.loc[idf[\"class\"] == \"versicolor\", \"petal_width\"]\n",
    "petal_width_virginica = idf.loc[idf[\"class\"] == \"virginica\", \"petal_width\"]\n",
    "\n",
    "# Sepal length variables per class:\n",
    "sepal_length_setosa = idf.loc[idf[\"class\"] == \"setosa\", \"sepal_length\"]\n",
    "sepal_length_versicolor = idf.loc[idf[\"class\"] == \"versicolor\", \"sepal_length\"]\n",
    "sepal_length_virginica = idf.loc[idf[\"class\"] == \"virginica\", \"sepal_length\"]\n",
    "\n",
    "# Sepal width variables per class:\n",
    "sepal_width_setosa = idf.loc[idf[\"class\"] == \"setosa\", \"sepal_width\"]\n",
    "sepal_width_versicolor = idf.loc[idf[\"class\"] == \"versicolor\", \"sepal_width\"]\n",
    "sepal_width_virginica = idf.loc[idf[\"class\"] == \"virginica\", \"sepal_width\"]\n",
    "\n",
    "# Function to perform the Shapiro-Wilk test and return the results as a dataframe:\n",
    "def shapiro_test(data, label):\n",
    "    stat, p_value = shapiro(data)\n",
    "    return pd.DataFrame({\n",
    "        \"Variable\": [label],\n",
    "        \"Statistic\": [stat],\n",
    "        \"P-value\": [p_value]\n",
    "    })\n",
    "\n",
    "# Concatenate the results into a single dataframe:\n",
    "results = pd.concat([\n",
    "    shapiro_test(petal_length_setosa, \"Petal Length Setosa\"),\n",
    "    shapiro_test(petal_length_versicolor, \"Petal Length Versicolor\"),\n",
    "    shapiro_test(petal_length_virginica, \"Petal Length Virginica\"),\n",
    "    \n",
    "    shapiro_test(petal_width_setosa, \"Petal Width Setosa\"),\n",
    "    shapiro_test(petal_width_versicolor, \"Petal Width Versicolor\"),\n",
    "    shapiro_test(petal_width_virginica, \"Petal Width Virginica\"),\n",
    "    \n",
    "    shapiro_test(sepal_length_setosa, \"Sepal Length Setosa\"),\n",
    "    shapiro_test(sepal_length_versicolor, \"Sepal Length Versicolor\"),\n",
    "    shapiro_test(sepal_length_virginica, \"Sepal Length Virginica\"),\n",
    "    \n",
    "    shapiro_test(sepal_width_setosa, \"Sepal Width Setosa\"),\n",
    "    shapiro_test(sepal_width_versicolor, \"Sepal Width Versicolor\"),\n",
    "    shapiro_test(sepal_width_virginica, \"Sepal Width Virginica\"),\n",
    "], ignore_index=True)\n",
    "\n",
    "# Display results in a table:\n",
    "table = tabulate(results, headers=\"keys\", tablefmt=\"fancy_grid\", showindex=False)\n",
    "print(table)"
   ]
  },
  {
   "cell_type": "markdown",
   "id": "42599497",
   "metadata": {},
   "source": [
    "Assuming a significance level lower than 0.05 to reject the null hypothesis and conclude that the data is not normally distributed. These results indicate that:\n",
    "- The majority of attributes seem to approximate to a normal distribution. \n",
    "- Petal Width Setosa and Petal Width Versicolor may not be normally distributed. To clarify it, we are going to perform a probability plot."
   ]
  },
  {
   "cell_type": "markdown",
   "id": "e7557bce",
   "metadata": {},
   "source": [
    "**Petal width setosa and petal width versicolor - Probability plot**"
   ]
  },
  {
   "cell_type": "markdown",
   "id": "f61826f8",
   "metadata": {},
   "source": [
    "The probability plot is a graphical technique which allows to assess whether a data set follows a distribution such as the normal distribution.(3) \n",
    "\n",
    "We are going to use the \"scipy.stats.probplot\" from spicy stats to generate the probability plot to compare the Petal Width Setosa and Petal Width Versicolor distribution against the quantiles of a normal distribution.(4) "
   ]
  },
  {
   "cell_type": "code",
   "execution_count": 136,
   "id": "e58be72c",
   "metadata": {},
   "outputs": [
    {
     "data": {
      "image/png": "[encoded data removed]",
      "text/plain": [
       "<Figure size 720x432 with 2 Axes>"
      ]
     },
     "metadata": {
      "needs_background": "light"
     },
     "output_type": "display_data"
    }
   ],
   "source": [
    "# Probplot for petal_width_setosa and petal_width_versicolor\n",
    "import matplotlib.pyplot as plt\n",
    "from scipy.stats import probplot\n",
    "\n",
    "# Probability plots for each variable:\n",
    "plt.figure(figsize=(10, 6))\n",
    "\n",
    "# Probability plot for Petal Width Setosa\n",
    "plt.subplot(2, 1, 1)\n",
    "probplot(petal_width_setosa, plot=plt)\n",
    "plt.title('Probability Plot - Petal Width Setosa')\n",
    "\n",
    "# Probability plot for Petal Width Versicolor\n",
    "plt.subplot(2, 1, 2)\n",
    "probplot(petal_width_versicolor, plot=plt)\n",
    "plt.title('Probability Plot - Petal Width Versicolor')\n",
    "\n",
    "plt.tight_layout()\n",
    "plt.show()"
   ]
  },
  {
   "cell_type": "markdown",
   "id": "6c941763",
   "metadata": {},
   "source": [
    "Interpretation: \n",
    "- The data seems to approximate to a normal distribution. \n",
    "- The presence of outliers could explain why the distribution appears more skewed, affecting the assumption of data normally distributed. "
   ]
  },
  {
   "cell_type": "markdown",
   "id": "feee821e",
   "metadata": {},
   "source": [
    "**T-TEST: SEPAL LENGTH**"
   ]
  },
  {
   "cell_type": "markdown",
   "id": "76616d4a",
   "metadata": {},
   "source": [
    "Using \"scipy.stats.ttest_ind\" from spicy.stats, we can calculate the t-test for the means of two independent samples.(5)\n",
    "\n",
    "For the null hypothesis, we can assume that the 2 independent samples have identical average values.(5)"
   ]
  },
  {
   "cell_type": "code",
   "execution_count": 137,
   "id": "a4cb2edf",
   "metadata": {},
   "outputs": [],
   "source": [
    "# t-test sepal length\n",
    "\n",
    "from scipy.stats import ttest_ind\n",
    "\n",
    "classes = [\"setosa\", \"virginica\", \"versicolor\"]\n",
    "\n",
    "# Function sepal_length: it separates the sepal length attibute per class and returns a dictionary.\n",
    "def sepal_length (): \n",
    "    sepal_lengths_by_class = {}\n",
    "\n",
    "    for class_name in classes:\n",
    "        class_df = idf[idf[\"class\"] == class_name]\n",
    "        sepal_lengths_by_class[class_name] = class_df[\"sepal_length\"].tolist()\n",
    "\n",
    "    return sepal_lengths_by_class\n",
    "\n",
    "# Call the sepal_length function and store the result in a new variable:\n",
    "sepal_lengths_by_class = sepal_length()\n",
    "\n",
    "# Function t_test_sepal_length: it performs a t-test and returns a dictionary.\n",
    "def t_test_sepal_length(class1, class2):\n",
    "    \n",
    "    t_statistic, p_value = ttest_ind(class1, class2)\n",
    "    \n",
    "    result = {\n",
    "        \"T-statistic\": t_statistic,\n",
    "        \"P-value\": p_value\n",
    "        \n",
    "    }\n",
    "\n",
    "    return result\n",
    "\n",
    "# List to store the results of t-tests\n",
    "t_test_setosa_vs_virginica = []\n",
    "t_test_setosa_vs_versicolor = []\n",
    "\n",
    "# Call the function for Setosa vs Virginica and append the result to the list\n",
    "t_test_result = t_test_sepal_length(sepal_lengths_by_class[\"setosa\"], sepal_lengths_by_class[\"virginica\"])\n",
    "t_test_setosa_vs_virginica.append(t_test_result)\n",
    "\n",
    "# Call the function for Setosa vs Versicolor and append the result to the list\n",
    "t_test_result = t_test_sepal_length(sepal_lengths_by_class[\"setosa\"], sepal_lengths_by_class[\"versicolor\"])\n",
    "t_test_setosa_vs_versicolor.append(t_test_result)"
   ]
  },
  {
   "cell_type": "markdown",
   "id": "15fca075",
   "metadata": {},
   "source": [
    "We will follow the same process from above for all the attributes. Finally, we will include all the results in a table."
   ]
  },
  {
   "cell_type": "markdown",
   "id": "67ba5a60",
   "metadata": {},
   "source": [
    "**T-TEST: PETAL LENGTH**"
   ]
  },
  {
   "cell_type": "code",
   "execution_count": 138,
   "id": "4c676021",
   "metadata": {},
   "outputs": [],
   "source": [
    "def petal_length (): \n",
    "    petal_lengths_by_class = {}\n",
    "\n",
    "    for class_name in classes:\n",
    "        class_df = idf[idf[\"class\"] == class_name]\n",
    "        petal_lengths_by_class[class_name] = class_df[\"petal_length\"].tolist()\n",
    "\n",
    "    return petal_lengths_by_class\n",
    "\n",
    "petal_lengths_by_class = petal_length()\n",
    "\n",
    "def t_test_petal_length(class1, class2):\n",
    "    \n",
    "    t_statistic, p_value = ttest_ind(class1, class2)\n",
    "    \n",
    "    result = {\n",
    "        \"T-statistic\": t_statistic,\n",
    "        \"P-value\": p_value\n",
    "    }\n",
    "\n",
    "    return result\n",
    "\n",
    "t_test_setosa_vs_virginica_pl = []\n",
    "t_test_setosa_vs_versicolor_pl= []\n",
    "\n",
    "t_test_result = t_test_petal_length(petal_lengths_by_class[\"setosa\"], petal_lengths_by_class[\"virginica\"])\n",
    "t_test_setosa_vs_virginica_pl.append(t_test_result)\n",
    "\n",
    "t_test_result = t_test_petal_length(petal_lengths_by_class[\"setosa\"], petal_lengths_by_class[\"versicolor\"])\n",
    "t_test_setosa_vs_versicolor_pl.append(t_test_result)"
   ]
  },
  {
   "cell_type": "markdown",
   "id": "a472837a",
   "metadata": {},
   "source": [
    "**T-TEST: SEPAL WIDTH**"
   ]
  },
  {
   "cell_type": "code",
   "execution_count": 139,
   "id": "9dff6392",
   "metadata": {},
   "outputs": [],
   "source": [
    "def sepal_width (): \n",
    "    sepal_widths_by_class = {}\n",
    "\n",
    "    for class_name in classes:\n",
    "        class_df = idf[idf[\"class\"] == class_name]\n",
    "        sepal_widths_by_class[class_name] = class_df[\"sepal_width\"].tolist()\n",
    "\n",
    "    return sepal_widths_by_class\n",
    "\n",
    "sepal_widths_by_class = sepal_width()\n",
    "\n",
    "def t_test_sepal_width(class1, class2):\n",
    "    \n",
    "    t_statistic, p_value = ttest_ind(class1, class2)\n",
    "    \n",
    "    result = {\n",
    "        \"T-statistic\": t_statistic,\n",
    "        \"P-value\": p_value,\n",
    "        \n",
    "    }\n",
    "\n",
    "    return result\n",
    "\n",
    "t_test_setosa_vs_virginica_sw = []\n",
    "t_test_setosa_vs_versicolor_sw= []\n",
    "\n",
    "t_test_result = t_test_sepal_width(sepal_widths_by_class[\"setosa\"], sepal_widths_by_class[\"virginica\"])\n",
    "t_test_setosa_vs_virginica_sw.append(t_test_result)\n",
    "\n",
    "t_test_result = t_test_sepal_width(sepal_widths_by_class[\"setosa\"], sepal_widths_by_class[\"versicolor\"])\n",
    "t_test_setosa_vs_versicolor_sw.append(t_test_result)"
   ]
  },
  {
   "cell_type": "markdown",
   "id": "4336de5d",
   "metadata": {},
   "source": [
    "**T-TEST: PETAL WIDTH**"
   ]
  },
  {
   "cell_type": "code",
   "execution_count": 140,
   "id": "25777e18",
   "metadata": {},
   "outputs": [],
   "source": [
    "def petal_width (): \n",
    "    petal_widths_by_class = {}\n",
    "\n",
    "    for class_name in classes:\n",
    "        class_df = idf[idf[\"class\"] == class_name]\n",
    "        petal_widths_by_class[class_name] = class_df[\"petal_width\"].tolist()\n",
    "\n",
    "    return petal_widths_by_class\n",
    "\n",
    "petal_widths_by_class = petal_width()\n",
    "\n",
    "def t_test_petal_width(class1, class2):\n",
    "    \n",
    "    t_statistic, p_value = ttest_ind(class1, class2)\n",
    "    \n",
    "    result = {\n",
    "        \"T-statistic\": t_statistic,\n",
    "        \"P-value\": p_value,\n",
    "        \n",
    "    }\n",
    "\n",
    "    return result\n",
    "\n",
    "t_test_setosa_vs_virginica_pw = []\n",
    "t_test_setosa_vs_versicolor_pw= []\n",
    "\n",
    "t_test_result = t_test_petal_width(petal_widths_by_class[\"setosa\"], petal_widths_by_class[\"virginica\"])\n",
    "t_test_setosa_vs_virginica_pw.append(t_test_result)\n",
    "\n",
    "t_test_result = t_test_petal_width(petal_widths_by_class[\"setosa\"], petal_widths_by_class[\"versicolor\"])\n",
    "t_test_setosa_vs_versicolor_pw.append(t_test_result)"
   ]
  },
  {
   "cell_type": "markdown",
   "id": "77dbe174",
   "metadata": {},
   "source": [
    "**T-TEST: RESULTS**"
   ]
  },
  {
   "cell_type": "markdown",
   "id": "ec3f804f",
   "metadata": {},
   "source": [
    "Finally, we are going to take the results of each t-test to fit them in a table."
   ]
  },
  {
   "cell_type": "code",
   "execution_count": 141,
   "id": "77cb0197",
   "metadata": {},
   "outputs": [
    {
     "name": "stdout",
     "output_type": "stream",
     "text": [
      "╒══════════════╤══════════════════════╤═══════════════╤═════════════╕\n",
      "│ Feature      │ Comparison           │   T-statistic │     P-value │\n",
      "╞══════════════╪══════════════════════╪═══════════════╪═════════════╡\n",
      "│ Sepal Length │ Setosa vs Virginica  │     -15.3862  │ 6.89255e-28 │\n",
      "├──────────────┼──────────────────────┼───────────────┼─────────────┤\n",
      "│ Sepal Length │ Setosa vs Versicolor │     -10.521   │ 8.98524e-18 │\n",
      "├──────────────┼──────────────────────┼───────────────┼─────────────┤\n",
      "│ Petal Length │ Setosa vs Virginica  │     -49.9657  │ 1.56412e-71 │\n",
      "├──────────────┼──────────────────────┼───────────────┼─────────────┤\n",
      "│ Petal Length │ Setosa vs Versicolor │     -39.4687  │ 5.71746e-62 │\n",
      "├──────────────┼──────────────────────┼───────────────┼─────────────┤\n",
      "│ Sepal Width  │ Setosa vs Virginica  │       6.28938 │ 8.91663e-09 │\n",
      "├──────────────┼──────────────────────┼───────────────┼─────────────┤\n",
      "│ Sepal Width  │ Setosa vs Versicolor │       9.28277 │ 4.36224e-15 │\n",
      "├──────────────┼──────────────────────┼───────────────┼─────────────┤\n",
      "│ Petal Width  │ Setosa vs Virginica  │     -42.7382  │ 3.58272e-65 │\n",
      "├──────────────┼──────────────────────┼───────────────┼─────────────┤\n",
      "│ Petal Width  │ Setosa vs Versicolor │     -34.0124  │ 4.58908e-56 │\n",
      "╘══════════════╧══════════════════════╧═══════════════╧═════════════╛\n"
     ]
    }
   ],
   "source": [
    "import pandas as pd\n",
    "from tabulate import tabulate\n",
    "\n",
    "# Results for sepal length\n",
    "sepal_length_results = [\n",
    "    {'T-statistic': t_test_setosa_vs_virginica[0][\"T-statistic\"], 'P-value': t_test_setosa_vs_virginica[0][\"P-value\"]},\n",
    "    {'T-statistic': t_test_setosa_vs_versicolor[0][\"T-statistic\"], 'P-value': t_test_setosa_vs_versicolor[0][\"P-value\"]}\n",
    "]\n",
    "\n",
    "# Results for petal length\n",
    "petal_length_results = [\n",
    "    {'T-statistic': t_test_setosa_vs_virginica_pl[0][\"T-statistic\"], 'P-value': t_test_setosa_vs_virginica_pl[0][\"P-value\"]},\n",
    "    {'T-statistic': t_test_setosa_vs_versicolor_pl[0][\"T-statistic\"], 'P-value': t_test_setosa_vs_versicolor_pl[0][\"P-value\"]}\n",
    "]\n",
    "\n",
    "# Results for sepal width\n",
    "sepal_width_results = [\n",
    "    {'T-statistic': t_test_setosa_vs_virginica_sw[0][\"T-statistic\"], 'P-value': t_test_setosa_vs_virginica_sw[0][\"P-value\"]},\n",
    "    {'T-statistic': t_test_setosa_vs_versicolor_sw[0][\"T-statistic\"], 'P-value': t_test_setosa_vs_versicolor_sw[0][\"P-value\"]}\n",
    "]\n",
    "\n",
    "# Results for petal width\n",
    "petal_width_results = [\n",
    "    {'T-statistic': t_test_setosa_vs_virginica_pw[0][\"T-statistic\"], 'P-value': t_test_setosa_vs_virginica_pw[0][\"P-value\"]},\n",
    "    {'T-statistic': t_test_setosa_vs_versicolor_pw[0][\"T-statistic\"], 'P-value': t_test_setosa_vs_versicolor_pw[0][\"P-value\"]}\n",
    "]\n",
    "\n",
    "# DataFrame\n",
    "df = pd.DataFrame({\n",
    "    'Feature': ['Sepal Length', 'Sepal Length', 'Petal Length', 'Petal Length', 'Sepal Width', 'Sepal Width', 'Petal Width', 'Petal Width'],\n",
    "    'Comparison': ['Setosa vs Virginica', 'Setosa vs Versicolor'] * 4,\n",
    "    'T-statistic': [result['T-statistic'] for result in sepal_length_results + petal_length_results + sepal_width_results + petal_width_results],\n",
    "    'P-value': [result['P-value'] for result in sepal_length_results + petal_length_results + sepal_width_results + petal_width_results]\n",
    "})\n",
    "\n",
    "# Display the dataframe in a table using tabulate\n",
    "table = tabulate(df, headers='keys', tablefmt='fancy_grid', showindex=False)\n",
    "\n",
    "print(table)"
   ]
  },
  {
   "cell_type": "markdown",
   "id": "ef9df1e2",
   "metadata": {},
   "source": [
    "**Results interpretation**\n",
    "- The null hypothesis is that the means for the attributes from different classes are equals.\n",
    "- The low p-values indicate that the probability of the means for the attribute in both classes being equal is highly unlikely. \n",
    "- The attribute difference between the Setosa class and the other two classes (versicolor and virginica) are statistically significant. Therefore, the setosa class may be separated from the other two classes. "
   ]
  },
  {
   "cell_type": "markdown",
   "id": "953e0448",
   "metadata": {},
   "source": [
    "**References**"
   ]
  },
  {
   "cell_type": "markdown",
   "id": "f2f2e7a3",
   "metadata": {},
   "source": [
    "1. Seaborn pairplot: https://seaborn.pydata.org/generated/seaborn.pairplot.html  \n",
    "2. Shapiro-Wilk test: https://docs.scipy.org/doc/scipy/reference/generated/scipy.stats.shapiro.html  \n",
    "3. Probability plot: https://www.itl.nist.gov/div898/handbook/eda/section3/probplot.htm  \n",
    "4. Spicy.stats Probability Plot: https://docs.scipy.org/doc/scipy/reference/generated/scipy.stats.probplot.html  \n",
    "5. Spicy.stats t-test: https://docs.scipy.org/doc/scipy/reference/generated/scipy.stats.ttest_ind.html  \n"
   ]
  },
  {
   "cell_type": "markdown",
   "metadata": {},
   "source": [
    "## **TASK 5. PRINCIPAL COMPONENT ANALYSIS ON THE IRIS DATA SET**\n",
    "\n",
    "***"
   ]
  },
  {
   "cell_type": "markdown",
   "metadata": {},
   "source": [
    "Perform Principal Component Analysis on the iris data set, reducing the number of dimensions to two. Explain the purpose of the analysis and your results."
   ]
  },
  {
   "cell_type": "code",
   "execution_count": 162,
   "metadata": {},
   "outputs": [],
   "source": [
    "# Python modules required\n",
    "import sklearn.decomposition as dec\n",
    "import sklearn as sk\n",
    "import sklearn.preprocessing as pre\n",
    "import sklearn.neighbors as ne"
   ]
  },
  {
   "cell_type": "markdown",
   "metadata": {},
   "source": [
    "**What is the purpose of a principal component analysis?**\n",
    "\n",
    "The principal component analysis (PCA) is a dimensionality reduction technique used to simplify complex datasets. It aims to reduce the number of features or variables while preserving essential information. By finding new uncorrelated variables called principal components, PCA helps achieve this reduction.(1)\n",
    "\n",
    "PCA identifies the axes along which data varies the most, ranking them by importance. It captures maximum variance in the first principal component, followed by variations in subsequent components. This reduction in dimensionality is beneficial for data visualization, as it makes it easier to understand and interpret high-dimensional data.(1)\n",
    "\n",
    "PCA is used for feature selection, emphasizing the most significant variables in a dataset. It can be applied in data compression, reducing dataset size while maintaining crucial patterns. Since PCA is an unsupervised learning algorithm, making it useful for exploring relationships among variables without prior knowledge of target variables.(1)\n",
    "\n",
    "Overall, PCA simplifies data analysis, enhances data visualization, and aids in various machine learning and data-driven tasks by reducing complexity while preserving critical information.(1)"
   ]
  },
  {
   "cell_type": "markdown",
   "metadata": {},
   "source": [
    "**How to apply the PCA to the Iris Dataset?**\n",
    "\n",
    "The Iris dataset has four features (sepal length, sepal width, petal length, and petal width). PCA can reduce these dimensions while preserving most of the dataset's variance, making it easier to visualize and analyze.  By analyzing the importance of each principal component, PCA can help identify which original features (sepal length, sepal width, petal length, or petal width) contribute most to the variance in the data. This can guide feature selection for further analysis. "
   ]
  },
  {
   "cell_type": "markdown",
   "metadata": {},
   "source": [
    "**Standardize - Why is it necessary?**"
   ]
  },
  {
   "cell_type": "markdown",
   "metadata": {},
   "source": [
    "Each class of the iris dataset has 4 attributes. Each attribute may have different impact on how the PCA performs."
   ]
  },
  {
   "cell_type": "code",
   "execution_count": 143,
   "metadata": {},
   "outputs": [
    {
     "data": {
      "text/html": [
       "<div>\n",
       "<style scoped>\n",
       "    .dataframe tbody tr th:only-of-type {\n",
       "        vertical-align: middle;\n",
       "    }\n",
       "\n",
       "    .dataframe tbody tr th {\n",
       "        vertical-align: top;\n",
       "    }\n",
       "\n",
       "    .dataframe thead th {\n",
       "        text-align: right;\n",
       "    }\n",
       "</style>\n",
       "<table border=\"1\" class=\"dataframe\">\n",
       "  <thead>\n",
       "    <tr style=\"text-align: right;\">\n",
       "      <th></th>\n",
       "      <th>sepal_length</th>\n",
       "      <th>sepal_width</th>\n",
       "      <th>petal_length</th>\n",
       "      <th>petal_width</th>\n",
       "      <th>class</th>\n",
       "    </tr>\n",
       "  </thead>\n",
       "  <tbody>\n",
       "    <tr>\n",
       "      <th>0</th>\n",
       "      <td>5.1</td>\n",
       "      <td>3.5</td>\n",
       "      <td>1.4</td>\n",
       "      <td>0.2</td>\n",
       "      <td>setosa</td>\n",
       "    </tr>\n",
       "    <tr>\n",
       "      <th>1</th>\n",
       "      <td>4.9</td>\n",
       "      <td>3.0</td>\n",
       "      <td>1.4</td>\n",
       "      <td>0.2</td>\n",
       "      <td>setosa</td>\n",
       "    </tr>\n",
       "    <tr>\n",
       "      <th>2</th>\n",
       "      <td>4.7</td>\n",
       "      <td>3.2</td>\n",
       "      <td>1.3</td>\n",
       "      <td>0.2</td>\n",
       "      <td>setosa</td>\n",
       "    </tr>\n",
       "    <tr>\n",
       "      <th>3</th>\n",
       "      <td>4.6</td>\n",
       "      <td>3.1</td>\n",
       "      <td>1.5</td>\n",
       "      <td>0.2</td>\n",
       "      <td>setosa</td>\n",
       "    </tr>\n",
       "    <tr>\n",
       "      <th>4</th>\n",
       "      <td>5.0</td>\n",
       "      <td>3.6</td>\n",
       "      <td>1.4</td>\n",
       "      <td>0.2</td>\n",
       "      <td>setosa</td>\n",
       "    </tr>\n",
       "  </tbody>\n",
       "</table>\n",
       "</div>"
      ],
      "text/plain": [
       "   sepal_length  sepal_width  petal_length  petal_width   class\n",
       "0           5.1          3.5           1.4          0.2  setosa\n",
       "1           4.9          3.0           1.4          0.2  setosa\n",
       "2           4.7          3.2           1.3          0.2  setosa\n",
       "3           4.6          3.1           1.5          0.2  setosa\n",
       "4           5.0          3.6           1.4          0.2  setosa"
      ]
     },
     "execution_count": 143,
     "metadata": {},
     "output_type": "execute_result"
    }
   ],
   "source": [
    "idf.head()"
   ]
  },
  {
   "cell_type": "markdown",
   "metadata": {},
   "source": [
    "In PCA, standardization is crucial because it ensures that all features contribute equally by scaling them to have a mean of 0 and a standard deviation of 1. This prevents features with larger scales from dominating the principal components and guarantees an accurate representation of the data based on variances.(2) This is crucial in marchine learning in order to get an accurate prediction of our data. "
   ]
  },
  {
   "cell_type": "code",
   "execution_count": 144,
   "metadata": {},
   "outputs": [
    {
     "data": {
      "text/html": [
       "<div>\n",
       "<style scoped>\n",
       "    .dataframe tbody tr th:only-of-type {\n",
       "        vertical-align: middle;\n",
       "    }\n",
       "\n",
       "    .dataframe tbody tr th {\n",
       "        vertical-align: top;\n",
       "    }\n",
       "\n",
       "    .dataframe thead th {\n",
       "        text-align: right;\n",
       "    }\n",
       "</style>\n",
       "<table border=\"1\" class=\"dataframe\">\n",
       "  <thead>\n",
       "    <tr style=\"text-align: right;\">\n",
       "      <th></th>\n",
       "      <th>sepal_length</th>\n",
       "      <th>sepal_width</th>\n",
       "      <th>petal_length</th>\n",
       "      <th>petal_width</th>\n",
       "    </tr>\n",
       "  </thead>\n",
       "  <tbody>\n",
       "    <tr>\n",
       "      <th>0</th>\n",
       "      <td>5.1</td>\n",
       "      <td>3.5</td>\n",
       "      <td>1.4</td>\n",
       "      <td>0.2</td>\n",
       "    </tr>\n",
       "    <tr>\n",
       "      <th>1</th>\n",
       "      <td>4.9</td>\n",
       "      <td>3.0</td>\n",
       "      <td>1.4</td>\n",
       "      <td>0.2</td>\n",
       "    </tr>\n",
       "    <tr>\n",
       "      <th>2</th>\n",
       "      <td>4.7</td>\n",
       "      <td>3.2</td>\n",
       "      <td>1.3</td>\n",
       "      <td>0.2</td>\n",
       "    </tr>\n",
       "    <tr>\n",
       "      <th>3</th>\n",
       "      <td>4.6</td>\n",
       "      <td>3.1</td>\n",
       "      <td>1.5</td>\n",
       "      <td>0.2</td>\n",
       "    </tr>\n",
       "    <tr>\n",
       "      <th>4</th>\n",
       "      <td>5.0</td>\n",
       "      <td>3.6</td>\n",
       "      <td>1.4</td>\n",
       "      <td>0.2</td>\n",
       "    </tr>\n",
       "  </tbody>\n",
       "</table>\n",
       "</div>"
      ],
      "text/plain": [
       "   sepal_length  sepal_width  petal_length  petal_width\n",
       "0           5.1          3.5           1.4          0.2\n",
       "1           4.9          3.0           1.4          0.2\n",
       "2           4.7          3.2           1.3          0.2\n",
       "3           4.6          3.1           1.5          0.2\n",
       "4           5.0          3.6           1.4          0.2"
      ]
     },
     "execution_count": 144,
     "metadata": {},
     "output_type": "execute_result"
    }
   ],
   "source": [
    "# Remove the \"class\" column\n",
    "x = idf.drop('class', axis=1)\n",
    "x.head()"
   ]
  },
  {
   "cell_type": "markdown",
   "metadata": {},
   "source": [
    "**Example of PCA without Standarization**"
   ]
  },
  {
   "cell_type": "markdown",
   "metadata": {},
   "source": [
    "For this task, we will use the PCA package from sklearn.(3)"
   ]
  },
  {
   "cell_type": "code",
   "execution_count": 145,
   "metadata": {},
   "outputs": [
    {
     "data": {
      "text/html": [
       "<style>#sk-container-id-8 {color: black;background-color: white;}#sk-container-id-8 pre{padding: 0;}#sk-container-id-8 div.sk-toggleable {background-color: white;}#sk-container-id-8 label.sk-toggleable__label {cursor: pointer;display: block;width: 100%;margin-bottom: 0;padding: 0.3em;box-sizing: border-box;text-align: center;}#sk-container-id-8 label.sk-toggleable__label-arrow:before {content: \"▸\";float: left;margin-right: 0.25em;color: #696969;}#sk-container-id-8 label.sk-toggleable__label-arrow:hover:before {color: black;}#sk-container-id-8 div.sk-estimator:hover label.sk-toggleable__label-arrow:before {color: black;}#sk-container-id-8 div.sk-toggleable__content {max-height: 0;max-width: 0;overflow: hidden;text-align: left;background-color: #f0f8ff;}#sk-container-id-8 div.sk-toggleable__content pre {margin: 0.2em;color: black;border-radius: 0.25em;background-color: #f0f8ff;}#sk-container-id-8 input.sk-toggleable__control:checked~div.sk-toggleable__content {max-height: 200px;max-width: 100%;overflow: auto;}#sk-container-id-8 input.sk-toggleable__control:checked~label.sk-toggleable__label-arrow:before {content: \"▾\";}#sk-container-id-8 div.sk-estimator input.sk-toggleable__control:checked~label.sk-toggleable__label {background-color: #d4ebff;}#sk-container-id-8 div.sk-label input.sk-toggleable__control:checked~label.sk-toggleable__label {background-color: #d4ebff;}#sk-container-id-8 input.sk-hidden--visually {border: 0;clip: rect(1px 1px 1px 1px);clip: rect(1px, 1px, 1px, 1px);height: 1px;margin: -1px;overflow: hidden;padding: 0;position: absolute;width: 1px;}#sk-container-id-8 div.sk-estimator {font-family: monospace;background-color: #f0f8ff;border: 1px dotted black;border-radius: 0.25em;box-sizing: border-box;margin-bottom: 0.5em;}#sk-container-id-8 div.sk-estimator:hover {background-color: #d4ebff;}#sk-container-id-8 div.sk-parallel-item::after {content: \"\";width: 100%;border-bottom: 1px solid gray;flex-grow: 1;}#sk-container-id-8 div.sk-label:hover label.sk-toggleable__label {background-color: #d4ebff;}#sk-container-id-8 div.sk-serial::before {content: \"\";position: absolute;border-left: 1px solid gray;box-sizing: border-box;top: 0;bottom: 0;left: 50%;z-index: 0;}#sk-container-id-8 div.sk-serial {display: flex;flex-direction: column;align-items: center;background-color: white;padding-right: 0.2em;padding-left: 0.2em;position: relative;}#sk-container-id-8 div.sk-item {position: relative;z-index: 1;}#sk-container-id-8 div.sk-parallel {display: flex;align-items: stretch;justify-content: center;background-color: white;position: relative;}#sk-container-id-8 div.sk-item::before, #sk-container-id-8 div.sk-parallel-item::before {content: \"\";position: absolute;border-left: 1px solid gray;box-sizing: border-box;top: 0;bottom: 0;left: 50%;z-index: -1;}#sk-container-id-8 div.sk-parallel-item {display: flex;flex-direction: column;z-index: 1;position: relative;background-color: white;}#sk-container-id-8 div.sk-parallel-item:first-child::after {align-self: flex-end;width: 50%;}#sk-container-id-8 div.sk-parallel-item:last-child::after {align-self: flex-start;width: 50%;}#sk-container-id-8 div.sk-parallel-item:only-child::after {width: 0;}#sk-container-id-8 div.sk-dashed-wrapped {border: 1px dashed gray;margin: 0 0.4em 0.5em 0.4em;box-sizing: border-box;padding-bottom: 0.4em;background-color: white;}#sk-container-id-8 div.sk-label label {font-family: monospace;font-weight: bold;display: inline-block;line-height: 1.2em;}#sk-container-id-8 div.sk-label-container {text-align: center;}#sk-container-id-8 div.sk-container {/* jupyter's `normalize.less` sets `[hidden] { display: none; }` but bootstrap.min.css set `[hidden] { display: none !important; }` so we also need the `!important` here to be able to override the default hidden behavior on the sphinx rendered scikit-learn.org. See: https://github.com/scikit-learn/scikit-learn/issues/21755 */display: inline-block !important;position: relative;}#sk-container-id-8 div.sk-text-repr-fallback {display: none;}</style><div id=\"sk-container-id-8\" class=\"sk-top-container\"><div class=\"sk-text-repr-fallback\"><pre>PCA(n_components=2)</pre><b>In a Jupyter environment, please rerun this cell to show the HTML representation or trust the notebook. <br />On GitHub, the HTML representation is unable to render, please try loading this page with nbviewer.org.</b></div><div class=\"sk-container\" hidden><div class=\"sk-item\"><div class=\"sk-estimator sk-toggleable\"><input class=\"sk-toggleable__control sk-hidden--visually\" id=\"sk-estimator-id-8\" type=\"checkbox\" checked><label for=\"sk-estimator-id-8\" class=\"sk-toggleable__label sk-toggleable__label-arrow\">PCA</label><div class=\"sk-toggleable__content\"><pre>PCA(n_components=2)</pre></div></div></div></div></div>"
      ],
      "text/plain": [
       "PCA(n_components=2)"
      ]
     },
     "execution_count": 145,
     "metadata": {},
     "output_type": "execute_result"
    }
   ],
   "source": [
    "# Create a new PCA\n",
    "pca = dec.PCA(n_components=2) # number of components required in the output\n",
    "\n",
    "# Fit the data to the pca\n",
    "pca.fit(x)"
   ]
  },
  {
   "cell_type": "code",
   "execution_count": 146,
   "metadata": {},
   "outputs": [
    {
     "data": {
      "text/plain": [
       "array([0.92461621, 0.05301557])"
      ]
     },
     "execution_count": 146,
     "metadata": {},
     "output_type": "execute_result"
    }
   ],
   "source": [
    "# show variablity\n",
    "pca.explained_variance_ratio_"
   ]
  },
  {
   "cell_type": "markdown",
   "metadata": {},
   "source": [
    "The result of this array([0.92461621, 0.05301557]) explains variance ratios of the principal components in a PCA analysis. Each value in this array represents the proportion of the total variance in the original data that is explained by each respective principal component.\n",
    "\n",
    "In this case:\n",
    "\n",
    "- The first value, 0.92461621, indicates that the first principal component explains approximately 92.46% of the total variance in the dataset. This is a substantial amount of variance and suggests that the first principal component captures most of the information in the data.\n",
    "\n",
    "- The second value, 0.05301557, represents that the second principal component explains approximately 5.30% of the total variance. While this is a smaller proportion compared to the first component, it still contributes some information, but significantly less than the first component."
   ]
  },
  {
   "cell_type": "markdown",
   "metadata": {},
   "source": [
    "The transform() function in PCA converts data into a lower-dimensional representation using principal components. It reduces dimensionality while preserving key information, making it useful for data analysis and machine learning tasks.(4)"
   ]
  },
  {
   "cell_type": "code",
   "execution_count": 171,
   "metadata": {},
   "outputs": [
    {
     "name": "stderr",
     "output_type": "stream",
     "text": [
      "c:\\Users\\ROB\\anaconda3\\lib\\site-packages\\sklearn\\base.py:409: UserWarning: X does not have valid feature names, but PCA was fitted with feature names\n",
      "  warnings.warn(\n"
     ]
    },
    {
     "data": {
      "text/plain": [
       "array([[-2.26454173e+00,  5.05703903e-01],\n",
       "       [-2.08642550e+00, -6.55404729e-01],\n",
       "       [-2.36795045e+00, -3.18477311e-01],\n",
       "       [-2.30419716e+00, -5.75367713e-01],\n",
       "       [-2.38877749e+00,  6.74767397e-01],\n",
       "       [-2.07053681e+00,  1.51854856e+00],\n",
       "       [-2.44571134e+00,  7.45626750e-02],\n",
       "       [-2.23384186e+00,  2.47613932e-01],\n",
       "       [-2.34195768e+00, -1.09514636e+00],\n",
       "       [-2.18867576e+00, -4.48629048e-01],\n",
       "       [-2.16348656e+00,  1.07059558e+00],\n",
       "       [-2.32737775e+00,  1.58587455e-01],\n",
       "       [-2.22408272e+00, -7.09118158e-01],\n",
       "       [-2.63971626e+00, -9.38281982e-01],\n",
       "       [-2.19229151e+00,  1.88997851e+00],\n",
       "       [-2.25146521e+00,  2.72237108e+00],\n",
       "       [-2.20275048e+00,  1.51375028e+00],\n",
       "       [-2.19017916e+00,  5.14304308e-01],\n",
       "       [-1.89407429e+00,  1.43111071e+00],\n",
       "       [-2.33994907e+00,  1.15803343e+00],\n",
       "       [-1.91455639e+00,  4.30465163e-01],\n",
       "       [-2.20464540e+00,  9.52457317e-01],\n",
       "       [-2.77416979e+00,  4.89517027e-01],\n",
       "       [-1.82041156e+00,  1.06750793e-01],\n",
       "       [-2.22821750e+00,  1.62186163e-01],\n",
       "       [-1.95702401e+00, -6.07892567e-01],\n",
       "       [-2.05206331e+00,  2.66014312e-01],\n",
       "       [-2.16819365e+00,  5.52016495e-01],\n",
       "       [-2.14030596e+00,  3.36640409e-01],\n",
       "       [-2.26879019e+00, -3.14878603e-01],\n",
       "       [-2.14455443e+00, -4.83942097e-01],\n",
       "       [-1.83193810e+00,  4.45266836e-01],\n",
       "       [-2.60820287e+00,  1.82847519e+00],\n",
       "       [-2.43795086e+00,  2.18539162e+00],\n",
       "       [-2.18867576e+00, -4.48629048e-01],\n",
       "       [-2.21111990e+00, -1.84337811e-01],\n",
       "       [-2.04441652e+00,  6.84956426e-01],\n",
       "       [-2.18867576e+00, -4.48629048e-01],\n",
       "       [-2.43595220e+00, -8.82169415e-01],\n",
       "       [-2.17054720e+00,  2.92726955e-01],\n",
       "       [-2.28652724e+00,  4.67991716e-01],\n",
       "       [-1.87170722e+00, -2.32769161e+00],\n",
       "       [-2.55783442e+00, -4.53816380e-01],\n",
       "       [-1.96427929e+00,  4.97391640e-01],\n",
       "       [-2.13337283e+00,  1.17143211e+00],\n",
       "       [-2.07535759e+00, -6.91917347e-01],\n",
       "       [-2.38125822e+00,  1.15063259e+00],\n",
       "       [-2.39819169e+00, -3.62390765e-01],\n",
       "       [-2.22678121e+00,  1.02548255e+00],\n",
       "       [-2.20595417e+00,  3.22378453e-02],\n",
       "       [ 1.10399365e+00,  8.63112446e-01],\n",
       "       [ 7.32481440e-01,  5.98635573e-01],\n",
       "       [ 1.24210951e+00,  6.14822450e-01],\n",
       "       [ 3.97307283e-01, -1.75816895e+00],\n",
       "       [ 1.07259395e+00, -2.11757903e-01],\n",
       "       [ 3.84458146e-01, -5.91062469e-01],\n",
       "       [ 7.48715076e-01,  7.78698611e-01],\n",
       "       [-4.97863388e-01, -1.84886877e+00],\n",
       "       [ 9.26222368e-01,  3.03308268e-02],\n",
       "       [ 4.96802558e-03, -1.02940111e+00],\n",
       "       [-1.24697461e-01, -2.65806268e+00],\n",
       "       [ 4.38730118e-01, -5.88812850e-02],\n",
       "       [ 5.51633981e-01, -1.77258156e+00],\n",
       "       [ 7.17165066e-01, -1.85434315e-01],\n",
       "       [-3.72583830e-02, -4.32795099e-01],\n",
       "       [ 8.75890536e-01,  5.09998151e-01],\n",
       "       [ 3.48006402e-01, -1.90621647e-01],\n",
       "       [ 1.53392545e-01, -7.90725456e-01],\n",
       "       [ 1.21530321e+00, -1.63335564e+00],\n",
       "       [ 1.56941176e-01, -1.30310327e+00],\n",
       "       [ 7.38256104e-01,  4.02470382e-01],\n",
       "       [ 4.72369682e-01, -4.16608222e-01],\n",
       "       [ 1.22798821e+00, -9.40914793e-01],\n",
       "       [ 6.29381045e-01, -4.16811643e-01],\n",
       "       [ 7.00472799e-01, -6.34939277e-02],\n",
       "       [ 8.73536987e-01,  2.50708611e-01],\n",
       "       [ 1.25422219e+00, -8.26200998e-02],\n",
       "       [ 1.35823985e+00,  3.28820266e-01],\n",
       "       [ 6.62126138e-01, -2.24346071e-01],\n",
       "       [-4.72815133e-02, -1.05721241e+00],\n",
       "       [ 1.21534209e-01, -1.56359238e+00],\n",
       "       [ 1.41182261e-02, -1.57339235e+00],\n",
       "       [ 2.36010837e-01, -7.75923784e-01],\n",
       "       [ 1.05669143e+00, -6.36901284e-01],\n",
       "       [ 2.21417088e-01, -2.80847693e-01],\n",
       "       [ 4.31783161e-01,  8.55136920e-01],\n",
       "       [ 1.04941336e+00,  5.22197265e-01],\n",
       "       [ 1.03587821e+00, -1.39246648e+00],\n",
       "       [ 6.70675999e-02, -2.12620735e-01],\n",
       "       [ 2.75425066e-01, -1.32981591e+00],\n",
       "       [ 2.72335066e-01, -1.11944152e+00],\n",
       "       [ 6.23170540e-01,  2.75426333e-02],\n",
       "       [ 3.30005364e-01, -9.88900732e-01],\n",
       "       [-3.73627623e-01, -2.01793227e+00],\n",
       "       [ 2.82944343e-01, -8.53950717e-01],\n",
       "       [ 8.90531103e-02, -1.74908548e-01],\n",
       "       [ 2.24356783e-01, -3.80484659e-01],\n",
       "       [ 5.73883486e-01, -1.53719974e-01],\n",
       "       [-4.57012873e-01, -1.53946451e+00],\n",
       "       [ 2.52244473e-01, -5.95860746e-01],\n",
       "       [ 1.84767259e+00,  8.71696662e-01],\n",
       "       [ 1.15318981e+00, -7.01326114e-01],\n",
       "       [ 2.20634950e+00,  5.54470105e-01],\n",
       "       [ 1.43868540e+00, -5.00105223e-02],\n",
       "       [ 1.86789070e+00,  2.91192802e-01],\n",
       "       [ 2.75419671e+00,  7.88432206e-01],\n",
       "       [ 3.58374475e-01, -1.56009458e+00],\n",
       "       [ 2.30300590e+00,  4.09516695e-01],\n",
       "       [ 2.00173530e+00, -7.23865359e-01],\n",
       "       [ 2.26755460e+00,  1.92144299e+00],\n",
       "       [ 1.36590943e+00,  6.93948040e-01],\n",
       "       [ 1.59906459e+00, -4.28248836e-01],\n",
       "       [ 1.88425185e+00,  4.14332758e-01],\n",
       "       [ 1.25308651e+00, -1.16739134e+00],\n",
       "       [ 1.46406152e+00, -4.44147569e-01],\n",
       "       [ 1.59180930e+00,  6.77035372e-01],\n",
       "       [ 1.47128019e+00,  2.53192472e-01],\n",
       "       [ 2.43737848e+00,  2.55675734e+00],\n",
       "       [ 3.30914118e+00, -2.36132010e-03],\n",
       "       [ 1.25398099e+00, -1.71758384e+00],\n",
       "       [ 2.04049626e+00,  9.07398765e-01],\n",
       "       [ 9.73915114e-01, -5.71174376e-01],\n",
       "       [ 2.89806444e+00,  3.97791359e-01],\n",
       "       [ 1.32919369e+00, -4.86760542e-01],\n",
       "       [ 1.70424071e+00,  1.01414842e+00],\n",
       "       [ 1.95772766e+00,  1.00333452e+00],\n",
       "       [ 1.17190451e+00, -3.18896617e-01],\n",
       "       [ 1.01978105e+00,  6.55429631e-02],\n",
       "       [ 1.78600886e+00, -1.93272800e-01],\n",
       "       [ 1.86477791e+00,  5.55381532e-01],\n",
       "       [ 2.43549739e+00,  2.46654468e-01],\n",
       "       [ 2.31608241e+00,  2.62618387e+00],\n",
       "       [ 1.86037143e+00, -1.84672394e-01],\n",
       "       [ 1.11127173e+00, -2.95986102e-01],\n",
       "       [ 1.19746916e+00, -8.17167742e-01],\n",
       "       [ 2.80094940e+00,  8.44748194e-01],\n",
       "       [ 1.58015525e+00,  1.07247450e+00],\n",
       "       [ 1.34704442e+00,  4.22255966e-01],\n",
       "       [ 9.23432978e-01,  1.92303705e-02],\n",
       "       [ 1.85355198e+00,  6.72422729e-01],\n",
       "       [ 2.01615720e+00,  6.10397038e-01],\n",
       "       [ 1.90311686e+00,  6.86024832e-01],\n",
       "       [ 1.15318981e+00, -7.01326114e-01],\n",
       "       [ 2.04330844e+00,  8.64684880e-01],\n",
       "       [ 2.00169097e+00,  1.04855005e+00],\n",
       "       [ 1.87052207e+00,  3.82821838e-01],\n",
       "       [ 1.55849189e+00, -9.05313601e-01],\n",
       "       [ 1.52084506e+00,  2.66794575e-01],\n",
       "       [ 1.37639119e+00,  1.01636193e+00],\n",
       "       [ 9.59298576e-01, -2.22839447e-02]])"
      ]
     },
     "execution_count": 171,
     "metadata": {},
     "output_type": "execute_result"
    }
   ],
   "source": [
    "# Transform x\n",
    "x_pca = pca.transform(x)\n",
    "x_pca"
   ]
  },
  {
   "cell_type": "markdown",
   "metadata": {},
   "source": [
    "Across the dataset, we can observe a big difference on the variances between components."
   ]
  },
  {
   "cell_type": "code",
   "execution_count": 148,
   "metadata": {},
   "outputs": [
    {
     "data": {
      "text/plain": [
       "<seaborn.axisgrid.PairGrid at 0x217b1acdaf0>"
      ]
     },
     "execution_count": 148,
     "metadata": {},
     "output_type": "execute_result"
    },
    {
     "data": {
      "image/png": "[encoded data removed]",
      "text/plain": [
       "<Figure size 360x360 with 6 Axes>"
      ]
     },
     "metadata": {
      "needs_background": "light"
     },
     "output_type": "display_data"
    }
   ],
   "source": [
    "# Array visualization\n",
    "x_pca_pd = pd.DataFrame(x_pca)\n",
    "sns.pairplot(x_pca_pd)"
   ]
  },
  {
   "cell_type": "markdown",
   "metadata": {},
   "source": [
    "From the scatter plot, we can observe that there is a clear difference between components. How does apply to the classes on the iris dataset? "
   ]
  },
  {
   "cell_type": "code",
   "execution_count": 149,
   "metadata": {},
   "outputs": [
    {
     "data": {
      "text/html": [
       "<div>\n",
       "<style scoped>\n",
       "    .dataframe tbody tr th:only-of-type {\n",
       "        vertical-align: middle;\n",
       "    }\n",
       "\n",
       "    .dataframe tbody tr th {\n",
       "        vertical-align: top;\n",
       "    }\n",
       "\n",
       "    .dataframe thead th {\n",
       "        text-align: right;\n",
       "    }\n",
       "</style>\n",
       "<table border=\"1\" class=\"dataframe\">\n",
       "  <thead>\n",
       "    <tr style=\"text-align: right;\">\n",
       "      <th></th>\n",
       "      <th>class</th>\n",
       "    </tr>\n",
       "  </thead>\n",
       "  <tbody>\n",
       "    <tr>\n",
       "      <th>0</th>\n",
       "      <td>setosa</td>\n",
       "    </tr>\n",
       "    <tr>\n",
       "      <th>1</th>\n",
       "      <td>setosa</td>\n",
       "    </tr>\n",
       "    <tr>\n",
       "      <th>2</th>\n",
       "      <td>setosa</td>\n",
       "    </tr>\n",
       "    <tr>\n",
       "      <th>3</th>\n",
       "      <td>setosa</td>\n",
       "    </tr>\n",
       "    <tr>\n",
       "      <th>4</th>\n",
       "      <td>setosa</td>\n",
       "    </tr>\n",
       "  </tbody>\n",
       "</table>\n",
       "</div>"
      ],
      "text/plain": [
       "    class\n",
       "0  setosa\n",
       "1  setosa\n",
       "2  setosa\n",
       "3  setosa\n",
       "4  setosa"
      ]
     },
     "execution_count": 149,
     "metadata": {},
     "output_type": "execute_result"
    }
   ],
   "source": [
    "# Create a new dataframe with the classes column\n",
    "idf_pca = pd.DataFrame(idf[[\"class\"]])\n",
    "idf_pca.head()"
   ]
  },
  {
   "cell_type": "code",
   "execution_count": 150,
   "metadata": {},
   "outputs": [
    {
     "data": {
      "text/html": [
       "<div>\n",
       "<style scoped>\n",
       "    .dataframe tbody tr th:only-of-type {\n",
       "        vertical-align: middle;\n",
       "    }\n",
       "\n",
       "    .dataframe tbody tr th {\n",
       "        vertical-align: top;\n",
       "    }\n",
       "\n",
       "    .dataframe thead th {\n",
       "        text-align: right;\n",
       "    }\n",
       "</style>\n",
       "<table border=\"1\" class=\"dataframe\">\n",
       "  <thead>\n",
       "    <tr style=\"text-align: right;\">\n",
       "      <th></th>\n",
       "      <th>class</th>\n",
       "      <th>pca0</th>\n",
       "      <th>pca1</th>\n",
       "    </tr>\n",
       "  </thead>\n",
       "  <tbody>\n",
       "    <tr>\n",
       "      <th>0</th>\n",
       "      <td>setosa</td>\n",
       "      <td>-2.684207</td>\n",
       "      <td>0.326607</td>\n",
       "    </tr>\n",
       "    <tr>\n",
       "      <th>1</th>\n",
       "      <td>setosa</td>\n",
       "      <td>-2.715391</td>\n",
       "      <td>-0.169557</td>\n",
       "    </tr>\n",
       "    <tr>\n",
       "      <th>2</th>\n",
       "      <td>setosa</td>\n",
       "      <td>-2.889820</td>\n",
       "      <td>-0.137346</td>\n",
       "    </tr>\n",
       "    <tr>\n",
       "      <th>3</th>\n",
       "      <td>setosa</td>\n",
       "      <td>-2.746437</td>\n",
       "      <td>-0.311124</td>\n",
       "    </tr>\n",
       "    <tr>\n",
       "      <th>4</th>\n",
       "      <td>setosa</td>\n",
       "      <td>-2.728593</td>\n",
       "      <td>0.333925</td>\n",
       "    </tr>\n",
       "  </tbody>\n",
       "</table>\n",
       "</div>"
      ],
      "text/plain": [
       "    class      pca0      pca1\n",
       "0  setosa -2.684207  0.326607\n",
       "1  setosa -2.715391 -0.169557\n",
       "2  setosa -2.889820 -0.137346\n",
       "3  setosa -2.746437 -0.311124\n",
       "4  setosa -2.728593  0.333925"
      ]
     },
     "execution_count": 150,
     "metadata": {},
     "output_type": "execute_result"
    }
   ],
   "source": [
    "# Add the results for each component done by the PCA\n",
    "idf_pca['pca0'] = x_pca[:,0]\n",
    "idf_pca['pca1'] = x_pca[:,1]\n",
    "idf_pca.head()"
   ]
  },
  {
   "cell_type": "code",
   "execution_count": 151,
   "metadata": {},
   "outputs": [
    {
     "data": {
      "text/plain": [
       "<seaborn.axisgrid.PairGrid at 0x217b97e1dc0>"
      ]
     },
     "execution_count": 151,
     "metadata": {},
     "output_type": "execute_result"
    },
    {
     "data": {
      "image/png": "[encoded data removed]",
      "text/plain": [
       "<Figure size 444.75x360 with 6 Axes>"
      ]
     },
     "metadata": {
      "needs_background": "light"
     },
     "output_type": "display_data"
    }
   ],
   "source": [
    "# Visualization\n",
    "sns.pairplot(idf_pca,hue='class')"
   ]
  },
  {
   "cell_type": "markdown",
   "metadata": {},
   "source": [
    "Without standarization, we can observe that:\n",
    "- For the setosa class, both components are easy to differentiate. \n",
    "- For the versicolor and virginica class, both components overlap. Making the classes more difficult to differentiate which, in order to apply a machine learning algorithm, it may be a problem."
   ]
  },
  {
   "cell_type": "markdown",
   "metadata": {},
   "source": [
    "Will the standarization help to prevent this issue? "
   ]
  },
  {
   "cell_type": "markdown",
   "metadata": {},
   "source": [
    "**After standarization**"
   ]
  },
  {
   "cell_type": "markdown",
   "metadata": {},
   "source": [
    "We will use the standarize feature provided by Sklearn.(5)"
   ]
  },
  {
   "cell_type": "code",
   "execution_count": 152,
   "metadata": {},
   "outputs": [
    {
     "data": {
      "text/html": [
       "<style>#sk-container-id-9 {color: black;background-color: white;}#sk-container-id-9 pre{padding: 0;}#sk-container-id-9 div.sk-toggleable {background-color: white;}#sk-container-id-9 label.sk-toggleable__label {cursor: pointer;display: block;width: 100%;margin-bottom: 0;padding: 0.3em;box-sizing: border-box;text-align: center;}#sk-container-id-9 label.sk-toggleable__label-arrow:before {content: \"▸\";float: left;margin-right: 0.25em;color: #696969;}#sk-container-id-9 label.sk-toggleable__label-arrow:hover:before {color: black;}#sk-container-id-9 div.sk-estimator:hover label.sk-toggleable__label-arrow:before {color: black;}#sk-container-id-9 div.sk-toggleable__content {max-height: 0;max-width: 0;overflow: hidden;text-align: left;background-color: #f0f8ff;}#sk-container-id-9 div.sk-toggleable__content pre {margin: 0.2em;color: black;border-radius: 0.25em;background-color: #f0f8ff;}#sk-container-id-9 input.sk-toggleable__control:checked~div.sk-toggleable__content {max-height: 200px;max-width: 100%;overflow: auto;}#sk-container-id-9 input.sk-toggleable__control:checked~label.sk-toggleable__label-arrow:before {content: \"▾\";}#sk-container-id-9 div.sk-estimator input.sk-toggleable__control:checked~label.sk-toggleable__label {background-color: #d4ebff;}#sk-container-id-9 div.sk-label input.sk-toggleable__control:checked~label.sk-toggleable__label {background-color: #d4ebff;}#sk-container-id-9 input.sk-hidden--visually {border: 0;clip: rect(1px 1px 1px 1px);clip: rect(1px, 1px, 1px, 1px);height: 1px;margin: -1px;overflow: hidden;padding: 0;position: absolute;width: 1px;}#sk-container-id-9 div.sk-estimator {font-family: monospace;background-color: #f0f8ff;border: 1px dotted black;border-radius: 0.25em;box-sizing: border-box;margin-bottom: 0.5em;}#sk-container-id-9 div.sk-estimator:hover {background-color: #d4ebff;}#sk-container-id-9 div.sk-parallel-item::after {content: \"\";width: 100%;border-bottom: 1px solid gray;flex-grow: 1;}#sk-container-id-9 div.sk-label:hover label.sk-toggleable__label {background-color: #d4ebff;}#sk-container-id-9 div.sk-serial::before {content: \"\";position: absolute;border-left: 1px solid gray;box-sizing: border-box;top: 0;bottom: 0;left: 50%;z-index: 0;}#sk-container-id-9 div.sk-serial {display: flex;flex-direction: column;align-items: center;background-color: white;padding-right: 0.2em;padding-left: 0.2em;position: relative;}#sk-container-id-9 div.sk-item {position: relative;z-index: 1;}#sk-container-id-9 div.sk-parallel {display: flex;align-items: stretch;justify-content: center;background-color: white;position: relative;}#sk-container-id-9 div.sk-item::before, #sk-container-id-9 div.sk-parallel-item::before {content: \"\";position: absolute;border-left: 1px solid gray;box-sizing: border-box;top: 0;bottom: 0;left: 50%;z-index: -1;}#sk-container-id-9 div.sk-parallel-item {display: flex;flex-direction: column;z-index: 1;position: relative;background-color: white;}#sk-container-id-9 div.sk-parallel-item:first-child::after {align-self: flex-end;width: 50%;}#sk-container-id-9 div.sk-parallel-item:last-child::after {align-self: flex-start;width: 50%;}#sk-container-id-9 div.sk-parallel-item:only-child::after {width: 0;}#sk-container-id-9 div.sk-dashed-wrapped {border: 1px dashed gray;margin: 0 0.4em 0.5em 0.4em;box-sizing: border-box;padding-bottom: 0.4em;background-color: white;}#sk-container-id-9 div.sk-label label {font-family: monospace;font-weight: bold;display: inline-block;line-height: 1.2em;}#sk-container-id-9 div.sk-label-container {text-align: center;}#sk-container-id-9 div.sk-container {/* jupyter's `normalize.less` sets `[hidden] { display: none; }` but bootstrap.min.css set `[hidden] { display: none !important; }` so we also need the `!important` here to be able to override the default hidden behavior on the sphinx rendered scikit-learn.org. See: https://github.com/scikit-learn/scikit-learn/issues/21755 */display: inline-block !important;position: relative;}#sk-container-id-9 div.sk-text-repr-fallback {display: none;}</style><div id=\"sk-container-id-9\" class=\"sk-top-container\"><div class=\"sk-text-repr-fallback\"><pre>StandardScaler()</pre><b>In a Jupyter environment, please rerun this cell to show the HTML representation or trust the notebook. <br />On GitHub, the HTML representation is unable to render, please try loading this page with nbviewer.org.</b></div><div class=\"sk-container\" hidden><div class=\"sk-item\"><div class=\"sk-estimator sk-toggleable\"><input class=\"sk-toggleable__control sk-hidden--visually\" id=\"sk-estimator-id-9\" type=\"checkbox\" checked><label for=\"sk-estimator-id-9\" class=\"sk-toggleable__label sk-toggleable__label-arrow\">StandardScaler</label><div class=\"sk-toggleable__content\"><pre>StandardScaler()</pre></div></div></div></div></div>"
      ],
      "text/plain": [
       "StandardScaler()"
      ]
     },
     "execution_count": 152,
     "metadata": {},
     "output_type": "execute_result"
    }
   ],
   "source": [
    "# Create a standard scaler.\n",
    "scaler = pre.StandardScaler()\n",
    "\n",
    "# Fit the data to the scaler.\n",
    "scaler.fit(x)"
   ]
  },
  {
   "cell_type": "code",
   "execution_count": 153,
   "metadata": {},
   "outputs": [
    {
     "data": {
      "text/plain": [
       "(array([5.84333333, 3.054     , 3.75866667, 1.19866667]),\n",
       " array([0.68112222, 0.18675067, 3.09242489, 0.57853156]))"
      ]
     },
     "execution_count": 153,
     "metadata": {},
     "output_type": "execute_result"
    }
   ],
   "source": [
    "# Show the means and variances.\n",
    "scaler.mean_, scaler.var_"
   ]
  },
  {
   "cell_type": "markdown",
   "metadata": {},
   "source": [
    "After standardization, the means of all features are centered around zero, and the variances are equalized to approximately 1. "
   ]
  },
  {
   "cell_type": "code",
   "execution_count": 154,
   "metadata": {},
   "outputs": [
    {
     "data": {
      "text/html": [
       "<div>\n",
       "<style scoped>\n",
       "    .dataframe tbody tr th:only-of-type {\n",
       "        vertical-align: middle;\n",
       "    }\n",
       "\n",
       "    .dataframe tbody tr th {\n",
       "        vertical-align: top;\n",
       "    }\n",
       "\n",
       "    .dataframe thead th {\n",
       "        text-align: right;\n",
       "    }\n",
       "</style>\n",
       "<table border=\"1\" class=\"dataframe\">\n",
       "  <thead>\n",
       "    <tr style=\"text-align: right;\">\n",
       "      <th></th>\n",
       "      <th>sepal_length</th>\n",
       "      <th>sepal_width</th>\n",
       "      <th>petal_length</th>\n",
       "      <th>petal_width</th>\n",
       "    </tr>\n",
       "  </thead>\n",
       "  <tbody>\n",
       "    <tr>\n",
       "      <th>count</th>\n",
       "      <td>150.000000</td>\n",
       "      <td>150.000000</td>\n",
       "      <td>150.000000</td>\n",
       "      <td>150.000000</td>\n",
       "    </tr>\n",
       "    <tr>\n",
       "      <th>mean</th>\n",
       "      <td>5.843333</td>\n",
       "      <td>3.054000</td>\n",
       "      <td>3.758667</td>\n",
       "      <td>1.198667</td>\n",
       "    </tr>\n",
       "    <tr>\n",
       "      <th>std</th>\n",
       "      <td>0.828066</td>\n",
       "      <td>0.433594</td>\n",
       "      <td>1.764420</td>\n",
       "      <td>0.763161</td>\n",
       "    </tr>\n",
       "    <tr>\n",
       "      <th>min</th>\n",
       "      <td>4.300000</td>\n",
       "      <td>2.000000</td>\n",
       "      <td>1.000000</td>\n",
       "      <td>0.100000</td>\n",
       "    </tr>\n",
       "    <tr>\n",
       "      <th>25%</th>\n",
       "      <td>5.100000</td>\n",
       "      <td>2.800000</td>\n",
       "      <td>1.600000</td>\n",
       "      <td>0.300000</td>\n",
       "    </tr>\n",
       "    <tr>\n",
       "      <th>50%</th>\n",
       "      <td>5.800000</td>\n",
       "      <td>3.000000</td>\n",
       "      <td>4.350000</td>\n",
       "      <td>1.300000</td>\n",
       "    </tr>\n",
       "    <tr>\n",
       "      <th>75%</th>\n",
       "      <td>6.400000</td>\n",
       "      <td>3.300000</td>\n",
       "      <td>5.100000</td>\n",
       "      <td>1.800000</td>\n",
       "    </tr>\n",
       "    <tr>\n",
       "      <th>max</th>\n",
       "      <td>7.900000</td>\n",
       "      <td>4.400000</td>\n",
       "      <td>6.900000</td>\n",
       "      <td>2.500000</td>\n",
       "    </tr>\n",
       "  </tbody>\n",
       "</table>\n",
       "</div>"
      ],
      "text/plain": [
       "       sepal_length  sepal_width  petal_length  petal_width\n",
       "count    150.000000   150.000000    150.000000   150.000000\n",
       "mean       5.843333     3.054000      3.758667     1.198667\n",
       "std        0.828066     0.433594      1.764420     0.763161\n",
       "min        4.300000     2.000000      1.000000     0.100000\n",
       "25%        5.100000     2.800000      1.600000     0.300000\n",
       "50%        5.800000     3.000000      4.350000     1.300000\n",
       "75%        6.400000     3.300000      5.100000     1.800000\n",
       "max        7.900000     4.400000      6.900000     2.500000"
      ]
     },
     "execution_count": 154,
     "metadata": {},
     "output_type": "execute_result"
    }
   ],
   "source": [
    "x.describe()"
   ]
  },
  {
   "cell_type": "markdown",
   "metadata": {},
   "source": [
    "Now, we follow the same steps as before to transform the dataframe."
   ]
  },
  {
   "cell_type": "code",
   "execution_count": 155,
   "metadata": {},
   "outputs": [
    {
     "data": {
      "text/html": [
       "<div>\n",
       "<style scoped>\n",
       "    .dataframe tbody tr th:only-of-type {\n",
       "        vertical-align: middle;\n",
       "    }\n",
       "\n",
       "    .dataframe tbody tr th {\n",
       "        vertical-align: top;\n",
       "    }\n",
       "\n",
       "    .dataframe thead th {\n",
       "        text-align: right;\n",
       "    }\n",
       "</style>\n",
       "<table border=\"1\" class=\"dataframe\">\n",
       "  <thead>\n",
       "    <tr style=\"text-align: right;\">\n",
       "      <th></th>\n",
       "      <th>sepal_length</th>\n",
       "      <th>sepal_width</th>\n",
       "      <th>petal_length</th>\n",
       "      <th>petal_width</th>\n",
       "    </tr>\n",
       "  </thead>\n",
       "  <tbody>\n",
       "    <tr>\n",
       "      <th>0</th>\n",
       "      <td>-0.900681</td>\n",
       "      <td>1.032057</td>\n",
       "      <td>-1.341272</td>\n",
       "      <td>-1.312977</td>\n",
       "    </tr>\n",
       "    <tr>\n",
       "      <th>1</th>\n",
       "      <td>-1.143017</td>\n",
       "      <td>-0.124958</td>\n",
       "      <td>-1.341272</td>\n",
       "      <td>-1.312977</td>\n",
       "    </tr>\n",
       "    <tr>\n",
       "      <th>2</th>\n",
       "      <td>-1.385353</td>\n",
       "      <td>0.337848</td>\n",
       "      <td>-1.398138</td>\n",
       "      <td>-1.312977</td>\n",
       "    </tr>\n",
       "    <tr>\n",
       "      <th>3</th>\n",
       "      <td>-1.506521</td>\n",
       "      <td>0.106445</td>\n",
       "      <td>-1.284407</td>\n",
       "      <td>-1.312977</td>\n",
       "    </tr>\n",
       "    <tr>\n",
       "      <th>4</th>\n",
       "      <td>-1.021849</td>\n",
       "      <td>1.263460</td>\n",
       "      <td>-1.341272</td>\n",
       "      <td>-1.312977</td>\n",
       "    </tr>\n",
       "  </tbody>\n",
       "</table>\n",
       "</div>"
      ],
      "text/plain": [
       "   sepal_length  sepal_width  petal_length  petal_width\n",
       "0     -0.900681     1.032057     -1.341272    -1.312977\n",
       "1     -1.143017    -0.124958     -1.341272    -1.312977\n",
       "2     -1.385353     0.337848     -1.398138    -1.312977\n",
       "3     -1.506521     0.106445     -1.284407    -1.312977\n",
       "4     -1.021849     1.263460     -1.341272    -1.312977"
      ]
     },
     "execution_count": 155,
     "metadata": {},
     "output_type": "execute_result"
    }
   ],
   "source": [
    "# Transform new x array.\n",
    "X_transformed = scaler.transform(x)\n",
    "\n",
    "# Re-create data frame.\n",
    "df_X_trans = pd.DataFrame(X_transformed, columns=x.columns)\n",
    "\n",
    "# Show.\n",
    "df_X_trans.head()"
   ]
  },
  {
   "cell_type": "code",
   "execution_count": 156,
   "metadata": {},
   "outputs": [
    {
     "data": {
      "text/html": [
       "<div>\n",
       "<style scoped>\n",
       "    .dataframe tbody tr th:only-of-type {\n",
       "        vertical-align: middle;\n",
       "    }\n",
       "\n",
       "    .dataframe tbody tr th {\n",
       "        vertical-align: top;\n",
       "    }\n",
       "\n",
       "    .dataframe thead th {\n",
       "        text-align: right;\n",
       "    }\n",
       "</style>\n",
       "<table border=\"1\" class=\"dataframe\">\n",
       "  <thead>\n",
       "    <tr style=\"text-align: right;\">\n",
       "      <th></th>\n",
       "      <th>class</th>\n",
       "      <th>pca0</th>\n",
       "      <th>pca1</th>\n",
       "    </tr>\n",
       "  </thead>\n",
       "  <tbody>\n",
       "    <tr>\n",
       "      <th>0</th>\n",
       "      <td>setosa</td>\n",
       "      <td>-2.264542</td>\n",
       "      <td>0.505704</td>\n",
       "    </tr>\n",
       "    <tr>\n",
       "      <th>1</th>\n",
       "      <td>setosa</td>\n",
       "      <td>-2.086426</td>\n",
       "      <td>-0.655405</td>\n",
       "    </tr>\n",
       "    <tr>\n",
       "      <th>2</th>\n",
       "      <td>setosa</td>\n",
       "      <td>-2.367950</td>\n",
       "      <td>-0.318477</td>\n",
       "    </tr>\n",
       "    <tr>\n",
       "      <th>3</th>\n",
       "      <td>setosa</td>\n",
       "      <td>-2.304197</td>\n",
       "      <td>-0.575368</td>\n",
       "    </tr>\n",
       "    <tr>\n",
       "      <th>4</th>\n",
       "      <td>setosa</td>\n",
       "      <td>-2.388777</td>\n",
       "      <td>0.674767</td>\n",
       "    </tr>\n",
       "  </tbody>\n",
       "</table>\n",
       "</div>"
      ],
      "text/plain": [
       "    class      pca0      pca1\n",
       "0  setosa -2.264542  0.505704\n",
       "1  setosa -2.086426 -0.655405\n",
       "2  setosa -2.367950 -0.318477\n",
       "3  setosa -2.304197 -0.575368\n",
       "4  setosa -2.388777  0.674767"
      ]
     },
     "execution_count": 156,
     "metadata": {},
     "output_type": "execute_result"
    }
   ],
   "source": [
    "# Fit the data to the PCA\n",
    "pca.fit(df_X_trans)\n",
    "\n",
    "X_trans_pca = pca.transform(df_X_trans)\n",
    "\n",
    "df_trans_pca = pd.DataFrame(idf[[\"class\"]])\n",
    "\n",
    "df_trans_pca['pca0'] = X_trans_pca[:,0]\n",
    "df_trans_pca['pca1'] = X_trans_pca[:,1]\n",
    "\n",
    "# show principal component analysys after standardization\n",
    "df_trans_pca.head()"
   ]
  },
  {
   "cell_type": "code",
   "execution_count": 157,
   "metadata": {},
   "outputs": [
    {
     "data": {
      "text/plain": [
       "array([0.72770452, 0.23030523])"
      ]
     },
     "execution_count": 157,
     "metadata": {},
     "output_type": "execute_result"
    }
   ],
   "source": [
    "# Look at the variablity\n",
    "pca.explained_variance_ratio_"
   ]
  },
  {
   "cell_type": "markdown",
   "metadata": {},
   "source": [
    "With Standardization:\n",
    "\n",
    "- The first principal component explains approximately 72.77% of the total variance in the standardized data.\n",
    "- The second principal component explains approximately 23.03% of the total variance.\n",
    "\n",
    "Comparison:\n",
    "\n",
    "- In the case without standardization, the first principal component explains a significantly higher proportion of the variance compared to the second component.\n",
    "- With standardization, the explained variance by the first component is reduced, and the importance of the second component is enhanced.\n",
    "\n",
    "Standardization has the effect of reducing the impact of individual features' scales on the PCA results, making the contribution of each component more balanced."
   ]
  },
  {
   "cell_type": "code",
   "execution_count": 158,
   "metadata": {},
   "outputs": [
    {
     "data": {
      "text/plain": [
       "<seaborn.axisgrid.PairGrid at 0x217bb380fa0>"
      ]
     },
     "execution_count": 158,
     "metadata": {},
     "output_type": "execute_result"
    },
    {
     "data": {
      "image/png": "[encoded data removed]",
      "text/plain": [
       "<Figure size 444.75x360 with 6 Axes>"
      ]
     },
     "metadata": {
      "needs_background": "light"
     },
     "output_type": "display_data"
    }
   ],
   "source": [
    "# Visualization\n",
    "sns.pairplot(df_trans_pca, hue='class')"
   ]
  },
  {
   "cell_type": "markdown",
   "metadata": {},
   "source": [
    "After standardization, \n",
    "- we are still able to clearly separate the setosa class according to the 2 components, and  \n",
    "- there is still an overlap between versicolor and virginica indicating that 2 of the features have common dimensions in a certain range for both classes."
   ]
  },
  {
   "cell_type": "markdown",
   "metadata": {},
   "source": [
    "**Will a machine learning algorithm like k-nearest neighbors (KNN) be able to see the difference?**"
   ]
  },
  {
   "cell_type": "markdown",
   "metadata": {},
   "source": [
    "For this task, we will implement the KNN neighbors classifier from sklearn.(6)"
   ]
  },
  {
   "cell_type": "code",
   "execution_count": 159,
   "metadata": {},
   "outputs": [
    {
     "data": {
      "text/plain": [
       "array([0.96666667, 1.        , 0.93333333, 0.96666667, 1.        ])"
      ]
     },
     "execution_count": 159,
     "metadata": {},
     "output_type": "execute_result"
    }
   ],
   "source": [
    "# before scaling\n",
    "\n",
    "clf = sk.neighbors.KNeighborsClassifier()\n",
    "\n",
    "# x data\n",
    "x = x\n",
    "\n",
    "# y data\n",
    "y = idf[\"class\"].to_numpy()\n",
    "\n",
    "# train test split\n",
    "sk.model_selection.cross_val_score(clf, x, y)\n"
   ]
  },
  {
   "cell_type": "code",
   "execution_count": 160,
   "metadata": {},
   "outputs": [
    {
     "data": {
      "text/plain": [
       "array([0.96666667, 0.96666667, 0.93333333, 0.93333333, 1.        ])"
      ]
     },
     "execution_count": 160,
     "metadata": {},
     "output_type": "execute_result"
    }
   ],
   "source": [
    "# after scaling the data\n",
    "clf = sk.neighbors.KNeighborsClassifier()\n",
    "\n",
    "# x data\n",
    "x = X_transformed\n",
    "\n",
    "# y data\n",
    "y = idf[\"class\"].to_numpy()\n",
    "\n",
    "# train test split\n",
    "sk.model_selection.cross_val_score(clf, x, y)"
   ]
  },
  {
   "cell_type": "markdown",
   "metadata": {},
   "source": [
    "Before Scaling:\n",
    "\n",
    "- Cross-validation scores before scaling range from 0.9333 to 1.0. These scores indicate the accuracy of the KNN classifier when applied to the original, unstandardized data.\n",
    "- The variation in scores may be due to differences in feature scales since KNN is sensitive to the scales of features.\n",
    "- The highest score of 1.0 suggests that the classifier achieved perfect accuracy in at least one fold.\n",
    "\n",
    "After Scaling:\n",
    "\n",
    "- Cross-validation scores after scaling the data remain consistent, ranging from 0.9333 to 1.0.\n",
    "- Standardizing the data (scaling) didn't significantly change the model's performance in terms of cross-validation accuracy.\n",
    "- This suggests that, in this specific case, the KNN classifier may not be strongly affected by the differences in feature scales."
   ]
  },
  {
   "cell_type": "markdown",
   "metadata": {},
   "source": [
    "**Conclusion**\n",
    "\n",
    "In summary, the application of PCA to the Iris dataset serves to simplify the data, aid in visualization, identify crucial features, and potentially improve the performance of data analysis and machine learning tasks. This preprocessing step enhances our understanding of the dataset's structure and relationships.\n",
    "\n",
    "Upon reducing the dataset to two dimensions, we observe distinct differences between two components. However, regarding class separation, the differences are more pronounced in the setosa class, while virginica and versicolor exhibit some overlap, even after scaling. This overlap may pose challenges for machine learning algorithms.\n",
    "\n",
    "Interestingly, the evaluation of a K-nearest neighbors classifier before and after scaling the data reveals similar cross-validation accuracy. This suggests that feature scaling may not significantly impact the classifier's performance in this specific case. It implies that, despite the apparent overlap in class regions, machine learning algorithms may still achieve high predictive accuracy."
   ]
  },
  {
   "cell_type": "markdown",
   "metadata": {},
   "source": [
    "**REFERENCES**\n"
   ]
  },
  {
   "cell_type": "markdown",
   "metadata": {},
   "source": [
    "1. Principal Component Analysis(PCA): https://www.geeksforgeeks.org/principal-component-analysis-pca/  \n",
    "2. https://builtin.com/data-science/step-step-explanation-principal-component-analysis  \n",
    "3. PCA sklearn. https://scikit-learn.org/stable/modules/generated/sklearn.decomposition.PCA.html\n",
    "4. Transform method. https://scikit-learn.org/stable/modules/generated/sklearn.decomposition.PCA.html#sklearn.decomposition.PCA.transform  \n",
    "5. StandardScaler method. https://scikit-learn.org/stable/modules/generated/sklearn.preprocessing.StandardScaler.html  \n",
    "6. KNN classifier. https://scikit-learn.org/stable/modules/generated/sklearn.neighbors.KNeighborsClassifier.html  "
   ]
  }
 ],
 "metadata": {
  "kernelspec": {
   "display_name": "Python 3 (ipykernel)",
   "language": "python",
   "name": "python3"
  },
  "language_info": {
   "codemirror_mode": {
    "name": "ipython",
    "version": 3
   },
   "file_extension": ".py",
   "mimetype": "text/x-python",
   "name": "python",
   "nbconvert_exporter": "python",
   "pygments_lexer": "ipython3",
   "version": "3.9.7"
  }
 },
 "nbformat": 4,
 "nbformat_minor": 5
}
