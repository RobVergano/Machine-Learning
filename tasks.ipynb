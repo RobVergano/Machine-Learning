{
 "cells": [
  {
   "cell_type": "markdown",
   "id": "ec917671",
   "metadata": {},
   "source": [
    "# Machine Learning and Statistics Tasks\n",
    "\n",
    "***"
   ]
  },
  {
   "cell_type": "markdown",
   "id": "d0698893",
   "metadata": {},
   "source": [
    "Roberto Vergano"
   ]
  },
  {
   "cell_type": "markdown",
   "id": "4aa9cf88",
   "metadata": {},
   "source": [
    "## Task 1. The Newton´s method\n",
    "\n",
    "***"
   ]
  },
  {
   "cell_type": "markdown",
   "id": "0610eb90",
   "metadata": {},
   "source": [
    "Square roots are difficult to calculate. In Python, you typically use the power operator (a double asterisk) or a package such\n",
    "as math. In this task,(1) you should write a function sqrt(x) to approximate the square root of a floating point number x without\n",
    "using the power operator or a package.\n",
    "\n",
    "Rather, you should use the Newton’s method.(2) Start with an 2 Square Roots via Newton’s Method. initial guess for the square root called z0. You then repeatedly improve it using the following formula, until the difference between\n",
    "some previous guess zi and the next zi+1 is less than some threshold, say 0.01."
   ]
  },
  {
   "cell_type": "code",
   "execution_count": 4,
   "id": "cf73f4a6",
   "metadata": {},
   "outputs": [
    {
     "data": {
      "text/latex": [
       "$\\displaystyle z_{i+1} = z_i - \\frac{{z_i*z_i - x}}{{2z_i}}$"
      ],
      "text/plain": [
       "<IPython.core.display.Math object>"
      ]
     },
     "metadata": {},
     "output_type": "display_data"
    }
   ],
   "source": [
    "# For LaTex code:\n",
    "from IPython.display import display, Math\n",
    "latex_code = r\"z_{i+1} = z_i - \\frac{{z_i*z_i - x}}{{2z_i}}\"\n",
    "display(Math(latex_code))"
   ]
  },
  {
   "cell_type": "markdown",
   "id": "16d8ab94",
   "metadata": {},
   "source": [
    "Where: \n",
    "\n",
    "zi = current estimate or iteration in the sequence.  \n",
    "zi+1 = next estimate or iteration in the sequence.  \n",
    "x = constant or parameter.  "
   ]
  },
  {
   "cell_type": "markdown",
   "id": "a3fd6dc2",
   "metadata": {},
   "source": [
    "**How does the formula work?**"
   ]
  },
  {
   "cell_type": "markdown",
   "id": "e52c8979",
   "metadata": {},
   "source": [
    "1. Initial guess,z0\n",
    "2. Iteration. For each iteration (i), the formula computes zi+1 from the current estimate zi.\n",
    "3. Convergence. This iteration repeats until zi+1 is close enough to zi. This means that the process is repeated until the root of the equation is approached."
   ]
  },
  {
   "cell_type": "code",
   "execution_count": 5,
   "id": "c0376219",
   "metadata": {},
   "outputs": [
    {
     "name": "stdout",
     "output_type": "stream",
     "text": [
      "The square root of 25.0 is approximately 5.0\n"
     ]
    }
   ],
   "source": [
    "# Function \"get_positive_float\" avoids the use of negative numbers as an input for the formula.\n",
    "# Using a while loop, the function asks the user for a positive floating number.\n",
    "def get_positive_float():\n",
    "    while True:\n",
    "        try:\n",
    "            x = float(input(\"Enter a positive floating number: \"))\n",
    "            if x > 0:\n",
    "                return x\n",
    "            else:\n",
    "                print(\"That is not a positive floating number. Please try again.\")\n",
    "        except ValueError:\n",
    "            print(\"Invalid input. Please enter a valid floating-point number.\")\n",
    "\n",
    "# Funtion \"sqrt\" takes the input from the user to calculate the square root using the Newton formula.\n",
    "def sqrt(x):\n",
    "    # Initial guess\n",
    "    z = x / 4.0\n",
    "\n",
    "    # Iterative approximation using Newton method. \n",
    "    for i in range(100):\n",
    "        z = z - (((z*z) - x) / (2*z))\n",
    "\n",
    "    return z\n",
    "\n",
    "# Get a positive floating-point number from the user\n",
    "x = get_positive_float()\n",
    "\n",
    "# Calculate and print the square root\n",
    "result = sqrt(x)\n",
    "print(f\"The square root of {x} is approximately {result}\")\n"
   ]
  },
  {
   "cell_type": "markdown",
   "id": "dcf5cf07",
   "metadata": {},
   "source": [
    "References\n",
    "\n",
    "1. A Tour of Go. Aug. 18, 2023. url: https://go.dev/tour/flowcontrol/8 (visited on 08/18/2023).\n",
    "2. Square Roots via Newton’s Method. Feb. 4, 2015. url: https://math.mit.edu/~stevenj/18.335/newtonsqrt. pdf (visited on 08/18/2023).\n"
   ]
  },
  {
   "cell_type": "markdown",
   "id": "b7852b6c",
   "metadata": {},
   "source": [
    "## Task 2. Chi squared test\n",
    "\n",
    "***"
   ]
  },
  {
   "cell_type": "markdown",
   "id": "f3d2dc6a",
   "metadata": {},
   "source": [
    "Consider the below contingency table based on a survey asking respondents whether they prefer coffee or tea and whether they prefer plain or chocolate biscuits. Use scipy.stats to perform a chi-squared test to see whether there is any evidence of an association between drink preference and biscuit preference in this instance."
   ]
  },
  {
   "cell_type": "markdown",
   "id": "de9f7ed1",
   "metadata": {},
   "source": [
    "To create the dataframe:"
   ]
  },
  {
   "cell_type": "code",
   "execution_count": 6,
   "id": "102b7f82",
   "metadata": {},
   "outputs": [
    {
     "data": {
      "text/html": [
       "<style type=\"text/css\">\n",
       "#T_daa33_row0_col0, #T_daa33_row0_col1, #T_daa33_row1_col0, #T_daa33_row1_col1 {\n",
       "  border: 1px solid black;\n",
       "}\n",
       "</style>\n",
       "<table id=\"T_daa33_\">\n",
       "  <thead>\n",
       "    <tr>\n",
       "      <th class=\"blank level0\" >&nbsp;</th>\n",
       "      <th class=\"col_heading level0 col0\" >Chocolate</th>\n",
       "      <th class=\"col_heading level0 col1\" >Plain</th>\n",
       "    </tr>\n",
       "  </thead>\n",
       "  <tbody>\n",
       "    <tr>\n",
       "      <th id=\"T_daa33_level0_row0\" class=\"row_heading level0 row0\" >Coffee</th>\n",
       "      <td id=\"T_daa33_row0_col0\" class=\"data row0 col0\" >43</td>\n",
       "      <td id=\"T_daa33_row0_col1\" class=\"data row0 col1\" >57</td>\n",
       "    </tr>\n",
       "    <tr>\n",
       "      <th id=\"T_daa33_level0_row1\" class=\"row_heading level0 row1\" >Tea</th>\n",
       "      <td id=\"T_daa33_row1_col0\" class=\"data row1 col0\" >56</td>\n",
       "      <td id=\"T_daa33_row1_col1\" class=\"data row1 col1\" >45</td>\n",
       "    </tr>\n",
       "  </tbody>\n",
       "</table>\n"
      ],
      "text/plain": [
       "<pandas.io.formats.style.Styler at 0x24ad159d340>"
      ]
     },
     "execution_count": 6,
     "metadata": {},
     "output_type": "execute_result"
    }
   ],
   "source": [
    "import pandas as pd\n",
    "\n",
    "# Create a DataFrame\n",
    "data = {\n",
    "    'Chocolate': [43, 56],\n",
    "    'Plain': [57, 45]\n",
    "}\n",
    "\n",
    "index = ['Coffee', 'Tea']\n",
    "\n",
    "df = pd.DataFrame(data, index=index)\n",
    "\n",
    "# Define a style function to add borders for the table:\n",
    "def borders(s):\n",
    "    return f'border: 1px solid black;'\n",
    "\n",
    "# Apply the style function to the DataFrame\n",
    "df_border = df.style.applymap(borders)\n",
    "\n",
    "# Display the styled DataFrame\n",
    "df_border"
   ]
  },
  {
   "cell_type": "markdown",
   "id": "4c16cc61",
   "metadata": {},
   "source": [
    "For this table, we have 2 nominal variables:  \n",
    "- biscuits (chocolate/plain)  \n",
    "- drink (biscuits/tea)  "
   ]
  },
  {
   "cell_type": "markdown",
   "id": "b842733b",
   "metadata": {},
   "source": [
    "To calcule the chi-squared test we are going to transform the dataframe in a numpy array and then run the chi-squared test for contingency tables available in spicy.stats website.(1) Finally, we will compare the chi square results with and without the continuity correction."
   ]
  },
  {
   "cell_type": "code",
   "execution_count": 7,
   "id": "1f50bf9a",
   "metadata": {},
   "outputs": [
    {
     "name": "stderr",
     "output_type": "stream",
     "text": [
      "c:\\Users\\ROB\\anaconda3\\lib\\site-packages\\scipy\\__init__.py:146: UserWarning: A NumPy version >=1.16.5 and <1.23.0 is required for this version of SciPy (detected version 1.26.0\n",
      "  warnings.warn(f\"A NumPy version >={np_minversion} and <{np_maxversion}\"\n"
     ]
    },
    {
     "name": "stdout",
     "output_type": "stream",
     "text": [
      "╒═══════════════════════╤═══════════════════════════╤════════════════════════════╕\n",
      "│       Statistic       │  Value (correction=True)  │  Value (correction=False)  │\n",
      "╞═══════════════════════╪═══════════════════════════╪════════════════════════════╡\n",
      "│ Chi-squared Statistic │    2.6359100836554257     │          3.11394           │\n",
      "├───────────────────────┼───────────────────────────┼────────────────────────────┤\n",
      "│        P-value        │    0.10447218120907394    │         0.0776251          │\n",
      "├───────────────────────┼───────────────────────────┼────────────────────────────┤\n",
      "│  Degrees of Freedom   │             1             │             1              │\n",
      "├───────────────────────┼───────────────────────────┼────────────────────────────┤\n",
      "│ Expected Frequencies  │                           │                            │\n",
      "├───────────────────────┼───────────────────────────┼────────────────────────────┤\n",
      "│                       │     49.25373134328358     │          49.2537           │\n",
      "├───────────────────────┼───────────────────────────┼────────────────────────────┤\n",
      "│                       │     50.74626865671642     │          50.7463           │\n",
      "├───────────────────────┼───────────────────────────┼────────────────────────────┤\n",
      "│                       │     49.74626865671642     │          49.7463           │\n",
      "├───────────────────────┼───────────────────────────┼────────────────────────────┤\n",
      "│                       │     51.25373134328358     │          51.2537           │\n",
      "╘═══════════════════════╧═══════════════════════════╧════════════════════════════╛\n"
     ]
    }
   ],
   "source": [
    "import numpy as np\n",
    "from scipy.stats import chi2_contingency\n",
    "from tabulate import tabulate\n",
    "\n",
    "# Create numpy array with the contingency table\n",
    "observed_data = np.array([[43, 57], [56, 45]])\n",
    "\n",
    "# chi-squared test with \"correction=True\"\n",
    "chi2_stat, p_val, dof, expected = chi2_contingency(observed_data, correction=True)\n",
    "\n",
    "# chi-squared test with \"correction=False\"\n",
    "chi2_stat_no_correction, p_val_no_correction, dof_no_correction, expected_no_correction = chi2_contingency(observed_data, correction=False)\n",
    "\n",
    "# To display the results in a table\n",
    "table_data = [\n",
    "    [\"Chi-squared Statistic\", chi2_stat, chi2_stat_no_correction],\n",
    "    [\"P-value\", p_val, p_val_no_correction],\n",
    "    [\"Degrees of Freedom\", dof, dof_no_correction],\n",
    "    [\"Expected Frequencies\", \"\"],\n",
    "    [\"\", expected[0, 0], expected_no_correction[0, 0]],\n",
    "    [\"\", expected[0, 1], expected_no_correction[0, 1]],\n",
    "    [\"\", expected[1, 0], expected_no_correction[1, 0]],\n",
    "    [\"\", expected[1, 1], expected_no_correction[1, 1]],\n",
    "]\n",
    "\n",
    "table = tabulate(table_data, headers=[\"Statistic\", \"Value (correction=True)\", \"Value (correction=False)\"], tablefmt=\"fancy_grid\", colalign=(\"center\", \"center\", \"center\"))\n",
    "\n",
    "print(table)"
   ]
  },
  {
   "cell_type": "markdown",
   "id": "97f81b37",
   "metadata": {},
   "source": [
    "Results:  \n",
    "1. Chi-squared Statistic: the results for both (correction = True/False) are significantly greater than zero. This may suggest no relationship between drink and biscuit preference. \n",
    "2. P-Value: assuming a P-Value =< 0.05 as stadistically significant, the results for both (correction = True/False) suggest no relationship between drink and biscuit preference.  \n",
    "3. Correction (True/False): the continuity correction does not seem to have much effect on the overall result. "
   ]
  },
  {
   "cell_type": "markdown",
   "id": "b5749e03",
   "metadata": {},
   "source": [
    "REFERENCES  \n",
    "1. https://docs.scipy.org/doc/scipy/reference/generated/scipy.stats.chi2_contingency.html  "
   ]
  },
  {
   "cell_type": "markdown",
   "id": "d2f8ecbc",
   "metadata": {},
   "source": [
    "## TASK 3. T-Test\n",
    "\n",
    "***"
   ]
  },
  {
   "cell_type": "markdown",
   "id": "f2da52e4",
   "metadata": {},
   "source": [
    "Perform a t-test on the famous penguins data set to investigate whether there is evidence of a significant difference in the body mass of male and female gentoo penguins."
   ]
  },
  {
   "cell_type": "markdown",
   "id": "692a458e",
   "metadata": {},
   "source": [
    "The pinguins dataset was downloaded from https://github.com/mwaskom/seaborn-data/blob/master/penguins.csv"
   ]
  },
  {
   "cell_type": "markdown",
   "id": "1e5ac9df",
   "metadata": {},
   "source": [
    "First, we need to access the dataset using pandas. Then, we need to find the target columns and check the distribution before performing the t-test."
   ]
  },
  {
   "cell_type": "markdown",
   "id": "d37933c7",
   "metadata": {},
   "source": [
    "**READ AND DESCRIBE THE DATASET**"
   ]
  },
  {
   "cell_type": "code",
   "execution_count": 64,
   "id": "3c0b1db3",
   "metadata": {},
   "outputs": [
    {
     "name": "stdout",
     "output_type": "stream",
     "text": [
      "<class 'pandas.core.frame.DataFrame'>\n",
      "RangeIndex: 344 entries, 0 to 343\n",
      "Data columns (total 7 columns):\n",
      " #   Column             Non-Null Count  Dtype  \n",
      "---  ------             --------------  -----  \n",
      " 0   species            344 non-null    object \n",
      " 1   island             344 non-null    object \n",
      " 2   bill_length_mm     342 non-null    float64\n",
      " 3   bill_depth_mm      342 non-null    float64\n",
      " 4   flipper_length_mm  342 non-null    float64\n",
      " 5   body_mass_g        342 non-null    float64\n",
      " 6   sex                333 non-null    object \n",
      "dtypes: float64(4), object(3)\n",
      "memory usage: 18.9+ KB\n"
     ]
    }
   ],
   "source": [
    "# \"read_csv\" from pandas to open and read the dataset.\n",
    "import pandas as pd \n",
    "dt = pd.read_csv(\"datasets/penguins.csv\")\n",
    "# info () to see a summary of the dataset.\n",
    "dt.info()"
   ]
  },
  {
   "cell_type": "markdown",
   "id": "37ce4df3",
   "metadata": {},
   "source": [
    "Our target columns are 0 (\"species), 5 (\"body_mass_g\") and 6 (\"sex\"). Therefore, we need to extract our target population from the dataset (\"Gentoo penguins\"). Then separate by sex and select the parameter we want to test (\"body_mass\") "
   ]
  },
  {
   "cell_type": "code",
   "execution_count": 30,
   "id": "19ad4e4e",
   "metadata": {},
   "outputs": [
    {
     "data": {
      "text/plain": [
       "count        344\n",
       "unique         3\n",
       "top       Adelie\n",
       "freq         152\n",
       "Name: species, dtype: object"
      ]
     },
     "execution_count": 30,
     "metadata": {},
     "output_type": "execute_result"
    }
   ],
   "source": [
    "# Describe the \"species\" column. \n",
    "dt[\"species\"].describe()"
   ]
  },
  {
   "cell_type": "markdown",
   "id": "befbea9c",
   "metadata": {},
   "source": [
    "**EXTRACT THE DATA FROM THE DATASET**"
   ]
  },
  {
   "cell_type": "markdown",
   "id": "780d5e39",
   "metadata": {},
   "source": [
    "The unique value indicate that we have 3 categorical values in the dataset corresponding to 3 different species. Therefore, we need to extract the Gentoo species from the data."
   ]
  },
  {
   "cell_type": "code",
   "execution_count": 65,
   "id": "bdfa2bf6",
   "metadata": {},
   "outputs": [
    {
     "name": "stdout",
     "output_type": "stream",
     "text": [
      "Number of male samples: 61\n",
      "Number of female sample 58\n"
     ]
    }
   ],
   "source": [
    "# First, we extract in \"df\" variable the Gentoo penguins. \n",
    "df = dt.loc[dt[\"species\"]==\"Gentoo\"]\n",
    "\n",
    "# Separate by sex:\n",
    "male = df.loc[df[\"sex\"] == \"MALE\"]\n",
    "female = df.loc[df[\"sex\"] == \"FEMALE\"]\n",
    "\n",
    "# Count the number of samples in each sex:\n",
    "m_sample = male.shape[0]\n",
    "f_sample = female.shape[0]\n",
    "print(\"Number of male samples:\", m_sample)\n",
    "print(\"Number of female sample\",f_sample)"
   ]
  },
  {
   "cell_type": "markdown",
   "id": "eb403309",
   "metadata": {},
   "source": [
    "We have a difference of 3 samples between both sex due to NULL values. In order to keep both groups with the same number of samples, we are going to randomnly select 58 samples from the male group."
   ]
  },
  {
   "cell_type": "code",
   "execution_count": 32,
   "id": "ce8f642b",
   "metadata": {},
   "outputs": [
    {
     "data": {
      "text/plain": [
       "58"
      ]
     },
     "execution_count": 32,
     "metadata": {},
     "output_type": "execute_result"
    }
   ],
   "source": [
    "# Sample from pandas to select 58 random rows.\n",
    "male_random = male.sample(58)\n",
    "male_random.shape[0]"
   ]
  },
  {
   "cell_type": "markdown",
   "id": "748d6896",
   "metadata": {},
   "source": [
    "**DESCRIPTIVE STADISTICS**"
   ]
  },
  {
   "cell_type": "markdown",
   "id": "1ee4c224",
   "metadata": {},
   "source": [
    "Finally, we need to get the data only for the body_mass column for each group. "
   ]
  },
  {
   "cell_type": "code",
   "execution_count": 33,
   "id": "6b7bcef9",
   "metadata": {},
   "outputs": [
    {
     "name": "stdout",
     "output_type": "stream",
     "text": [
      "Gentoo male body mass descriptive stadistics:\n",
      "count      58.000000\n",
      "mean     5481.465517\n",
      "std       309.660267\n",
      "min      4750.000000\n",
      "25%      5300.000000\n",
      "50%      5500.000000\n",
      "75%      5700.000000\n",
      "max      6300.000000\n",
      "Name: body_mass_g, dtype: float64\n",
      "\n",
      "Gentoo female body mass descriptive stadistics:\n",
      "count      58.000000\n",
      "mean     4679.741379\n",
      "std       281.578294\n",
      "min      3950.000000\n",
      "25%      4462.500000\n",
      "50%      4700.000000\n",
      "75%      4875.000000\n",
      "max      5200.000000\n",
      "Name: body_mass_g, dtype: float64\n"
     ]
    }
   ],
   "source": [
    "male_mass = male_random[\"body_mass_g\"]\n",
    "female_mass = female[\"body_mass_g\"]\n",
    "print(\"Gentoo male body mass descriptive stadistics:\")\n",
    "print(male_mass.describe())\n",
    "print()\n",
    "print(\"Gentoo female body mass descriptive stadistics:\")\n",
    "print(female_mass.describe())"
   ]
  },
  {
   "cell_type": "markdown",
   "id": "bfc91b2d",
   "metadata": {},
   "source": [
    "From the descriptive analysis, we can see that, on average, the body mass of the male Gentoo is higher than the female Gentoo. Using an histogram we can see how the body mass values for each sex are distributed."
   ]
  },
  {
   "cell_type": "markdown",
   "id": "d7fce594",
   "metadata": {},
   "source": [
    "**GENTOO BODY MASS/SEX HISTOGRAM**"
   ]
  },
  {
   "cell_type": "code",
   "execution_count": 81,
   "id": "95ebdd1a",
   "metadata": {},
   "outputs": [
    {
     "data": {
      "image/png": "[encoded data removed]",
      "text/plain": [
       "<Figure size 864x576 with 2 Axes>"
      ]
     },
     "metadata": {
      "needs_background": "light"
     },
     "output_type": "display_data"
    }
   ],
   "source": [
    "# Histogram for Gentoo body mass by sex.\n",
    "import matplotlib.pyplot as plt\n",
    "\n",
    "# Create the dataframe:\n",
    "data = pd.DataFrame({\n",
    "    \"male mass\": male_mass,\n",
    "    \"female mass\": female_mass\n",
    "})\n",
    "\n",
    "# Create histograms\n",
    "plt.figure(figsize=(12, 8))\n",
    "\n",
    "# Histogram for male_mass\n",
    "plt.subplot(2, 1, 1)\n",
    "plt.hist(data[\"male mass\"], bins=10, color=\"blue\", alpha=0.3)\n",
    "mean_male = hist[\"male mass\"].mean() # Mean male body mass\n",
    "plt.axvline(mean_male, color='red', linestyle='dashed', linewidth=2, label=f'Mean Male Mass: {mean_male:.2f}')  # Add mean lines\n",
    "plt.title(\"Male Mass Histogram\")\n",
    "plt.xlabel(\"Mass\")\n",
    "plt.ylabel(\"Frequency\")\n",
    "plt.xlim(3500, 7000)\n",
    "\n",
    "# Histogram for female_mass\n",
    "plt.subplot(2, 1, 2)\n",
    "plt.hist(data[\"female mass\"], bins=10, color=\"green\", alpha=0.3)\n",
    "mean_female = hist[\"female mass\"].mean()  # Mean female body mass\n",
    "plt.axvline(mean_female, color='red', linestyle='dashed', linewidth=2, label=f'Mean Female Mass: {mean_female:.2f}')  # Add mean lines\n",
    "plt.title(\"Female Mass Histogram\")\n",
    "plt.xlabel(\"Mass\")\n",
    "plt.ylabel(\"Frequency\")\n",
    "plt.xlim(3500, 7000)\n",
    "\n",
    "# Adjust layout\n",
    "plt.tight_layout()\n",
    "\n",
    "# Show the plots\n",
    "plt.show()"
   ]
  },
  {
   "cell_type": "markdown",
   "id": "d03e6dc9",
   "metadata": {},
   "source": [
    "The histogram shows: \n",
    "- Differences between the male and female body mass. Overall, the male body mass seems to be higher than the female body mass in the Gentoo species. \n",
    "- Data seems to be normally distributed for both, male and female body mass. \n",
    "\n",
    "In order to perform the T-test, we need to confirm whether the data comes from a normally distribution or not. Since the t-test assumes that the sample mean approaches a normal distribution. To confirm it, we are going to do a probability plot and the shapiro-wilk test."
   ]
  },
  {
   "cell_type": "markdown",
   "id": "6914d7bf",
   "metadata": {},
   "source": [
    "**PROBABILITY PLOT**"
   ]
  },
  {
   "cell_type": "markdown",
   "id": "6e0abc6c",
   "metadata": {},
   "source": [
    "The probability plot is a graphical technique which allows to assess whether a data set follows a distribution such as the normal distribution.(1)"
   ]
  },
  {
   "cell_type": "markdown",
   "id": "f741e099",
   "metadata": {},
   "source": [
    "We are going to use the \"scipy.stats.probplot\" from spicy stats to generate the probability plot of both (male and female body mass) againts the quantiles of a normal distribution.(2) If the data is normally distributed, the points will be close to the diagonal line.(3)"
   ]
  },
  {
   "cell_type": "code",
   "execution_count": 78,
   "id": "1b5fc4f7",
   "metadata": {},
   "outputs": [
    {
     "data": {
      "image/png": "[encoded data removed]",
      "text/plain": [
       "<Figure size 864x432 with 2 Axes>"
      ]
     },
     "metadata": {
      "needs_background": "light"
     },
     "output_type": "display_data"
    }
   ],
   "source": [
    "from scipy.stats import probplot\n",
    "import seaborn as sns\n",
    "\n",
    "# Create a figure with two subplots\n",
    "fig, axes = plt.subplots(nrows=1, ncols=2, figsize=(12, 6))\n",
    "\n",
    "# Probability plot for male_mass\n",
    "probplot(male_mass, plot=axes[0])\n",
    "axes[0].set_title(\"Male Mass - Probability Plot\")\n",
    "\n",
    "# Probability plot for female_mass\n",
    "probplot(female_mass, plot=axes[1])\n",
    "axes[1].set_title(\"Female Mass - Probability Plot\")\n",
    "\n",
    "# Adjust layout\n",
    "plt.tight_layout()\n",
    "\n",
    "# Show the plots\n",
    "plt.show()"
   ]
  },
  {
   "cell_type": "markdown",
   "id": "5e19920b",
   "metadata": {},
   "source": [
    "The male and female body mass seem to closely follow a straight line, suggesting that the data for both variables are approximately normally distributed. "
   ]
  },
  {
   "cell_type": "markdown",
   "id": "8ac847ac",
   "metadata": {},
   "source": [
    "**SHAPIRO-WILK TEST**"
   ]
  },
  {
   "cell_type": "markdown",
   "id": "8ca2872f",
   "metadata": {},
   "source": [
    "The Shapiro-Wilk test tests the null hypothesis that the data was drawn from a normal distribution.(4)\n",
    "\n",
    "We are going to use the \"scipy.stats.shapiro\" from spicicy.stats.(4)\n",
    "\n",
    "If the p-value is small, there is a low probability that the data comes from a normal distribution, providing evidence against the null hypothesis.(4)"
   ]
  },
  {
   "cell_type": "code",
   "execution_count": 96,
   "id": "ae24d8c5",
   "metadata": {},
   "outputs": [
    {
     "name": "stdout",
     "output_type": "stream",
     "text": [
      "╒═════════════╤══════════════════╤═══════════╕\n",
      "│ Variable    │   Test Statistic │   p-value │\n",
      "╞═════════════╪══════════════════╪═══════════╡\n",
      "│ Male Mass   │         0.993958 │  0.992929 │\n",
      "├─────────────┼──────────────────┼───────────┤\n",
      "│ Female Mass │         0.981331 │  0.510652 │\n",
      "╘═════════════╧══════════════════╧═══════════╛\n"
     ]
    }
   ],
   "source": [
    "from scipy.stats import shapiro\n",
    "\n",
    "# Shapiro-Wilk test\n",
    "stat, p_value = shapiro(male_mass)\n",
    "statf, p_valuef = shapiro(female_mass)\n",
    "\n",
    "# Create a table\n",
    "table_data = {\n",
    "    \"Variable\": [\"Male Mass\", \"Female Mass\"],\n",
    "    \"Test Statistic\": [stat, statf],\n",
    "    \"p-value\": [p_value, p_valuef],\n",
    "}\n",
    "\n",
    "# Display the table\n",
    "shapiro_table = tabulate(table_data, headers=\"keys\", tablefmt=\"fancy_grid\")\n",
    "print(shapiro_table)"
   ]
  },
  {
   "cell_type": "markdown",
   "id": "fe90850e",
   "metadata": {},
   "source": [
    "Male and Female body mass have a high p-value, showing evidence against the null hypothesis. "
   ]
  },
  {
   "cell_type": "markdown",
   "id": "e0d234e3",
   "metadata": {},
   "source": [
    "The results from the probability plot and the Shapiro-Wilk test indicate that male and female body mass approaches a normal distribution. "
   ]
  },
  {
   "cell_type": "markdown",
   "id": "0601a5c8",
   "metadata": {},
   "source": [
    "We can now perform the t-test to find out whether the difference seen between male and female body mass in Gentoo species is statistically significant or not."
   ]
  },
  {
   "cell_type": "markdown",
   "id": "3a1ab30f",
   "metadata": {},
   "source": [
    "**T-TEST**  \n"
   ]
  },
  {
   "cell_type": "markdown",
   "id": "8065d265",
   "metadata": {},
   "source": [
    "Using \"scipy.stats.ttest_ind\" from spicy.stats, we can calculate the t-test for the means of two independent samples.(4)"
   ]
  },
  {
   "cell_type": "markdown",
   "id": "aa1dd752",
   "metadata": {},
   "source": [
    "For the null hypothesis, we can assume that the 2 independent samples have identical average values.(4)"
   ]
  },
  {
   "cell_type": "code",
   "execution_count": 68,
   "id": "a93b22db",
   "metadata": {},
   "outputs": [
    {
     "name": "stdout",
     "output_type": "stream",
     "text": [
      "T-statistic: 14.588205774720215\n",
      "P-value: 7.798453449692411e-28\n"
     ]
    }
   ],
   "source": [
    "from scipy.stats import ttest_ind\n",
    "\n",
    "# t-test:\n",
    "t_statistic, p_value = ttest_ind(male_mass, female_mass)\n",
    "\n",
    "# Display the results\n",
    "print(f\"T-statistic: {t_statistic}\")\n",
    "print(f\"P-value: {p_value}\")"
   ]
  },
  {
   "cell_type": "markdown",
   "id": "4cf6d2b5",
   "metadata": {},
   "source": [
    "**RESULTS**"
   ]
  },
  {
   "cell_type": "markdown",
   "id": "c4887825",
   "metadata": {},
   "source": [
    "1. The T-statistic value measures indicates a big difference between both sample group means.  \n",
    "2. The low p-value indicates that this difference is statistically significant. \n",
    "3. Therefore, there is a statistically significant difference in the body mass between male and female gentoo penguins."
   ]
  },
  {
   "cell_type": "markdown",
   "id": "b67991c8",
   "metadata": {},
   "source": [
    "**References**\n",
    "1. Probability plot: https://www.itl.nist.gov/div898/handbook/eda/section3/probplot.htm  \n",
    "2. Spicy.stats Probability Plot: https://docs.scipy.org/doc/scipy/reference/generated/scipy.stats.probplot.html  \n",
    "3. Laerd Statistics: https://statistics.laerd.com/spss-tutorials/testing-for-normality-using-spss-statistics.php  \n",
    "4. Spicy.stats Shapiro test: https://docs.scipy.org/doc/scipy/reference/generated/scipy.stats.shapiro.html  \n",
    "5. Spicy.stats website (https://docs.scipy.org/doc/scipy/reference/generated/scipy.stats.ttest_ind.html)"
   ]
  },
  {
   "cell_type": "markdown",
   "id": "8e234eb2",
   "metadata": {},
   "source": [
    "## TASK 4. THE SETOSA CLASS\n",
    "\n",
    "***"
   ]
  },
  {
   "cell_type": "markdown",
   "id": "ae76074a",
   "metadata": {},
   "source": [
    "Using the famous iris data set suggest whether the setosa class is easily separable from the other two classes. Provide evidence for your answer."
   ]
  },
  {
   "cell_type": "markdown",
   "id": "0908bfd6",
   "metadata": {},
   "source": [
    "Iris – UCI Machine Learning Repository.\n",
    "Aug. 17, 2023. url: https://archive.\n",
    "ics.uci.edu/dataset/53/iris\n",
    "(visited on 08/17/2023)."
   ]
  },
  {
   "cell_type": "markdown",
   "id": "94667163",
   "metadata": {},
   "source": []
  },
  {
   "cell_type": "code",
   "execution_count": 35,
   "id": "d5e29b63",
   "metadata": {},
   "outputs": [
    {
     "name": "stdout",
     "output_type": "stream",
     "text": [
      "<class 'pandas.core.frame.DataFrame'>\n",
      "RangeIndex: 150 entries, 0 to 149\n",
      "Data columns (total 5 columns):\n",
      " #   Column        Non-Null Count  Dtype  \n",
      "---  ------        --------------  -----  \n",
      " 0   sepal_length  150 non-null    float64\n",
      " 1   sepal_width   150 non-null    float64\n",
      " 2   petal_length  150 non-null    float64\n",
      " 3   petal_width   150 non-null    float64\n",
      " 4   class         150 non-null    object \n",
      "dtypes: float64(4), object(1)\n",
      "memory usage: 6.0+ KB\n"
     ]
    }
   ],
   "source": [
    "import pandas as pd\n",
    "# \"read_csv\" from pandas to open and read the dataset. \n",
    "iris_ds = pd.read_csv(\"datasets/iris.csv\")\n",
    "idf = pd.DataFrame(iris_ds)\n",
    "classes = idf[\"class\"].unique()\n",
    "iris_ds.info()\n"
   ]
  },
  {
   "cell_type": "code",
   "execution_count": 36,
   "id": "baa4b105",
   "metadata": {},
   "outputs": [],
   "source": [
    "# Create an histogram\n",
    "# check that the values are normally distributed"
   ]
  },
  {
   "cell_type": "markdown",
   "id": "feee821e",
   "metadata": {},
   "source": [
    "**SEPAL LENGTH**"
   ]
  },
  {
   "cell_type": "code",
   "execution_count": 37,
   "id": "a4cb2edf",
   "metadata": {},
   "outputs": [],
   "source": [
    "\n",
    "from scipy.stats import ttest_ind\n",
    "\n",
    "def sepal_length (): \n",
    "    sepal_lengths_by_class = {}\n",
    "\n",
    "    for class_name in classes:\n",
    "        class_df = idf[idf[\"class\"] == class_name]\n",
    "        sepal_lengths_by_class[class_name] = class_df[\"sepal_length\"].tolist()\n",
    "\n",
    "    return sepal_lengths_by_class\n",
    "\n",
    "sepal_lengths_by_class = sepal_length()\n",
    "\n",
    "def t_test_sepal_length(class1, class2, alpha=0.05):\n",
    "    \n",
    "    t_statistic, p_value = ttest_ind(class1, class2)\n",
    "    \n",
    "    result = {\n",
    "        \"T-statistic\": t_statistic,\n",
    "        \"P-value\": p_value,\n",
    "        \n",
    "    }\n",
    "\n",
    "    return result\n",
    "\n",
    "# List to store the results of t-tests\n",
    "t_test_setosa_vs_virginica = []\n",
    "t_test_setosa_vs_versicolor = []\n",
    "\n",
    "# Call the function for Setosa vs Virginica and append the result to the list\n",
    "t_test_result = t_test_sepal_length(sepal_lengths_by_class[\"setosa\"], sepal_lengths_by_class[\"virginica\"])\n",
    "t_test_setosa_vs_virginica.append(t_test_result)\n",
    "\n",
    "# Call the function for Setosa vs Versicolor and append the result to the list\n",
    "t_test_result = t_test_sepal_length(sepal_lengths_by_class[\"setosa\"], sepal_lengths_by_class[\"versicolor\"])\n",
    "t_test_setosa_vs_versicolor.append(t_test_result)"
   ]
  },
  {
   "cell_type": "markdown",
   "id": "67ba5a60",
   "metadata": {},
   "source": [
    "**PETAL LENGTH**"
   ]
  },
  {
   "cell_type": "code",
   "execution_count": 38,
   "id": "4c676021",
   "metadata": {},
   "outputs": [],
   "source": [
    "def petal_length (): \n",
    "    petal_lengths_by_class = {}\n",
    "\n",
    "    for class_name in classes:\n",
    "        class_df = idf[idf[\"class\"] == class_name]\n",
    "        petal_lengths_by_class[class_name] = class_df[\"petal_length\"].tolist()\n",
    "\n",
    "    return petal_lengths_by_class\n",
    "\n",
    "petal_lengths_by_class = petal_length()\n",
    "\n",
    "def t_test_petal_length(class1, class2, alpha=0.05):\n",
    "    \n",
    "    t_statistic, p_value = ttest_ind(class1, class2)\n",
    "    \n",
    "    result = {\n",
    "        \"T-statistic\": t_statistic,\n",
    "        \"P-value\": p_value,\n",
    "    }\n",
    "\n",
    "    return result\n",
    "\n",
    "# List to store the results of t-tests\n",
    "t_test_setosa_vs_virginica_pl = []\n",
    "t_test_setosa_vs_versicolor_pl= []\n",
    "\n",
    "# Call the function for Setosa vs Virginica and append the result to the list\n",
    "t_test_result = t_test_petal_length(petal_lengths_by_class[\"setosa\"], petal_lengths_by_class[\"virginica\"])\n",
    "t_test_setosa_vs_virginica_pl.append(t_test_result)\n",
    "\n",
    "# Call the function for Setosa vs Versicolor and append the result to the list\n",
    "t_test_result = t_test_petal_length(petal_lengths_by_class[\"setosa\"], petal_lengths_by_class[\"versicolor\"])\n",
    "t_test_setosa_vs_versicolor_pl.append(t_test_result)"
   ]
  },
  {
   "cell_type": "markdown",
   "id": "a472837a",
   "metadata": {},
   "source": [
    "**SEPAL WIDTH**"
   ]
  },
  {
   "cell_type": "code",
   "execution_count": 39,
   "id": "9dff6392",
   "metadata": {},
   "outputs": [],
   "source": [
    "def sepal_width (): \n",
    "    sepal_widths_by_class = {}\n",
    "\n",
    "    for class_name in classes:\n",
    "        class_df = idf[idf[\"class\"] == class_name]\n",
    "        sepal_widths_by_class[class_name] = class_df[\"sepal_width\"].tolist()\n",
    "\n",
    "    return sepal_widths_by_class\n",
    "\n",
    "sepal_widths_by_class = sepal_width()\n",
    "\n",
    "def t_test_sepal_width(class1, class2, alpha=0.05):\n",
    "    \n",
    "    t_statistic, p_value = ttest_ind(class1, class2)\n",
    "    \n",
    "    result = {\n",
    "        \"T-statistic\": t_statistic,\n",
    "        \"P-value\": p_value,\n",
    "        \n",
    "    }\n",
    "\n",
    "    return result\n",
    "\n",
    "# List to store the results of t-tests\n",
    "t_test_setosa_vs_virginica_sw = []\n",
    "t_test_setosa_vs_versicolor_sw= []\n",
    "\n",
    "# Call the function for Setosa vs Virginica and append the result to the list\n",
    "t_test_result = t_test_sepal_width(sepal_widths_by_class[\"setosa\"], sepal_widths_by_class[\"virginica\"])\n",
    "t_test_setosa_vs_virginica_sw.append(t_test_result)\n",
    "\n",
    "# Call the function for Setosa vs Versicolor and append the result to the list\n",
    "t_test_result = t_test_sepal_width(sepal_widths_by_class[\"setosa\"], sepal_widths_by_class[\"versicolor\"])\n",
    "t_test_setosa_vs_versicolor_sw.append(t_test_result)"
   ]
  },
  {
   "cell_type": "markdown",
   "id": "4336de5d",
   "metadata": {},
   "source": [
    "**PETAL WIDTH**"
   ]
  },
  {
   "cell_type": "code",
   "execution_count": 40,
   "id": "25777e18",
   "metadata": {},
   "outputs": [],
   "source": [
    "def petal_width (): \n",
    "    petal_widths_by_class = {}\n",
    "\n",
    "    for class_name in classes:\n",
    "        class_df = idf[idf[\"class\"] == class_name]\n",
    "        petal_widths_by_class[class_name] = class_df[\"petal_width\"].tolist()\n",
    "\n",
    "    return petal_widths_by_class\n",
    "\n",
    "petal_widths_by_class = petal_width()\n",
    "\n",
    "def t_test_petal_width(class1, class2, alpha=0.05):\n",
    "    \n",
    "    t_statistic, p_value = ttest_ind(class1, class2)\n",
    "    \n",
    "    result = {\n",
    "        \"T-statistic\": t_statistic,\n",
    "        \"P-value\": p_value,\n",
    "        \n",
    "    }\n",
    "\n",
    "    return result\n",
    "\n",
    "# List to store the results of t-tests\n",
    "t_test_setosa_vs_virginica_pw = []\n",
    "t_test_setosa_vs_versicolor_pw= []\n",
    "\n",
    "# Call the function for Setosa vs Virginica and append the result to the list\n",
    "t_test_result = t_test_petal_width(petal_widths_by_class[\"setosa\"], petal_widths_by_class[\"virginica\"])\n",
    "t_test_setosa_vs_virginica_pw.append(t_test_result)\n",
    "\n",
    "# Call the function for Setosa vs Versicolor and append the result to the list\n",
    "t_test_result = t_test_petal_width(petal_widths_by_class[\"setosa\"], petal_widths_by_class[\"versicolor\"])\n",
    "t_test_setosa_vs_versicolor_pw.append(t_test_result)"
   ]
  },
  {
   "cell_type": "markdown",
   "id": "77dbe174",
   "metadata": {},
   "source": [
    "**RESULTS**"
   ]
  },
  {
   "cell_type": "code",
   "execution_count": 41,
   "id": "77cb0197",
   "metadata": {},
   "outputs": [
    {
     "name": "stdout",
     "output_type": "stream",
     "text": [
      "╒══════════════╤══════════════════════╤═══════════════╤═════════════╕\n",
      "│ Feature      │ Comparison           │   T-statistic │     P-value │\n",
      "╞══════════════╪══════════════════════╪═══════════════╪═════════════╡\n",
      "│ Sepal Length │ Setosa vs Virginica  │     -15.3862  │ 6.89255e-28 │\n",
      "├──────────────┼──────────────────────┼───────────────┼─────────────┤\n",
      "│ Sepal Length │ Setosa vs Versicolor │     -10.521   │ 8.98524e-18 │\n",
      "├──────────────┼──────────────────────┼───────────────┼─────────────┤\n",
      "│ Petal Length │ Setosa vs Virginica  │     -49.9657  │ 1.56412e-71 │\n",
      "├──────────────┼──────────────────────┼───────────────┼─────────────┤\n",
      "│ Petal Length │ Setosa vs Versicolor │     -39.4687  │ 5.71746e-62 │\n",
      "├──────────────┼──────────────────────┼───────────────┼─────────────┤\n",
      "│ Sepal Width  │ Setosa vs Virginica  │       6.28938 │ 8.91663e-09 │\n",
      "├──────────────┼──────────────────────┼───────────────┼─────────────┤\n",
      "│ Sepal Width  │ Setosa vs Versicolor │       9.28277 │ 4.36224e-15 │\n",
      "├──────────────┼──────────────────────┼───────────────┼─────────────┤\n",
      "│ Petal Width  │ Setosa vs Virginica  │     -42.7382  │ 3.58272e-65 │\n",
      "├──────────────┼──────────────────────┼───────────────┼─────────────┤\n",
      "│ Petal Width  │ Setosa vs Versicolor │     -34.0124  │ 4.58908e-56 │\n",
      "╘══════════════╧══════════════════════╧═══════════════╧═════════════╛\n"
     ]
    }
   ],
   "source": [
    "import pandas as pd\n",
    "\n",
    "# Results for sepal length\n",
    "sepal_length_results = [\n",
    "    {'T-statistic': t_test_setosa_vs_virginica[0][\"T-statistic\"], 'P-value': t_test_setosa_vs_virginica[0][\"P-value\"]},\n",
    "    {'T-statistic': t_test_setosa_vs_versicolor[0][\"T-statistic\"], 'P-value': t_test_setosa_vs_versicolor[0][\"P-value\"]}\n",
    "]\n",
    "\n",
    "# Results for petal length\n",
    "petal_length_results = [\n",
    "    {'T-statistic': t_test_setosa_vs_virginica_pl[0][\"T-statistic\"], 'P-value': t_test_setosa_vs_virginica_pl[0][\"P-value\"]},\n",
    "    {'T-statistic': t_test_setosa_vs_versicolor_pl[0][\"T-statistic\"], 'P-value': t_test_setosa_vs_versicolor_pl[0][\"P-value\"]}\n",
    "]\n",
    "\n",
    "# Results for sepal width\n",
    "sepal_width_results = [\n",
    "    {'T-statistic': t_test_setosa_vs_virginica_sw[0][\"T-statistic\"], 'P-value': t_test_setosa_vs_virginica_sw[0][\"P-value\"]},\n",
    "    {'T-statistic': t_test_setosa_vs_versicolor_sw[0][\"T-statistic\"], 'P-value': t_test_setosa_vs_versicolor_sw[0][\"P-value\"]}\n",
    "]\n",
    "\n",
    "# Results for petal width\n",
    "petal_width_results = [\n",
    "    {'T-statistic': t_test_setosa_vs_virginica_pw[0][\"T-statistic\"], 'P-value': t_test_setosa_vs_virginica_pw[0][\"P-value\"]},\n",
    "    {'T-statistic': t_test_setosa_vs_versicolor_pw[0][\"T-statistic\"], 'P-value': t_test_setosa_vs_versicolor_pw[0][\"P-value\"]}\n",
    "]\n",
    "\n",
    "# Creating a DataFrame\n",
    "df = pd.DataFrame({\n",
    "    'Feature': ['Sepal Length', 'Sepal Length', 'Petal Length', 'Petal Length', 'Sepal Width', 'Sepal Width', 'Petal Width', 'Petal Width'],\n",
    "    'Comparison': ['Setosa vs Virginica', 'Setosa vs Versicolor'] * 4,\n",
    "    'T-statistic': [result['T-statistic'] for result in sepal_length_results + petal_length_results + sepal_width_results + petal_width_results],\n",
    "    'P-value': [result['P-value'] for result in sepal_length_results + petal_length_results + sepal_width_results + petal_width_results]\n",
    "})\n",
    "\n",
    "\n",
    "from tabulate import tabulate\n",
    "# Display the DataFrame in a table using tabulate\n",
    "table = tabulate(df, headers='keys', tablefmt='fancy_grid', showindex=False)\n",
    "\n",
    "print(table)"
   ]
  },
  {
   "cell_type": "markdown",
   "id": "ef9df1e2",
   "metadata": {},
   "source": [
    "Petal Length │ Setosa vs Virginica  │     -49.9657  │ 1.56412e-71\n",
    "\n",
    "p value = \n",
    "\n",
    "null hypothesis = the means of both species are equal. the p value means that the probability of the means for both groups being equal is really unlike. "
   ]
  },
  {
   "cell_type": "markdown",
   "id": "953e0448",
   "metadata": {},
   "source": []
  }
 ],
 "metadata": {
  "kernelspec": {
   "display_name": "Python 3 (ipykernel)",
   "language": "python",
   "name": "python3"
  },
  "language_info": {
   "codemirror_mode": {
    "name": "ipython",
    "version": 3
   },
   "file_extension": ".py",
   "mimetype": "text/x-python",
   "name": "python",
   "nbconvert_exporter": "python",
   "pygments_lexer": "ipython3",
   "version": "3.9.7"
  }
 },
 "nbformat": 4,
 "nbformat_minor": 5
}
